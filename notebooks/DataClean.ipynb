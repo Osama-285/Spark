{
 "cells": [
  {
   "cell_type": "code",
   "execution_count": 1,
   "id": "b867327b-58ea-4428-b280-8b7c64e134e0",
   "metadata": {},
   "outputs": [],
   "source": [
    "from pyspark.sql import SparkSession\n",
    "\n",
    "spark = SparkSession.builder.appName(\"clean\").getOrCreate()"
   ]
  },
  {
   "cell_type": "code",
   "execution_count": 2,
   "id": "1edb37f3-d952-4a03-89e8-7bd55b4302ae",
   "metadata": {},
   "outputs": [
    {
     "data": {
      "text/html": [
       "\n",
       "            <div>\n",
       "                <p><b>SparkSession - in-memory</b></p>\n",
       "                \n",
       "        <div>\n",
       "            <p><b>SparkContext</b></p>\n",
       "\n",
       "            <p><a href=\"http://25980bb9571e:4040\">Spark UI</a></p>\n",
       "\n",
       "            <dl>\n",
       "              <dt>Version</dt>\n",
       "                <dd><code>v3.5.3</code></dd>\n",
       "              <dt>Master</dt>\n",
       "                <dd><code>local[*]</code></dd>\n",
       "              <dt>AppName</dt>\n",
       "                <dd><code>clean</code></dd>\n",
       "            </dl>\n",
       "        </div>\n",
       "        \n",
       "            </div>\n",
       "        "
      ],
      "text/plain": [
       "<pyspark.sql.session.SparkSession at 0x7f943805ea00>"
      ]
     },
     "execution_count": 2,
     "metadata": {},
     "output_type": "execute_result"
    }
   ],
   "source": [
    "spark"
   ]
  },
  {
   "cell_type": "code",
   "execution_count": 4,
   "id": "df90234b-e1fb-48f4-ade3-db0f57130087",
   "metadata": {},
   "outputs": [
    {
     "name": "stdout",
     "output_type": "stream",
     "text": [
      "root\n",
      " |-- Category: string (nullable = true)\n",
      " |-- City: string (nullable = true)\n",
      " |-- Country: string (nullable = true)\n",
      " |-- Customer.ID: string (nullable = true)\n",
      " |-- Customer.Name: string (nullable = true)\n",
      " |-- Discount: double (nullable = true)\n",
      " |-- Market: string (nullable = true)\n",
      " |-- 记录数: integer (nullable = true)\n",
      " |-- Order.Date: timestamp (nullable = true)\n",
      " |-- Order.ID: string (nullable = true)\n",
      " |-- Order.Priority: string (nullable = true)\n",
      " |-- Product.ID: string (nullable = true)\n",
      " |-- Product.Name: string (nullable = true)\n",
      " |-- Profit: string (nullable = true)\n",
      " |-- Quantity: string (nullable = true)\n",
      " |-- Region: string (nullable = true)\n",
      " |-- Row.ID: string (nullable = true)\n",
      " |-- Sales: string (nullable = true)\n",
      " |-- Segment: string (nullable = true)\n",
      " |-- Ship.Date: string (nullable = true)\n",
      " |-- Ship.Mode: string (nullable = true)\n",
      " |-- Shipping.Cost: string (nullable = true)\n",
      " |-- State: string (nullable = true)\n",
      " |-- Sub.Category: string (nullable = true)\n",
      " |-- Year: string (nullable = true)\n",
      " |-- Market2: string (nullable = true)\n",
      " |-- weeknum: string (nullable = true)\n",
      "\n"
     ]
    }
   ],
   "source": [
    "df = spark.read.csv(\"superstore.csv\", header=True, inferSchema=True)\n",
    "df.printSchema()"
   ]
  },
  {
   "cell_type": "code",
   "execution_count": 7,
   "id": "1d8bb56d-739f-4e55-82fb-2a386f94d661",
   "metadata": {},
   "outputs": [
    {
     "name": "stdout",
     "output_type": "stream",
     "text": [
      "['Customer.ID', 'Customer.Name', '记录数', 'Order.Date', 'Order.ID', 'Order.Priority', 'Product.ID', 'Product.Name', 'Row.ID', 'Ship.Date', 'Ship.Mode', 'Shipping.Cost', 'Sub.Category']\n"
     ]
    }
   ],
   "source": [
    "def is_english(colName):\n",
    "    return all(ord(char) < 128 for char in colName)\n",
    "\n",
    "colNameClean = [validCol for validCol in df.columns if not is_english(validCol) or \".\" in validCol]\n",
    "print(colNameClean)"
   ]
  },
  {
   "cell_type": "code",
   "execution_count": 8,
   "id": "7d45fba9-e61d-4654-b749-ca40279b80c6",
   "metadata": {},
   "outputs": [
    {
     "name": "stdout",
     "output_type": "stream",
     "text": [
      "root\n",
      " |-- Category: string (nullable = true)\n",
      " |-- City: string (nullable = true)\n",
      " |-- Country: string (nullable = true)\n",
      " |-- Customer_ID: string (nullable = true)\n",
      " |-- Customer_Name: string (nullable = true)\n",
      " |-- Discount: double (nullable = true)\n",
      " |-- Market: string (nullable = true)\n",
      " |-- 记录数: integer (nullable = true)\n",
      " |-- Order_Date: timestamp (nullable = true)\n",
      " |-- Order_ID: string (nullable = true)\n",
      " |-- Order_Priority: string (nullable = true)\n",
      " |-- Product_ID: string (nullable = true)\n",
      " |-- Product_Name: string (nullable = true)\n",
      " |-- Profit: string (nullable = true)\n",
      " |-- Quantity: string (nullable = true)\n",
      " |-- Region: string (nullable = true)\n",
      " |-- Row_ID: string (nullable = true)\n",
      " |-- Sales: string (nullable = true)\n",
      " |-- Segment: string (nullable = true)\n",
      " |-- Ship_Date: string (nullable = true)\n",
      " |-- Ship_Mode: string (nullable = true)\n",
      " |-- Shipping_Cost: string (nullable = true)\n",
      " |-- State: string (nullable = true)\n",
      " |-- Sub_Category: string (nullable = true)\n",
      " |-- Year: string (nullable = true)\n",
      " |-- Market2: string (nullable = true)\n",
      " |-- weeknum: string (nullable = true)\n",
      "\n"
     ]
    }
   ],
   "source": [
    "for validCol in df.columns:\n",
    "    new_col = validCol.replace(\".\" ,\"_\")\n",
    "    df = df.withColumnRenamed(validCol,new_col)\n",
    "    \n",
    "df.printSchema()"
   ]
  },
  {
   "cell_type": "code",
   "execution_count": 9,
   "id": "3544d70d-bf6d-4386-ac88-f7d1f059d4e8",
   "metadata": {},
   "outputs": [
    {
     "name": "stdout",
     "output_type": "stream",
     "text": [
      "root\n",
      " |-- Category: string (nullable = true)\n",
      " |-- City: string (nullable = true)\n",
      " |-- Country: string (nullable = true)\n",
      " |-- Customer_ID: string (nullable = true)\n",
      " |-- Customer_Name: string (nullable = true)\n",
      " |-- Discount: double (nullable = true)\n",
      " |-- Market: string (nullable = true)\n",
      " |-- Order_Date: timestamp (nullable = true)\n",
      " |-- Order_ID: string (nullable = true)\n",
      " |-- Order_Priority: string (nullable = true)\n",
      " |-- Product_ID: string (nullable = true)\n",
      " |-- Product_Name: string (nullable = true)\n",
      " |-- Profit: string (nullable = true)\n",
      " |-- Quantity: string (nullable = true)\n",
      " |-- Region: string (nullable = true)\n",
      " |-- Row_ID: string (nullable = true)\n",
      " |-- Sales: string (nullable = true)\n",
      " |-- Segment: string (nullable = true)\n",
      " |-- Ship_Date: string (nullable = true)\n",
      " |-- Ship_Mode: string (nullable = true)\n",
      " |-- Shipping_Cost: string (nullable = true)\n",
      " |-- State: string (nullable = true)\n",
      " |-- Sub_Category: string (nullable = true)\n",
      " |-- Year: string (nullable = true)\n",
      " |-- Market2: string (nullable = true)\n",
      " |-- weeknum: string (nullable = true)\n",
      "\n"
     ]
    }
   ],
   "source": [
    "non_english_columns = [col for col in df.columns if not is_english(col)]\n",
    "df_cleaned = df.drop(*non_english_columns)\n",
    "\n",
    "df_cleaned.printSchema()"
   ]
  },
  {
   "cell_type": "code",
   "execution_count": 10,
   "id": "c07a99db-fbf2-48d6-849e-3d2f04d6e21e",
   "metadata": {},
   "outputs": [
    {
     "name": "stdout",
     "output_type": "stream",
     "text": [
      "+---------------+-----------+-------------+-----------+----------------+--------+------+-------------------+--------------+--------------+---------------+--------------------+-------+--------+------+------+-----+--------+--------------------+--------------+-------------+----------+------------+----+-------------+-------+\n",
      "|       Category|       City|      Country|Customer_ID|   Customer_Name|Discount|Market|         Order_Date|      Order_ID|Order_Priority|     Product_ID|        Product_Name| Profit|Quantity|Region|Row_ID|Sales| Segment|           Ship_Date|     Ship_Mode|Shipping_Cost|     State|Sub_Category|Year|      Market2|weeknum|\n",
      "+---------------+-----------+-------------+-----------+----------------+--------+------+-------------------+--------------+--------------+---------------+--------------------+-------+--------+------+------+-----+--------+--------------------+--------------+-------------+----------+------------+----+-------------+-------+\n",
      "|Office Supplies|Los Angeles|United States|  LS-172304|Lycoris Saunders|     0.0|    US|2011-01-07 00:00:00|CA-2011-130813|          High|OFF-PA-10002005|           Xerox 225| 9.3312|       3|  West| 36624|   19|Consumer|2011-01-09 00:00:...|  Second Class|         4.37|California|       Paper|2011|North America|      2|\n",
      "|Office Supplies|Los Angeles|United States|  MV-174854|   Mark Van Huff|     0.0|    US|2011-01-21 00:00:00|CA-2011-148614|        Medium|OFF-PA-10002893|\"Wirebound Servic...| 9.2928|       2|  West| 37033|   19|Consumer|2011-01-26 00:00:...|Standard Class|         0.94|California|       Paper|2011|North America|      4|\n",
      "|Office Supplies|Los Angeles|United States|  CS-121304|    Chad Sievert|     0.0|    US|2011-08-05 00:00:00|CA-2011-118962|        Medium|OFF-PA-10000659|Adams Phone Messa...| 9.8418|       3|  West| 31468|   21|Consumer|2011-08-09 00:00:...|Standard Class|         1.81|California|       Paper|2011|North America|     32|\n",
      "|Office Supplies|Los Angeles|United States|  CS-121304|    Chad Sievert|     0.0|    US|2011-08-05 00:00:00|CA-2011-118962|        Medium|OFF-PA-10001144|          Xerox 1913|53.2608|       2|  West| 31469|  111|Consumer|2011-08-09 00:00:...|Standard Class|         4.59|California|       Paper|2011|North America|     32|\n",
      "|Office Supplies|Los Angeles|United States|  AP-109154|  Arthur Prichep|     0.0|    US|2011-09-29 00:00:00|CA-2011-146969|          High|OFF-PA-10002105|           Xerox 223| 3.1104|       1|  West| 32440|    6|Consumer|2011-10-03 00:00:...|Standard Class|         1.32|California|       Paper|2011|North America|     40|\n",
      "+---------------+-----------+-------------+-----------+----------------+--------+------+-------------------+--------------+--------------+---------------+--------------------+-------+--------+------+------+-----+--------+--------------------+--------------+-------------+----------+------------+----+-------------+-------+\n",
      "only showing top 5 rows\n",
      "\n"
     ]
    }
   ],
   "source": [
    "df_cleaned.show(5)"
   ]
  },
  {
   "cell_type": "code",
   "execution_count": 12,
   "id": "6671a34e-027d-480c-af94-8b020e9efd7d",
   "metadata": {},
   "outputs": [],
   "source": [
    "import os\n",
    "from datetime import datetime\n",
    "today = datetime.now().strftime(\"%Y-%m-%d\")  # Format: 2025-05-13\n",
    "output_folder = f\"./{today}\"\n",
    "os.makedirs(output_folder, exist_ok=True)\n",
    "\n",
    "# Save with partitionBy\n",
    "df_cleaned.write.partitionBy(\"Country\").csv(output_folder, header=True, mode=\"overwrite\")"
   ]
  },
  {
   "cell_type": "code",
   "execution_count": 13,
   "id": "927820dd-e9c4-43d1-b458-85c211d50b7e",
   "metadata": {},
   "outputs": [],
   "source": [
    "today = datetime.now().strftime(\"%Y-%m-%d\")  # Format: 2025-05-13\n",
    "output_folder = f\"./{today}\"\n",
    "os.makedirs(output_folder, exist_ok=True)\n",
    "\n",
    "# Save a single CSV file for each country\n",
    "countries = [row[\"Country\"] for row in df_cleaned.select(\"Country\").distinct().collect()]\n",
    "for country in countries:\n",
    "    df_country = df_cleaned.filter(df_cleaned.Country == country).coalesce(1)\n",
    "    output_path = f\"{output_folder}/{country.replace(' ', '_')}.csv\"\n",
    "    df_country.write.csv(output_path, header=True, mode=\"overwrite\")"
   ]
  },
  {
   "cell_type": "code",
   "execution_count": null,
   "id": "d2728d0e-bdac-461c-8345-b8362722fcba",
   "metadata": {},
   "outputs": [],
   "source": []
  }
 ],
 "metadata": {
  "kernelspec": {
   "display_name": "Python 3 (ipykernel)",
   "language": "python",
   "name": "python3"
  },
  "language_info": {
   "codemirror_mode": {
    "name": "ipython",
    "version": 3
   },
   "file_extension": ".py",
   "mimetype": "text/x-python",
   "name": "python",
   "nbconvert_exporter": "python",
   "pygments_lexer": "ipython3",
   "version": "3.9.2"
  }
 },
 "nbformat": 4,
 "nbformat_minor": 5
}
