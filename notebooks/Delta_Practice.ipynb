{
 "cells": [
  {
   "cell_type": "code",
   "execution_count": 1,
   "id": "97e598fe-1032-4c5c-8c19-d04eb463f88a",
   "metadata": {},
   "outputs": [],
   "source": [
    "# from pyspark.sql import SparkSession\n",
    "# spark = (\n",
    "#     SparkSession.builder.appName(\"DeltaLakeNCRDemo\")\n",
    "#     .config(\"spark.sql.extensions\", \"io.delta.sql.DeltaSparkSessionExtension\")\n",
    "#     .getOrCreate()\n",
    "# )\n",
    "# spark\n",
    "from pyspark.sql import SparkSession\n",
    "\n",
    "spark = (\n",
    "    SparkSession.builder\n",
    "    .appName(\"DeltaLakeDemo\")\n",
    "    .config(\"spark.jars.packages\", \"io.delta:delta-spark_2.12:3.2.0\")\n",
    "    .config(\"spark.sql.extensions\", \"io.delta.sql.DeltaSparkSessionExtension\")\n",
    "    .config(\"spark.sql.catalog.spark_catalog\", \"org.apache.spark.sql.delta.catalog.DeltaCatalog\")\n",
    "    .getOrCreate()\n",
    ")\n"
   ]
  },
  {
   "cell_type": "code",
   "execution_count": 2,
   "id": "01b238d5-9e76-4d5f-9dec-5b78fab0b4fc",
   "metadata": {},
   "outputs": [
    {
     "name": "stdout",
     "output_type": "stream",
     "text": [
      "root\n",
      " |-- date: date (nullable = true)\n",
      " |-- time: timestamp (nullable = true)\n",
      " |-- booking_id: string (nullable = true)\n",
      " |-- booking_status: string (nullable = true)\n",
      " |-- customer_id: string (nullable = true)\n",
      " |-- vehicle_type: string (nullable = true)\n",
      " |-- pickup_location: string (nullable = true)\n",
      " |-- drop_location: string (nullable = true)\n",
      " |-- avg_vtat: string (nullable = true)\n",
      " |-- avg_ctat: string (nullable = true)\n",
      " |-- cancelled_rides_by_customer: string (nullable = true)\n",
      " |-- reason_for_cancelling_by_customer: string (nullable = true)\n",
      " |-- cancelled_rides_by_driver: string (nullable = true)\n",
      " |-- driver_cancellation_reason: string (nullable = true)\n",
      " |-- incomplete_rides: string (nullable = true)\n",
      " |-- incomplete_rides_reason: string (nullable = true)\n",
      " |-- booking_value: string (nullable = true)\n",
      " |-- ride_distance: string (nullable = true)\n",
      " |-- driver_ratings: string (nullable = true)\n",
      " |-- customer_rating: string (nullable = true)\n",
      " |-- payment_method: string (nullable = true)\n",
      "\n"
     ]
    }
   ],
   "source": [
    "# Load raw CSV\n",
    "df = spark.read.csv(\"/opt/data/ncr_ride_bookings.csv\", header=True, inferSchema=True)\n",
    "\n",
    "# Clean column names for Delta compatibility\n",
    "df_clean = df.toDF(*[\n",
    "    c.strip()\n",
    "     .replace(\" \", \"_\")      # spaces → underscore\n",
    "     .replace(\"-\", \"_\")      # dashes → underscore\n",
    "     .replace(\".\", \"_\")      # dots → underscore\n",
    "     .replace(\"/\", \"_\")      # slashes → underscore\n",
    "     .lower()                # lowercase for consistency\n",
    "    for c in df.columns\n",
    "])\n",
    "\n",
    "df_clean.printSchema()\n"
   ]
  },
  {
   "cell_type": "code",
   "execution_count": 3,
   "id": "a17170d4-bbb2-49b3-bd1d-73965d9d49dd",
   "metadata": {},
   "outputs": [
    {
     "name": "stdout",
     "output_type": "stream",
     "text": [
      "+----------+-------------------+----------------+-------------------+----------------+-------------+---------------+-------------------+--------+--------+---------------------------+---------------------------------+-------------------------+--------------------------+----------------+-----------------------+-------------+-------------+--------------+---------------+--------------+\n",
      "|      date|               time|      booking_id|     booking_status|     customer_id| vehicle_type|pickup_location|      drop_location|avg_vtat|avg_ctat|cancelled_rides_by_customer|reason_for_cancelling_by_customer|cancelled_rides_by_driver|driver_cancellation_reason|incomplete_rides|incomplete_rides_reason|booking_value|ride_distance|driver_ratings|customer_rating|payment_method|\n",
      "+----------+-------------------+----------------+-------------------+----------------+-------------+---------------+-------------------+--------+--------+---------------------------+---------------------------------+-------------------------+--------------------------+----------------+-----------------------+-------------+-------------+--------------+---------------+--------------+\n",
      "|2024-10-11|2025-09-29 14:35:34|\"\"\"CNR3377172\"\"\"|          Completed|\"\"\"CID3230732\"\"\"|      Go Mini|   Nirman Vihar|              Saket|    13.5|    36.2|                       null|                             null|                     null|                      null|            null|                   null|          296|         11.6|           4.6|            4.2|   Credit Card|\n",
      "|2024-12-02|2025-09-29 20:09:19|\"\"\"CNR6851979\"\"\"|Cancelled by Driver|\"\"\"CID1843824\"\"\"|     Go Sedan|      Pitampura|    Noida Sector 18|    11.4|    null|                       null|                             null|                        1|      More than permitt...|            null|                   null|         null|         null|          null|           null|          null|\n",
      "|2024-04-19|2025-09-29 08:49:26|\"\"\"CNR9914084\"\"\"|Cancelled by Driver|\"\"\"CID8924506\"\"\"|         Auto|    Preet Vihar|Raj Nagar Extension|     4.2|    null|                       null|                             null|                        1|      Personal & Car re...|            null|                   null|         null|         null|          null|           null|          null|\n",
      "|2024-12-05|2025-09-29 01:23:56|\"\"\"CNR9837329\"\"\"|         Incomplete|\"\"\"CID4794468\"\"\"|Premier Sedan|         Ashram|              AIIMS|     7.3|    25.9|                       null|                             null|                     null|                      null|               1|            Other Issue|          784|        16.02|          null|           null|           UPI|\n",
      "|2024-12-07|2025-09-29 22:19:38|\"\"\"CNR1437747\"\"\"|          Completed|\"\"\"CID6731546\"\"\"|        eBike|    Old Gurgaon|        Mandi House|    11.1|    42.5|                       null|                             null|                     null|                      null|            null|                   null|         1068|        12.16|           4.6|            4.6|           UPI|\n",
      "+----------+-------------------+----------------+-------------------+----------------+-------------+---------------+-------------------+--------+--------+---------------------------+---------------------------------+-------------------------+--------------------------+----------------+-----------------------+-------------+-------------+--------------+---------------+--------------+\n",
      "only showing top 5 rows\n",
      "\n"
     ]
    }
   ],
   "source": [
    "from pyspark.sql.functions import col\n",
    "\n",
    "# sanitize column names\n",
    "delta_path = \"/opt/output/delta/ncr_rides\"\n",
    "\n",
    "df_clean.write.format(\"delta\").mode(\"overwrite\").save(delta_path)\n",
    "\n",
    "rides = spark.read.format(\"delta\").load(delta_path)\n",
    "rides.show(5)\n"
   ]
  },
  {
   "cell_type": "code",
   "execution_count": 4,
   "id": "ce0884b4-54ab-4639-a264-40d68fc6bbd6",
   "metadata": {},
   "outputs": [
    {
     "name": "stdout",
     "output_type": "stream",
     "text": [
      "+--------------------+-----+\n",
      "|      booking_status|count|\n",
      "+--------------------+-----+\n",
      "|           Completed|93000|\n",
      "|     No Driver Found|10500|\n",
      "| Cancelled by Driver|27000|\n",
      "|Cancelled by Cust...|10500|\n",
      "|          Incomplete| 9000|\n",
      "+--------------------+-----+\n",
      "\n",
      "+-------------+-------------------+\n",
      "| vehicle_type|avg(driver_ratings)|\n",
      "+-------------+-------------------+\n",
      "|         Bike|  4.230055579307396|\n",
      "|     Go Sedan|  4.231812185176316|\n",
      "|      Go Mini|  4.227694215321595|\n",
      "|      Uber XL|  4.238339920948616|\n",
      "|         Auto|   4.23236881882964|\n",
      "|Premier Sedan|  4.234864912904378|\n",
      "|        eBike| 4.2256144100137325|\n",
      "+-------------+-------------------+\n",
      "\n"
     ]
    }
   ],
   "source": [
    "# Total rides by status\n",
    "rides.groupBy(\"booking_status\").count().show()\n",
    "\n",
    "# Average rating by vehicle type\n",
    "rides.groupBy(\"vehicle_type\").agg({\"driver_ratings\": \"avg\"}).show()\n"
   ]
  },
  {
   "cell_type": "code",
   "execution_count": 5,
   "id": "884a4474-d199-4881-9270-547f92b75d15",
   "metadata": {},
   "outputs": [],
   "source": [
    "from delta.tables import DeltaTable\n",
    "\n",
    "delta_rides = DeltaTable.forPath(spark, delta_path)\n",
    "\n",
    "delta_rides.update(\n",
    "    condition=col(\"booking_status\") == \"Cancelled\",\n",
    "    set={\"booking_status\": col(\"booking_status\") + \"_LostRevenue\"}\n",
    ")\n"
   ]
  },
  {
   "cell_type": "code",
   "execution_count": 6,
   "id": "ce74da03-9956-4ca4-9c99-54468bf96f44",
   "metadata": {},
   "outputs": [],
   "source": [
    "delta_rides.delete(condition=col(\"ride_distance\").isNull())\n"
   ]
  },
  {
   "cell_type": "code",
   "execution_count": 8,
   "id": "ce277ae7-b790-4226-b725-2fdc9b810f9e",
   "metadata": {},
   "outputs": [],
   "source": [
    "from datetime import date, datetime\n",
    "from pyspark.sql.functions import col\n",
    "\n",
    "delta_path = \"/opt/output/delta/ncr_rides\"\n",
    "\n",
    "# Overwrite existing data\n",
    "df_clean.write.format(\"delta\").mode(\"overwrite\").save(delta_path)\n",
    "\n",
    "# Append new rows\n",
    "new_rows = spark.createDataFrame([\n",
    "    (\n",
    "        date(2025, 9, 29),                         # ✅ date\n",
    "        datetime(2025, 9, 29, 14, 45, 0),          # ✅ timestamp\n",
    "        \"201\", \"Completed\", \"C010\", \"Bike\", \"LocX\", \"LocY\",\n",
    "        \"3\", \"6\", \"0\", None, \"0\", None, \"0\", None,\n",
    "        \"150\", \"5\", \"4.9\", \"4.5\", \"Cash\"\n",
    "    )\n",
    "], schema=df_clean.schema)\n",
    "\n",
    "new_rows.write.format(\"delta\").mode(\"append\").save(delta_path)\n"
   ]
  },
  {
   "cell_type": "code",
   "execution_count": 9,
   "id": "3425a17b-fa60-4135-848f-174cd0bf182d",
   "metadata": {},
   "outputs": [
    {
     "name": "stdout",
     "output_type": "stream",
     "text": [
      "+----------+-------------------+----------------+--------------------+----------------+------------+---------------+-------------+--------+--------+---------------------------+---------------------------------+-------------------------+--------------------------+----------------+-----------------------+-------------+-------------+--------------+---------------+--------------+\n",
      "|      date|               time|      booking_id|      booking_status|     customer_id|vehicle_type|pickup_location|drop_location|avg_vtat|avg_ctat|cancelled_rides_by_customer|reason_for_cancelling_by_customer|cancelled_rides_by_driver|driver_cancellation_reason|incomplete_rides|incomplete_rides_reason|booking_value|ride_distance|driver_ratings|customer_rating|payment_method|\n",
      "+----------+-------------------+----------------+--------------------+----------------+------------+---------------+-------------+--------+--------+---------------------------+---------------------------------+-------------------------+--------------------------+----------------+-----------------------+-------------+-------------+--------------+---------------+--------------+\n",
      "|2024-04-23|2025-09-29 16:30:55|\"\"\"CNR2641725\"\"\"|     No Driver Found|\"\"\"CID9329144\"\"\"|        Bike|   Nirman Vihar|    Moolchand|    null|    null|                       null|                             null|                     null|                      null|            null|                   null|         null|         null|          null|           null|          null|\n",
      "|2024-12-03|2025-09-29 22:07:58|\"\"\"CNR2807358\"\"\"|           Completed|\"\"\"CID8603570\"\"\"|     Go Mini|    Uttam Nagar|     Shahdara|     7.5|    33.1|                       null|                             null|                     null|                      null|            null|                   null|          419|        17.21|           4.2|            4.9|           UPI|\n",
      "|2024-09-28|2025-09-29 18:18:30|\"\"\"CNR4357728\"\"\"|           Completed|\"\"\"CID4000244\"\"\"|        Auto|    Tilak Nagar|  Palam Vihar|     6.0|    29.9|                       null|                             null|                     null|                      null|            null|                   null|          605|        48.65|           4.2|            4.9|           UPI|\n",
      "|2024-08-16|2025-09-29 08:13:36|\"\"\"CNR6036606\"\"\"| Cancelled by Driver|\"\"\"CID1799699\"\"\"|    Go Sedan|Noida Film City|   Chhatarpur|     9.5|    null|                       null|                             null|                        1|      Personal & Car re...|            null|                   null|         null|         null|          null|           null|          null|\n",
      "|2024-05-12|2025-09-29 16:26:27|\"\"\"CNR7136187\"\"\"|Cancelled by Cust...|\"\"\"CID6731914\"\"\"|     Go Mini|        Madipur|   Saidulajab|     7.0|    null|                          1|                    Wrong Address|                     null|                      null|            null|                   null|         null|         null|          null|           null|          null|\n",
      "+----------+-------------------+----------------+--------------------+----------------+------------+---------------+-------------+--------+--------+---------------------------+---------------------------------+-------------------------+--------------------------+----------------+-----------------------+-------------+-------------+--------------+---------------+--------------+\n",
      "only showing top 5 rows\n",
      "\n",
      "+----------+-------------------+----------------+--------------+----------------+-------------+--------------------+--------------------+--------+--------+---------------------------+---------------------------------+-------------------------+--------------------------+----------------+-----------------------+-------------+-------------+--------------+---------------+--------------+\n",
      "|      date|               time|      booking_id|booking_status|     customer_id| vehicle_type|     pickup_location|       drop_location|avg_vtat|avg_ctat|cancelled_rides_by_customer|reason_for_cancelling_by_customer|cancelled_rides_by_driver|driver_cancellation_reason|incomplete_rides|incomplete_rides_reason|booking_value|ride_distance|driver_ratings|customer_rating|payment_method|\n",
      "+----------+-------------------+----------------+--------------+----------------+-------------+--------------------+--------------------+--------+--------+---------------------------+---------------------------------+-------------------------+--------------------------+----------------+-----------------------+-------------+-------------+--------------+---------------+--------------+\n",
      "|2024-02-05|2025-09-29 19:36:29|\"\"\"CNR2457972\"\"\"|     Completed|\"\"\"CID1628034\"\"\"|         Auto|              Ashram|         Laxmi Nagar|     8.8|    28.8|                       null|                             null|                     null|                      null|            null|                   null|          296|        20.87|           4.4|            4.9|   Uber Wallet|\n",
      "|2024-05-15|2025-09-29 13:52:19|\"\"\"CNR9627716\"\"\"|     Completed|\"\"\"CID5790311\"\"\"|         Auto|       Basai Dhankot|     South Extension|     6.8|    27.1|                       null|                             null|                     null|                      null|            null|                   null|          157|         4.31|           3.6|            4.6|           UPI|\n",
      "|2024-09-05|2025-09-29 15:39:26|\"\"\"CNR1739744\"\"\"|     Completed|\"\"\"CID7029317\"\"\"|         Auto|    Golf Course Road|        Vidhan Sabha|    10.8|    39.5|                       null|                             null|                     null|                      null|            null|                   null|          437|         2.02|           4.1|            5.0|          Cash|\n",
      "|2024-12-14|2025-09-29 08:13:39|\"\"\"CNR7359402\"\"\"|     Completed|\"\"\"CID4422256\"\"\"|         Auto|       Subhash Chowk|           Janakpuri|     3.0|    28.7|                       null|                             null|                     null|                      null|            null|                   null|          173|        11.33|           4.5|            4.5|          Cash|\n",
      "|2024-08-10|2025-09-29 08:56:43|\"\"\"CNR9805644\"\"\"|     Completed|\"\"\"CID1333827\"\"\"|         Auto|              Ashram|        Maidan Garhi|     9.5|    43.1|                       null|                             null|                     null|                      null|            null|                   null|          447|        17.17|           4.8|            4.9|           UPI|\n",
      "|2024-12-27|2025-09-29 12:53:20|\"\"\"CNR5483540\"\"\"|     Completed|\"\"\"CID3179807\"\"\"|         Auto|           Janakpuri|       Tagore Garden|    10.8|    32.9|                       null|                             null|                     null|                      null|            null|                   null|          115|        37.93|           4.1|            4.2|    Debit Card|\n",
      "|2024-01-04|2025-09-29 18:08:50|\"\"\"CNR2809545\"\"\"|     Completed|\"\"\"CID8903488\"\"\"|      Go Mini|         Tughlakabad|             Rithala|     2.3|    35.0|                       null|                             null|                     null|                      null|            null|                   null|          127|         28.7|           4.3|            3.1|          Cash|\n",
      "|2024-07-08|2025-09-29 18:16:05|\"\"\"CNR3924137\"\"\"|     Completed|\"\"\"CID1851002\"\"\"|     Go Sedan|              Ashram|New Delhi Railway...|     8.2|    32.2|                       null|                             null|                     null|                      null|            null|                   null|           78|        49.62|           4.7|            4.9|           UPI|\n",
      "|2024-10-15|2025-09-29 08:01:08|\"\"\"CNR6181431\"\"\"|     Completed|\"\"\"CID8680970\"\"\"|         Auto|    Anand Vihar ISBT|           Seelampur|    12.0|    39.5|                       null|                             null|                     null|                      null|            null|                   null|           84|        44.73|           4.6|            4.8|    Debit Card|\n",
      "|2024-06-23|2025-09-29 13:49:37|\"\"\"CNR9570612\"\"\"|     Completed|\"\"\"CID3411414\"\"\"|         Bike|           Paharganj|              Jasola|     9.9|    29.4|                       null|                             null|                     null|                      null|            null|                   null|          953|        28.09|           4.6|            5.0|           UPI|\n",
      "|2024-08-04|2025-09-29 20:26:07|\"\"\"CNR2377552\"\"\"|     Completed|\"\"\"CID5227492\"\"\"|     Go Sedan|        Jahangirpuri|          Karkarduma|    13.9|    24.3|                       null|                             null|                     null|                      null|            null|                   null|         1400|         7.02|           4.2|            4.2|          Cash|\n",
      "|2024-12-05|2025-09-29 16:23:07|\"\"\"CNR1670600\"\"\"|     Completed|\"\"\"CID1679921\"\"\"|         Auto|          Akshardham|         Palam Vihar|    10.0|    36.0|                       null|                             null|                     null|                      null|            null|                   null|          177|        48.52|           4.7|            4.3|   Credit Card|\n",
      "|2024-12-04|2025-09-29 12:53:45|\"\"\"CNR4865875\"\"\"|     Completed|\"\"\"CID2175586\"\"\"|     Go Sedan|Satguru Ram Singh...|         Sikanderpur|     3.1|    31.5|                       null|                             null|                     null|                      null|            null|                   null|          831|        43.25|           3.1|            4.9|          Cash|\n",
      "|2024-01-14|2025-09-29 07:38:05|\"\"\"CNR5989515\"\"\"|     Completed|\"\"\"CID9493682\"\"\"|Premier Sedan|           Moolchand|         Preet Vihar|     8.3|    39.4|                       null|                             null|                     null|                      null|            null|                   null|          707|        15.54|           4.7|            4.6|          Cash|\n",
      "|2024-02-09|2025-09-29 19:07:36|\"\"\"CNR6098595\"\"\"|     Completed|\"\"\"CID3298542\"\"\"|      Go Mini|           IIT Delhi|         Rohini West|     4.2|    42.3|                       null|                             null|                     null|                      null|            null|                   null|          334|        38.72|           4.6|            4.6|          Cash|\n",
      "|2024-11-05|2025-09-29 11:04:50|\"\"\"CNR4468472\"\"\"|     Completed|\"\"\"CID4019827\"\"\"|         Bike|         Sikanderpur|              Nawada|     2.7|    35.3|                       null|                             null|                     null|                      null|            null|                   null|          166|        46.44|           4.1|            3.1|           UPI|\n",
      "|2024-06-21|2025-09-29 11:22:12|\"\"\"CNR1806580\"\"\"|     Completed|\"\"\"CID5155888\"\"\"|         Bike|         Preet Vihar|             Madipur|     8.3|    20.2|                       null|                             null|                     null|                      null|            null|                   null|          923|        13.02|           4.2|            4.7|          Cash|\n",
      "|2024-12-10|2025-09-29 18:03:44|\"\"\"CNR3363121\"\"\"|     Completed|\"\"\"CID8494253\"\"\"|        eBike| Central Secretariat|     Connaught Place|     9.0|    15.9|                       null|                             null|                     null|                      null|            null|                   null|          135|        16.01|           4.3|            4.9|           UPI|\n",
      "|2024-09-22|2025-09-29 15:21:40|\"\"\"CNR9249249\"\"\"|     Completed|\"\"\"CID7254476\"\"\"|         Auto|            Badarpur|         Bahadurgarh|    14.2|    25.9|                       null|                             null|                     null|                      null|            null|                   null|          243|        14.65|           4.3|            4.4|          Cash|\n",
      "|2024-06-27|2025-09-29 00:34:07|\"\"\"CNR2802037\"\"\"|     Completed|\"\"\"CID8090576\"\"\"|      Go Mini|           Seelampur|         IMT Manesar|     6.5|    22.1|                       null|                             null|                     null|                      null|            null|                   null|          226|        22.79|           5.0|            4.5|           UPI|\n",
      "+----------+-------------------+----------------+--------------+----------------+-------------+--------------------+--------------------+--------+--------+---------------------------+---------------------------------+-------------------------+--------------------------+----------------+-----------------------+-------------+-------------+--------------+---------------+--------------+\n",
      "only showing top 20 rows\n",
      "\n"
     ]
    }
   ],
   "source": [
    "rides = spark.read.format(\"delta\").load(delta_path)\n",
    "rides.show(5)\n",
    "\n",
    "# Example filter\n",
    "rides.filter(col(\"booking_status\") == \"Completed\").show()\n"
   ]
  },
  {
   "cell_type": "code",
   "execution_count": 10,
   "id": "97d7b500-0104-4e7b-b1f1-c43d0c01b636",
   "metadata": {},
   "outputs": [],
   "source": [
    "from delta.tables import DeltaTable\n",
    "\n",
    "rides_delta = DeltaTable.forPath(spark, delta_path)\n",
    "\n",
    "# Example: update rating of customer C010\n",
    "rides_delta.update(\n",
    "    condition=col(\"customer_id\") == \"C010\",\n",
    "    set={\"customer_rating\": \"5.0\"}\n",
    ")\n"
   ]
  },
  {
   "cell_type": "code",
   "execution_count": 11,
   "id": "0cf3ea87-f1df-442c-a6ea-d2fbb519f6ad",
   "metadata": {},
   "outputs": [],
   "source": [
    "updates = spark.createDataFrame([\n",
    "    (\n",
    "        date(2025, 9, 29),                         # ✅ date\n",
    "        datetime(2025, 9, 29, 16, 0, 0),           # ✅ timestamp\n",
    "        \"201\", \"Cancelled\", \"C010\", \"Bike\", \"LocX\", \"LocY\",\n",
    "        \"3\", \"6\", \"1\", \"Changed mind\", \"0\", None, \"0\", None,\n",
    "        \"150\", \"5\", \"4.9\", \"4.5\", \"Cash\"\n",
    "    )\n",
    "], schema=rides.schema)\n",
    "\n",
    "rides_delta.alias(\"tgt\").merge(\n",
    "    updates.alias(\"src\"),\n",
    "    \"tgt.booking_id = src.booking_id\"\n",
    ").whenMatchedUpdateAll().whenNotMatchedInsertAll().execute()\n"
   ]
  },
  {
   "cell_type": "code",
   "execution_count": 12,
   "id": "9dc354fa-7557-444c-8b02-826118302646",
   "metadata": {},
   "outputs": [],
   "source": [
    "from pyspark.sql.functions import lit\n",
    "\n",
    "# Add metadata\n",
    "rides_scd2 = rides.withColumn(\"is_current\", lit(True)) \\\n",
    "                  .withColumn(\"start_date\", lit(date.today())) \\\n",
    "                  .withColumn(\"end_date\", lit(None).cast(\"date\"))\n",
    "\n",
    "rides_scd2.write.format(\"delta\").mode(\"overwrite\").save(\"/opt/output/delta/ncr_rides_scd2\")\n",
    "\n",
    "rides_scd2_delta = DeltaTable.forPath(spark, \"/opt/output/delta/ncr_rides_scd2\")\n",
    "\n",
    "# New version of booking 201 (changed status)\n",
    "new_version = spark.createDataFrame([\n",
    "    (\n",
    "        date(2025, 9, 29),\n",
    "        datetime(2025, 9, 29, 18, 0, 0),\n",
    "        \"201\", \"Completed\", \"C010\", \"Bike\", \"LocX\", \"LocY\",\n",
    "        \"3\", \"6\", \"0\", None, \"0\", None, \"0\", None,\n",
    "        \"150\", \"5\", \"4.9\", \"4.9\", \"Cash\",\n",
    "        True, date(2025, 9, 29), None\n",
    "    )\n",
    "], schema=rides_scd2.schema)\n",
    "\n",
    "# Expire old record + insert new one\n",
    "rides_scd2_delta.alias(\"tgt\").merge(\n",
    "    new_version.alias(\"src\"),\n",
    "    \"tgt.booking_id = src.booking_id AND tgt.is_current = True\"\n",
    ").whenMatchedUpdate(set={\"is_current\": \"false\", \"end_date\": \"src.start_date\"}) \\\n",
    " .whenNotMatchedInsertAll() \\\n",
    " .execute()\n"
   ]
  },
  {
   "cell_type": "code",
   "execution_count": 13,
   "id": "a6124d26-e1fa-48ba-bc84-e5c2d36b7e60",
   "metadata": {},
   "outputs": [
    {
     "name": "stdout",
     "output_type": "stream",
     "text": [
      "+-------+--------------------+------+--------+---------+--------------------+----+--------+---------+-----------+--------------+-------------+--------------------+------------+--------------------+\n",
      "|version|           timestamp|userId|userName|operation| operationParameters| job|notebook|clusterId|readVersion|isolationLevel|isBlindAppend|    operationMetrics|userMetadata|          engineInfo|\n",
      "+-------+--------------------+------+--------+---------+--------------------+----+--------+---------+-----------+--------------+-------------+--------------------+------------+--------------------+\n",
      "|      4|2025-09-29 11:29:...|  NULL|    NULL|    MERGE|{predicate -> [\"(...|NULL|    NULL|     NULL|          3|  Serializable|        false|{numTargetRowsCop...|        NULL|Apache-Spark/3.5....|\n",
      "|      3|2025-09-29 11:29:...|  NULL|    NULL|   UPDATE|{predicate -> [\"(...|NULL|    NULL|     NULL|          2|  Serializable|        false|{numRemovedFiles ...|        NULL|Apache-Spark/3.5....|\n",
      "|      2|2025-09-29 11:28:...|  NULL|    NULL|    WRITE|{mode -> Append, ...|NULL|    NULL|     NULL|          1|  Serializable|         true|{numFiles -> 2, n...|        NULL|Apache-Spark/3.5....|\n",
      "|      1|2025-09-29 11:28:...|  NULL|    NULL|    WRITE|{mode -> Overwrit...|NULL|    NULL|     NULL|          0|  Serializable|        false|{numFiles -> 7, n...|        NULL|Apache-Spark/3.5....|\n",
      "|      0|2025-09-29 11:25:...|  NULL|    NULL|    WRITE|{mode -> Overwrit...|NULL|    NULL|     NULL|       NULL|  Serializable|        false|{numFiles -> 7, n...|        NULL|Apache-Spark/3.5....|\n",
      "+-------+--------------------+------+--------+---------+--------------------+----+--------+---------+-----------+--------------+-------------+--------------------+------------+--------------------+\n",
      "\n",
      "+----------+-------------------+----------------+-------------------+----------------+-------------+-------------------+-------------------+--------+--------+---------------------------+---------------------------------+-------------------------+--------------------------+----------------+-----------------------+-------------+-------------+--------------+---------------+--------------+\n",
      "|      date|               time|      booking_id|     booking_status|     customer_id| vehicle_type|    pickup_location|      drop_location|avg_vtat|avg_ctat|cancelled_rides_by_customer|reason_for_cancelling_by_customer|cancelled_rides_by_driver|driver_cancellation_reason|incomplete_rides|incomplete_rides_reason|booking_value|ride_distance|driver_ratings|customer_rating|payment_method|\n",
      "+----------+-------------------+----------------+-------------------+----------------+-------------+-------------------+-------------------+--------+--------+---------------------------+---------------------------------+-------------------------+--------------------------+----------------+-----------------------+-------------+-------------+--------------+---------------+--------------+\n",
      "|2024-10-11|2025-09-29 14:35:34|\"\"\"CNR3377172\"\"\"|          Completed|\"\"\"CID3230732\"\"\"|      Go Mini|       Nirman Vihar|              Saket|    13.5|    36.2|                       null|                             null|                     null|                      null|            null|                   null|          296|         11.6|           4.6|            4.2|   Credit Card|\n",
      "|2024-12-02|2025-09-29 20:09:19|\"\"\"CNR6851979\"\"\"|Cancelled by Driver|\"\"\"CID1843824\"\"\"|     Go Sedan|          Pitampura|    Noida Sector 18|    11.4|    null|                       null|                             null|                        1|      More than permitt...|            null|                   null|         null|         null|          null|           null|          null|\n",
      "|2024-04-19|2025-09-29 08:49:26|\"\"\"CNR9914084\"\"\"|Cancelled by Driver|\"\"\"CID8924506\"\"\"|         Auto|        Preet Vihar|Raj Nagar Extension|     4.2|    null|                       null|                             null|                        1|      Personal & Car re...|            null|                   null|         null|         null|          null|           null|          null|\n",
      "|2024-12-05|2025-09-29 01:23:56|\"\"\"CNR9837329\"\"\"|         Incomplete|\"\"\"CID4794468\"\"\"|Premier Sedan|             Ashram|              AIIMS|     7.3|    25.9|                       null|                             null|                     null|                      null|               1|            Other Issue|          784|        16.02|          null|           null|           UPI|\n",
      "|2024-12-07|2025-09-29 22:19:38|\"\"\"CNR1437747\"\"\"|          Completed|\"\"\"CID6731546\"\"\"|        eBike|        Old Gurgaon|        Mandi House|    11.1|    42.5|                       null|                             null|                     null|                      null|            null|                   null|         1068|        12.16|           4.6|            4.6|           UPI|\n",
      "|2024-03-25|2025-09-29 06:23:02|\"\"\"CNR5958837\"\"\"|Cancelled by Driver|\"\"\"CID2786789\"\"\"|         Auto|      Saket A Block|       Nirman Vihar|     8.7|    null|                       null|                             null|                        1|      More than permitt...|            null|                   null|         null|         null|          null|           null|          null|\n",
      "|2024-09-12|2025-09-29 07:51:20|\"\"\"CNR4765176\"\"\"|          Completed|\"\"\"CID3405817\"\"\"|         Auto|             Mundka|         Delhi Gate|     5.7|    29.5|                       null|                             null|                     null|                      null|            null|                   null|          182|         6.81|           4.2|            4.0|          Cash|\n",
      "|2024-11-02|2025-09-29 14:11:04|\"\"\"CNR7129729\"\"\"|Cancelled by Driver|\"\"\"CID2978852\"\"\"|      Go Mini|    Vishwavidyalaya|          IIT Delhi|     6.5|    null|                       null|                             null|                        1|      The customer was ...|            null|                   null|         null|         null|          null|           null|          null|\n",
      "|2024-04-18|2025-09-29 16:50:52|\"\"\"CNR5125893\"\"\"|         Incomplete|\"\"\"CID4513597\"\"\"|         Bike|Faridabad Sector 15|    Noida Film City|     3.3|    15.3|                       null|                             null|                     null|                      null|               1|            Other Issue|          472|        14.47|          null|           null|   Uber Wallet|\n",
      "|2024-08-28|2025-09-29 16:52:06|\"\"\"CNR5109055\"\"\"|          Completed|\"\"\"CID3499975\"\"\"|     Go Sedan|             Jasola|         Karol Bagh|     4.9|    41.7|                       null|                             null|                     null|                      null|            null|                   null|          999|         6.27|           5.0|            4.2|    Debit Card|\n",
      "|2024-07-04|2025-09-29 10:01:03|\"\"\"CNR4280468\"\"\"|Cancelled by Driver|\"\"\"CID8861237\"\"\"|         Auto|      Saket A Block|        Gwal Pahari|     6.1|    null|                       null|                             null|                        1|      The customer was ...|            null|                   null|         null|         null|          null|           null|          null|\n",
      "|2024-09-06|2025-09-29 14:42:30|\"\"\"CNR7611976\"\"\"|          Completed|\"\"\"CID5910377\"\"\"|         Auto|        Rohini West|       Keshav Puram|     2.4|    34.4|                       null|                             null|                     null|                      null|            null|                   null|          448|        46.16|           4.3|            4.4|           UPI|\n",
      "|2024-02-14|2025-09-29 22:12:25|\"\"\"CNR5654446\"\"\"|          Completed|\"\"\"CID6328104\"\"\"|     Go Sedan|    Vishwavidyalaya|         Dwarka Mor|     5.6|    31.9|                       null|                             null|                     null|                      null|            null|                   null|          696|        46.11|           3.7|            4.6|          Cash|\n",
      "|2024-09-14|2025-09-29 22:37:13|\"\"\"CNR2589176\"\"\"|Cancelled by Driver|\"\"\"CID2055912\"\"\"|         Auto|           Inderlok|         Govindpuri|     3.7|    null|                       null|                             null|                        1|      Customer related ...|            null|                   null|         null|         null|          null|           null|          null|\n",
      "|2024-02-15|2025-09-29 15:05:13|\"\"\"CNR7229878\"\"\"|         Incomplete|\"\"\"CID8887953\"\"\"|      Go Mini|        IMT Manesar|          Cyber Hub|     8.9|    18.4|                       null|                             null|                     null|                      null|               1|            Other Issue|          699|         7.83|          null|           null|           UPI|\n",
      "|2024-10-29|2025-09-29 07:05:32|\"\"\"CNR7099805\"\"\"|          Completed|\"\"\"CID3064280\"\"\"|         Auto|        DLF Phase 3|    Connaught Place|     5.0|    21.9|                       null|                             null|                     null|                      null|            null|                   null|          407|         3.21|           4.4|            3.8|           UPI|\n",
      "|2024-07-14|2025-09-29 04:52:01|\"\"\"CNR9775938\"\"\"|          Completed|\"\"\"CID9461821\"\"\"|         Bike|             Nawada|         New Colony|     9.1|    22.0|                       null|                             null|                     null|                      null|            null|                   null|          282|        44.91|           4.4|            4.2|   Credit Card|\n",
      "|2024-07-10|2025-09-29 21:40:05|\"\"\"CNR5248859\"\"\"|          Completed|\"\"\"CID5218359\"\"\"|     Go Sedan|        Jama Masjid|            Azadpur|     3.3|    23.3|                       null|                             null|                     null|                      null|            null|                   null|          310|         47.5|           3.6|            4.3|          Cash|\n",
      "|2024-12-11|2025-09-29 18:27:35|\"\"\"CNR5357616\"\"\"|    No Driver Found|\"\"\"CID8746489\"\"\"|      Uber XL|             Ashram|          Hauz Rani|    null|    null|                       null|                             null|                     null|                      null|            null|                   null|         null|         null|          null|           null|          null|\n",
      "|2024-06-28|2025-09-29 19:22:23|\"\"\"CNR1157544\"\"\"|          Completed|\"\"\"CID7347853\"\"\"|         Auto|         IGNOU Road|  Gurgaon Sector 29|     7.4|    19.8|                       null|                             null|                     null|                      null|            null|                   null|          468|        26.53|           4.4|            4.9|           UPI|\n",
      "+----------+-------------------+----------------+-------------------+----------------+-------------+-------------------+-------------------+--------+--------+---------------------------+---------------------------------+-------------------------+--------------------------+----------------+-----------------------+-------------+-------------+--------------+---------------+--------------+\n",
      "only showing top 20 rows\n",
      "\n"
     ]
    }
   ],
   "source": [
    "# Show history\n",
    "rides_delta.history().show()\n",
    "\n",
    "# Query an old version\n",
    "rides_old = spark.read.format(\"delta\").option(\"versionAsOf\", 0).load(delta_path)\n",
    "rides_old.show()\n"
   ]
  },
  {
   "cell_type": "code",
   "execution_count": null,
   "id": "5ae72f77-8f1d-4f0a-a8d4-abf01d0c44de",
   "metadata": {},
   "outputs": [],
   "source": []
  }
 ],
 "metadata": {
  "kernelspec": {
   "display_name": "Python 3 (ipykernel)",
   "language": "python",
   "name": "python3"
  },
  "language_info": {
   "codemirror_mode": {
    "name": "ipython",
    "version": 3
   },
   "file_extension": ".py",
   "mimetype": "text/x-python",
   "name": "python",
   "nbconvert_exporter": "python",
   "pygments_lexer": "ipython3",
   "version": "3.9.2"
  }
 },
 "nbformat": 4,
 "nbformat_minor": 5
}
