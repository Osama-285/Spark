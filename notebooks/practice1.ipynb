{
 "cells": [
  {
   "cell_type": "code",
   "execution_count": 4,
   "id": "bb8320ad-c41f-47b1-9930-6a533d37e97a",
   "metadata": {},
   "outputs": [
    {
     "data": {
      "text/html": [
       "\n",
       "            <div>\n",
       "                <p><b>SparkSession - in-memory</b></p>\n",
       "                \n",
       "        <div>\n",
       "            <p><b>SparkContext</b></p>\n",
       "\n",
       "            <p><a href=\"http://25980bb9571e:4040\">Spark UI</a></p>\n",
       "\n",
       "            <dl>\n",
       "              <dt>Version</dt>\n",
       "                <dd><code>v3.5.3</code></dd>\n",
       "              <dt>Master</dt>\n",
       "                <dd><code>local[*]</code></dd>\n",
       "              <dt>AppName</dt>\n",
       "                <dd><code>Practice</code></dd>\n",
       "            </dl>\n",
       "        </div>\n",
       "        \n",
       "            </div>\n",
       "        "
      ],
      "text/plain": [
       "<pyspark.sql.session.SparkSession at 0x7f26981b3fd0>"
      ]
     },
     "execution_count": 4,
     "metadata": {},
     "output_type": "execute_result"
    }
   ],
   "source": [
    "from pyspark.sql import SparkSession\n",
    "\n",
    "spark = SparkSession.builder.appName(\"Practice\").getOrCreate()\n",
    "spark"
   ]
  },
  {
   "cell_type": "code",
   "execution_count": 7,
   "id": "f0c63980-d83f-4e50-96b8-5e5e374fba94",
   "metadata": {},
   "outputs": [],
   "source": [
    "# df = spark.read.csv(\"superstore.csv\", header = True, inferSchema = True)\n",
    "df1 = df.filter(df[\"Quantity\"] > 10)"
   ]
  },
  {
   "cell_type": "code",
   "execution_count": 8,
   "id": "c5df5b20-759a-4f9c-be35-865167b91182",
   "metadata": {},
   "outputs": [],
   "source": [
    "df2 = df1.count()"
   ]
  },
  {
   "cell_type": "code",
   "execution_count": 14,
   "id": "5cc30c6d-7c23-454f-b8c7-cea9fe141498",
   "metadata": {},
   "outputs": [
    {
     "name": "stdout",
     "output_type": "stream",
     "text": [
      "root\n",
      " |-- Category: string (nullable = true)\n",
      " |-- City: string (nullable = true)\n",
      " |-- Country: string (nullable = true)\n",
      " |-- Customer.ID: string (nullable = true)\n",
      " |-- Customer.Name: string (nullable = true)\n",
      " |-- Discount: double (nullable = true)\n",
      " |-- Market: string (nullable = true)\n",
      " |-- 记录数: integer (nullable = true)\n",
      " |-- Order.Date: timestamp (nullable = true)\n",
      " |-- Order.ID: string (nullable = true)\n",
      " |-- Order.Priority: string (nullable = true)\n",
      " |-- Product.ID: string (nullable = true)\n",
      " |-- Product.Name: string (nullable = true)\n",
      " |-- Profit: string (nullable = true)\n",
      " |-- Quantity: string (nullable = true)\n",
      " |-- Region: string (nullable = true)\n",
      " |-- Row.ID: string (nullable = true)\n",
      " |-- Sales: integer (nullable = true)\n",
      " |-- Segment: string (nullable = true)\n",
      " |-- Ship.Date: string (nullable = true)\n",
      " |-- Ship.Mode: string (nullable = true)\n",
      " |-- Shipping.Cost: string (nullable = true)\n",
      " |-- State: string (nullable = true)\n",
      " |-- Sub.Category: string (nullable = true)\n",
      " |-- Year: string (nullable = true)\n",
      " |-- Market2: string (nullable = true)\n",
      " |-- weeknum: string (nullable = true)\n",
      "\n"
     ]
    }
   ],
   "source": [
    "from pyspark.sql.functions import col\n",
    "from pyspark.sql.types import IntegerType\n",
    "\n",
    "# Assume df is your DataFrame\n",
    "df = df.withColumn(\"Sales\", col(\"Sales\").cast(IntegerType()))\n",
    "df.printSchema()"
   ]
  },
  {
   "cell_type": "code",
   "execution_count": 15,
   "id": "b0a89b91-35e2-435d-ac44-b83e950a4ee5",
   "metadata": {},
   "outputs": [],
   "source": [
    "df_repartitioned = df.repartition(5)"
   ]
  },
  {
   "cell_type": "code",
   "execution_count": 11,
   "id": "204c0fff-069b-4038-a431-d55163658481",
   "metadata": {},
   "outputs": [
    {
     "name": "stdout",
     "output_type": "stream",
     "text": [
      "Number of partitions after repartition: 5\n"
     ]
    }
   ],
   "source": [
    "print(\"Number of partitions after repartition:\", df_repartitioned.rdd.getNumPartitions())  # Output: 5"
   ]
  },
  {
   "cell_type": "code",
   "execution_count": 16,
   "id": "e37337c2-f0a1-492d-8747-21c48b9abe45",
   "metadata": {},
   "outputs": [
    {
     "name": "stdout",
     "output_type": "stream",
     "text": [
      "+---------------+----------+\n",
      "|       Category|sum(Sales)|\n",
      "+---------------+----------+\n",
      "|Office Supplies|  12257825|\n",
      "|      Furniture|   5527137|\n",
      "|     Technology|   5026222|\n",
      "+---------------+----------+\n",
      "\n"
     ]
    }
   ],
   "source": [
    "df_repartitioned.groupBy(\"Category\").sum(\"Sales\").show()"
   ]
  },
  {
   "cell_type": "code",
   "execution_count": 17,
   "id": "2da1bc24-f758-4775-8e8e-31df0761eebf",
   "metadata": {},
   "outputs": [
    {
     "name": "stdout",
     "output_type": "stream",
     "text": [
      "Number of partitions after coalesce: 2\n"
     ]
    }
   ],
   "source": [
    "# Filter to reduce data\n",
    "df_filtered = df.filter(df[\"Quantity\"] > 10)\n",
    "\n",
    "# Coalesce to 2 partitions\n",
    "df_coalesced = df_filtered.coalesce(2)\n",
    "\n",
    "# Check number of partitions\n",
    "print(\"Number of partitions after coalesce:\", df_coalesced.rdd.getNumPartitions())  # Output: 2\n",
    "\n",
    "# Write to disk (action)\n",
    "df_coalesced.write.csv(\"superstore_filtered\")"
   ]
  },
  {
   "cell_type": "code",
   "execution_count": null,
   "id": "afdd4b97-7616-45f0-b28b-556e5084f3f1",
   "metadata": {},
   "outputs": [],
   "source": []
  }
 ],
 "metadata": {
  "kernelspec": {
   "display_name": "Python 3 (ipykernel)",
   "language": "python",
   "name": "python3"
  },
  "language_info": {
   "codemirror_mode": {
    "name": "ipython",
    "version": 3
   },
   "file_extension": ".py",
   "mimetype": "text/x-python",
   "name": "python",
   "nbconvert_exporter": "python",
   "pygments_lexer": "ipython3",
   "version": "3.9.2"
  }
 },
 "nbformat": 4,
 "nbformat_minor": 5
}
