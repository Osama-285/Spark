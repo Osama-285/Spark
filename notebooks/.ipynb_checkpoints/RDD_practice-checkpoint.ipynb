{
 "cells": [
  {
   "cell_type": "code",
   "execution_count": 1,
   "id": "661fe18e-d30b-4016-a7c4-65c9d1628f38",
   "metadata": {},
   "outputs": [],
   "source": [
    "from pyspark.sql import SparkSession\n",
    "spark = SparkSession.builder.appName(\"RDD_Practice\").getOrCreate()\n",
    "sc = spark.sparkContext"
   ]
  },
  {
   "cell_type": "code",
   "execution_count": 2,
   "id": "ac949049-d57b-4140-90dd-399890eb5a8e",
   "metadata": {},
   "outputs": [
    {
     "data": {
      "text/html": [
       "\n",
       "            <div>\n",
       "                <p><b>SparkSession - in-memory</b></p>\n",
       "                \n",
       "        <div>\n",
       "            <p><b>SparkContext</b></p>\n",
       "\n",
       "            <p><a href=\"http://f5838d8c3611:4040\">Spark UI</a></p>\n",
       "\n",
       "            <dl>\n",
       "              <dt>Version</dt>\n",
       "                <dd><code>v3.5.3</code></dd>\n",
       "              <dt>Master</dt>\n",
       "                <dd><code>local[*]</code></dd>\n",
       "              <dt>AppName</dt>\n",
       "                <dd><code>RDD_Practice</code></dd>\n",
       "            </dl>\n",
       "        </div>\n",
       "        \n",
       "            </div>\n",
       "        "
      ],
      "text/plain": [
       "<pyspark.sql.session.SparkSession at 0x7f42c534c130>"
      ]
     },
     "execution_count": 2,
     "metadata": {},
     "output_type": "execute_result"
    }
   ],
   "source": [
    "spark"
   ]
  },
  {
   "cell_type": "code",
   "execution_count": 3,
   "id": "6c223958-fb9e-46d6-ba2a-872c40d321b1",
   "metadata": {},
   "outputs": [
    {
     "name": "stdout",
     "output_type": "stream",
     "text": [
      "RDD Elements: [1, 2, 3, 4, 5, 6]\n"
     ]
    }
   ],
   "source": [
    "data = [1, 2, 3, 4, 5, 6]\n",
    "rdd = sc.parallelize(data)\n",
    "\n",
    "print(\"RDD Elements:\", rdd.collect())"
   ]
  },
  {
   "cell_type": "code",
   "execution_count": 4,
   "id": "d7165d95-52ed-4269-90c1-1838b9ca8a58",
   "metadata": {},
   "outputs": [
    {
     "name": "stdout",
     "output_type": "stream",
     "text": [
      "Squared: [1, 4, 9, 16, 25, 36]\n",
      "Even numbers: [2, 4, 6]\n"
     ]
    }
   ],
   "source": [
    "# map → transform each element\n",
    "squared = rdd.map(lambda x: x * x)\n",
    "print(\"Squared:\", squared.collect())\n",
    "\n",
    "# filter → select elements\n",
    "even = rdd.filter(lambda x: x % 2 == 0)\n",
    "print(\"Even numbers:\", even.collect())\n"
   ]
  },
  {
   "cell_type": "code",
   "execution_count": 5,
   "id": "1dc236c3-a071-4e9e-aa85-f7f9c9c607de",
   "metadata": {},
   "outputs": [
    {
     "name": "stdout",
     "output_type": "stream",
     "text": [
      "Count: 6\n",
      "Sum: 21\n",
      "Max: 6\n",
      "First element: 1\n"
     ]
    }
   ],
   "source": [
    "print(\"Count:\", rdd.count())\n",
    "print(\"Sum:\", rdd.sum())\n",
    "print(\"Max:\", rdd.max())\n",
    "print(\"First element:\", rdd.first())\n"
   ]
  },
  {
   "cell_type": "code",
   "execution_count": 6,
   "id": "33545933-0cc2-45f0-a5f7-77396284512b",
   "metadata": {},
   "outputs": [
    {
     "name": "stdout",
     "output_type": "stream",
     "text": [
      "Word Count: [('are', 1), ('trigger', 1), ('powerful', 1), ('lazy', 1), ('Spark', 1), ('execution', 1), ('actions', 1), ('RDD', 3), ('is', 1), ('transformations', 1)]\n"
     ]
    }
   ],
   "source": [
    "lines = sc.parallelize([\n",
    "    \"Spark RDD is powerful\",\n",
    "    \"RDD transformations are lazy\",\n",
    "    \"RDD actions trigger execution\"\n",
    "])\n",
    "\n",
    "words = lines.flatMap(lambda line: line.split(\" \"))\n",
    "pairs = words.map(lambda word: (word, 1))\n",
    "word_counts = pairs.reduceByKey(lambda a, b: a + b)\n",
    "\n",
    "print(\"Word Count:\", word_counts.collect())"
   ]
  },
  {
   "cell_type": "code",
   "execution_count": 7,
   "id": "f917ee12-e3e4-4809-97e9-3e892430cfa0",
   "metadata": {},
   "outputs": [
    {
     "name": "stdout",
     "output_type": "stream",
     "text": [
      "Grouped: [('a', [1, 3]), ('b', [2, 4])]\n",
      "Summed: [('a', 4), ('b', 6)]\n"
     ]
    }
   ],
   "source": [
    "data = [(\"a\", 1), (\"b\", 2), (\"a\", 3), (\"b\", 4)]\n",
    "rdd = sc.parallelize(data)\n",
    "\n",
    "# groupByKey\n",
    "grouped = rdd.groupByKey().mapValues(list)\n",
    "print(\"Grouped:\", grouped.collect())\n",
    "\n",
    "# reduceByKey (better than groupByKey)\n",
    "summed = rdd.reduceByKey(lambda a, b: a + b)\n",
    "print(\"Summed:\", summed.collect())\n"
   ]
  },
  {
   "cell_type": "code",
   "execution_count": 8,
   "id": "58531d44-a9cb-4f1d-a371-9b9f8ce36f28",
   "metadata": {},
   "outputs": [
    {
     "name": "stdout",
     "output_type": "stream",
     "text": [
      "Sorted: [('a', 4), ('b', 6)]\n",
      "Sort by Value: [('b', 6), ('a', 4)]\n"
     ]
    }
   ],
   "source": [
    "# Sort by key\n",
    "print(\"Sorted:\", summed.sortByKey().collect())\n",
    "\n",
    "# Sort by value\n",
    "print(\"Sort by Value:\", summed.sortBy(lambda x: x[1], ascending=False).collect())\n"
   ]
  },
  {
   "cell_type": "code",
   "execution_count": null,
   "id": "bf8eebee-496e-48e2-a3e4-34aabecc7e91",
   "metadata": {},
   "outputs": [],
   "source": [
    "rdd1 = sc.parallelize([(\"a\", 1), (\"b\", 2)])\n",
    "rdd2 = sc.parallelize([(\"a\", 3), (\"b\", 4), (\"c\", 5)])\n",
    "\n",
    "print(\"Join:\", rdd1.join(rdd2).collect())\n",
    "print(\"Left Outer Join:\", rdd1.leftOuterJoin(rdd2).collect())\n",
    "print(\"Right Outer Join:\", rdd1.rightOuterJoin(rdd2).collect())\n"
   ]
  },
  {
   "cell_type": "code",
   "execution_count": null,
   "id": "c6e8d453-3c5e-45f4-9c1c-d429b31a8973",
   "metadata": {},
   "outputs": [],
   "source": []
  }
 ],
 "metadata": {
  "kernelspec": {
   "display_name": "Python 3 (ipykernel)",
   "language": "python",
   "name": "python3"
  },
  "language_info": {
   "codemirror_mode": {
    "name": "ipython",
    "version": 3
   },
   "file_extension": ".py",
   "mimetype": "text/x-python",
   "name": "python",
   "nbconvert_exporter": "python",
   "pygments_lexer": "ipython3",
   "version": "3.9.2"
  }
 },
 "nbformat": 4,
 "nbformat_minor": 5
}
