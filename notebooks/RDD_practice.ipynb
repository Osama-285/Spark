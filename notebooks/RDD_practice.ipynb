{
 "cells": [
  {
   "cell_type": "code",
   "execution_count": 1,
   "id": "661fe18e-d30b-4016-a7c4-65c9d1628f38",
   "metadata": {},
   "outputs": [],
   "source": [
    "from pyspark.sql import SparkSession\n",
    "spark = SparkSession.builder.appName(\"RDD_Practice\").getOrCreate()\n",
    "sc = spark.sparkContext"
   ]
  },
  {
   "cell_type": "code",
   "execution_count": 2,
   "id": "ac949049-d57b-4140-90dd-399890eb5a8e",
   "metadata": {},
   "outputs": [
    {
     "data": {
      "text/html": [
       "\n",
       "            <div>\n",
       "                <p><b>SparkSession - in-memory</b></p>\n",
       "                \n",
       "        <div>\n",
       "            <p><b>SparkContext</b></p>\n",
       "\n",
       "            <p><a href=\"http://f5838d8c3611:4040\">Spark UI</a></p>\n",
       "\n",
       "            <dl>\n",
       "              <dt>Version</dt>\n",
       "                <dd><code>v3.5.3</code></dd>\n",
       "              <dt>Master</dt>\n",
       "                <dd><code>local[*]</code></dd>\n",
       "              <dt>AppName</dt>\n",
       "                <dd><code>RDD_Practice</code></dd>\n",
       "            </dl>\n",
       "        </div>\n",
       "        \n",
       "            </div>\n",
       "        "
      ],
      "text/plain": [
       "<pyspark.sql.session.SparkSession at 0x7f42c534c130>"
      ]
     },
     "execution_count": 2,
     "metadata": {},
     "output_type": "execute_result"
    }
   ],
   "source": [
    "spark"
   ]
  },
  {
   "cell_type": "code",
   "execution_count": 3,
   "id": "6c223958-fb9e-46d6-ba2a-872c40d321b1",
   "metadata": {},
   "outputs": [
    {
     "name": "stdout",
     "output_type": "stream",
     "text": [
      "RDD Elements: [1, 2, 3, 4, 5, 6]\n"
     ]
    }
   ],
   "source": [
    "data = [1, 2, 3, 4, 5, 6]\n",
    "rdd = sc.parallelize(data)\n",
    "\n",
    "print(\"RDD Elements:\", rdd.collect())"
   ]
  },
  {
   "cell_type": "code",
   "execution_count": 4,
   "id": "d7165d95-52ed-4269-90c1-1838b9ca8a58",
   "metadata": {},
   "outputs": [
    {
     "name": "stdout",
     "output_type": "stream",
     "text": [
      "Squared: [1, 4, 9, 16, 25, 36]\n",
      "Even numbers: [2, 4, 6]\n"
     ]
    }
   ],
   "source": [
    "# map → transform each element\n",
    "squared = rdd.map(lambda x: x * x)\n",
    "print(\"Squared:\", squared.collect())\n",
    "\n",
    "# filter → select elements\n",
    "even = rdd.filter(lambda x: x % 2 == 0)\n",
    "print(\"Even numbers:\", even.collect())\n"
   ]
  },
  {
   "cell_type": "code",
   "execution_count": 5,
   "id": "1dc236c3-a071-4e9e-aa85-f7f9c9c607de",
   "metadata": {},
   "outputs": [
    {
     "name": "stdout",
     "output_type": "stream",
     "text": [
      "Count: 6\n",
      "Sum: 21\n",
      "Max: 6\n",
      "First element: 1\n"
     ]
    }
   ],
   "source": [
    "print(\"Count:\", rdd.count())\n",
    "print(\"Sum:\", rdd.sum())\n",
    "print(\"Max:\", rdd.max())\n",
    "print(\"First element:\", rdd.first())\n"
   ]
  },
  {
   "cell_type": "code",
   "execution_count": 6,
   "id": "33545933-0cc2-45f0-a5f7-77396284512b",
   "metadata": {},
   "outputs": [
    {
     "name": "stdout",
     "output_type": "stream",
     "text": [
      "Word Count: [('are', 1), ('trigger', 1), ('powerful', 1), ('lazy', 1), ('Spark', 1), ('execution', 1), ('actions', 1), ('RDD', 3), ('is', 1), ('transformations', 1)]\n"
     ]
    }
   ],
   "source": [
    "lines = sc.parallelize([\n",
    "    \"Spark RDD is powerful\",\n",
    "    \"RDD transformations are lazy\",\n",
    "    \"RDD actions trigger execution\"\n",
    "])\n",
    "\n",
    "words = lines.flatMap(lambda line: line.split(\" \"))\n",
    "pairs = words.map(lambda word: (word, 1))\n",
    "word_counts = pairs.reduceByKey(lambda a, b: a + b)\n",
    "\n",
    "print(\"Word Count:\", word_counts.collect())"
   ]
  },
  {
   "cell_type": "code",
   "execution_count": 7,
   "id": "f917ee12-e3e4-4809-97e9-3e892430cfa0",
   "metadata": {},
   "outputs": [
    {
     "name": "stdout",
     "output_type": "stream",
     "text": [
      "Grouped: [('a', [1, 3]), ('b', [2, 4])]\n",
      "Summed: [('a', 4), ('b', 6)]\n"
     ]
    }
   ],
   "source": [
    "data = [(\"a\", 1), (\"b\", 2), (\"a\", 3), (\"b\", 4)]\n",
    "rdd = sc.parallelize(data)\n",
    "\n",
    "# groupByKey\n",
    "grouped = rdd.groupByKey().mapValues(list)\n",
    "print(\"Grouped:\", grouped.collect())\n",
    "\n",
    "# reduceByKey (better than groupByKey)\n",
    "summed = rdd.reduceByKey(lambda a, b: a + b)\n",
    "print(\"Summed:\", summed.collect())\n"
   ]
  },
  {
   "cell_type": "code",
   "execution_count": 8,
   "id": "58531d44-a9cb-4f1d-a371-9b9f8ce36f28",
   "metadata": {},
   "outputs": [
    {
     "name": "stdout",
     "output_type": "stream",
     "text": [
      "Sorted: [('a', 4), ('b', 6)]\n",
      "Sort by Value: [('b', 6), ('a', 4)]\n"
     ]
    }
   ],
   "source": [
    "# Sort by key\n",
    "print(\"Sorted:\", summed.sortByKey().collect())\n",
    "\n",
    "# Sort by value\n",
    "print(\"Sort by Value:\", summed.sortBy(lambda x: x[1], ascending=False).collect())\n"
   ]
  },
  {
   "cell_type": "code",
   "execution_count": 9,
   "id": "bf8eebee-496e-48e2-a3e4-34aabecc7e91",
   "metadata": {},
   "outputs": [
    {
     "name": "stdout",
     "output_type": "stream",
     "text": [
      "Join: [('b', (2, 4)), ('a', (1, 3))]\n",
      "Left Outer Join: [('b', (2, 4)), ('a', (1, 3))]\n",
      "Right Outer Join: [('b', (2, 4)), ('c', (None, 5)), ('a', (1, 3))]\n"
     ]
    }
   ],
   "source": [
    "rdd1 = sc.parallelize([(\"a\", 1), (\"b\", 2)])\n",
    "rdd2 = sc.parallelize([(\"a\", 3), (\"b\", 4), (\"c\", 5)])\n",
    "\n",
    "print(\"Join:\", rdd1.join(rdd2).collect())\n",
    "print(\"Left Outer Join:\", rdd1.leftOuterJoin(rdd2).collect())\n",
    "print(\"Right Outer Join:\", rdd1.rightOuterJoin(rdd2).collect())\n"
   ]
  },
  {
   "cell_type": "code",
   "execution_count": 10,
   "id": "c6e8d453-3c5e-45f4-9c1c-d429b31a8973",
   "metadata": {},
   "outputs": [
    {
     "name": "stdout",
     "output_type": "stream",
     "text": [
      "Partitions: 4\n",
      "Repartitioned: 2\n"
     ]
    }
   ],
   "source": [
    "rdd = sc.parallelize(range(1, 101), 4)  # 4 partitions\n",
    "print(\"Partitions:\", rdd.getNumPartitions())\n",
    "\n",
    "# Repartition\n",
    "rdd2 = rdd.repartition(2)\n",
    "print(\"Repartitioned:\", rdd2.getNumPartitions())\n"
   ]
  },
  {
   "cell_type": "code",
   "execution_count": 11,
   "id": "ace9ffd7-90f7-464d-b69b-27083f14cea4",
   "metadata": {},
   "outputs": [
    {
     "name": "stdout",
     "output_type": "stream",
     "text": [
      "Cached sum: 499999500000\n"
     ]
    },
    {
     "data": {
      "text/plain": [
       "PythonRDD[72] at RDD at PythonRDD.scala:53"
      ]
     },
     "execution_count": 11,
     "metadata": {},
     "output_type": "execute_result"
    }
   ],
   "source": [
    "big_rdd = sc.parallelize(range(1, 1000000))\n",
    "\n",
    "big_rdd.cache()   # keep in memory\n",
    "print(\"Cached sum:\", big_rdd.sum())\n",
    "\n",
    "big_rdd.unpersist()\n"
   ]
  },
  {
   "cell_type": "code",
   "execution_count": 12,
   "id": "14c15fb8-a96a-461e-89a5-818ef2c9e90c",
   "metadata": {},
   "outputs": [
    {
     "name": "stdout",
     "output_type": "stream",
     "text": [
      "AggregateByKey: [('a', 7), ('b', 8)]\n"
     ]
    }
   ],
   "source": [
    "pairs = sc.parallelize([(\"a\", 1), (\"a\", 2), (\"b\", 3), (\"a\", 4), (\"b\", 5)])\n",
    "\n",
    "# aggregateByKey(zeroValue, seqFunc, combFunc)\n",
    "result = pairs.aggregateByKey(0, \n",
    "                              lambda acc, v: acc + v,   # within partition\n",
    "                              lambda acc1, acc2: acc1 + acc2)  # across partitions\n",
    "\n",
    "print(\"AggregateByKey:\", result.collect())\n"
   ]
  },
  {
   "cell_type": "code",
   "execution_count": 14,
   "id": "7f5b10d8-e3d0-4eba-9e6d-4bab88177b59",
   "metadata": {},
   "outputs": [
    {
     "name": "stdout",
     "output_type": "stream",
     "text": [
      "Partition Sums: [15, 40]\n"
     ]
    }
   ],
   "source": [
    "def process_partition(iterable):\n",
    "    yield sum(iterable)\n",
    "\n",
    "rdd = sc.parallelize(range(1, 11), 2)\n",
    "partition_sum = rdd.mapPartitions(process_partition)\n",
    "print(\"Partition Sums:\", partition_sum.collect())\n"
   ]
  },
  {
   "cell_type": "code",
   "execution_count": null,
   "id": "fbb25e48-7ce5-4358-ad66-f7a2d8a3fe4d",
   "metadata": {},
   "outputs": [],
   "source": []
  },
  {
   "cell_type": "code",
   "execution_count": 15,
   "id": "ff6fbd94-48a4-4634-a2df-8f9e0ee661f1",
   "metadata": {},
   "outputs": [
    {
     "name": "stdout",
     "output_type": "stream",
     "text": [
      "Partitions: 3\n"
     ]
    }
   ],
   "source": [
    "from pyspark.rdd import portable_hash\n",
    "\n",
    "data = [(\"apple\", 1), (\"banana\", 2), (\"apple\", 3), (\"orange\", 4)]\n",
    "rdd = sc.parallelize(data)\n",
    "\n",
    "# Hash partitioner\n",
    "partitioned = rdd.partitionBy(3, lambda key: portable_hash(key) % 3)\n",
    "print(\"Partitions:\", partitioned.getNumPartitions())\n"
   ]
  },
  {
   "cell_type": "code",
   "execution_count": null,
   "id": "c2a150b6-9250-4bed-8354-8d4bd3982bbf",
   "metadata": {},
   "outputs": [],
   "source": []
  }
 ],
 "metadata": {
  "kernelspec": {
   "display_name": "Python 3 (ipykernel)",
   "language": "python",
   "name": "python3"
  },
  "language_info": {
   "codemirror_mode": {
    "name": "ipython",
    "version": 3
   },
   "file_extension": ".py",
   "mimetype": "text/x-python",
   "name": "python",
   "nbconvert_exporter": "python",
   "pygments_lexer": "ipython3",
   "version": "3.9.2"
  }
 },
 "nbformat": 4,
 "nbformat_minor": 5
}
