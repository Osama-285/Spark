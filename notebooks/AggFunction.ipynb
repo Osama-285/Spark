{
 "cells": [
  {
   "cell_type": "code",
   "execution_count": 1,
   "id": "708a6e92-d9f1-44e4-96ed-a677df304638",
   "metadata": {},
   "outputs": [
    {
     "data": {
      "text/html": [
       "\n",
       "            <div>\n",
       "                <p><b>SparkSession - in-memory</b></p>\n",
       "                \n",
       "        <div>\n",
       "            <p><b>SparkContext</b></p>\n",
       "\n",
       "            <p><a href=\"http://25980bb9571e:4040\">Spark UI</a></p>\n",
       "\n",
       "            <dl>\n",
       "              <dt>Version</dt>\n",
       "                <dd><code>v3.5.3</code></dd>\n",
       "              <dt>Master</dt>\n",
       "                <dd><code>local[*]</code></dd>\n",
       "              <dt>AppName</dt>\n",
       "                <dd><code>optimization</code></dd>\n",
       "            </dl>\n",
       "        </div>\n",
       "        \n",
       "            </div>\n",
       "        "
      ],
      "text/plain": [
       "<pyspark.sql.session.SparkSession at 0x7fcbb5e38ac0>"
      ]
     },
     "execution_count": 1,
     "metadata": {},
     "output_type": "execute_result"
    }
   ],
   "source": [
    "from pyspark.sql import SparkSession\n",
    "\n",
    "spark = SparkSession.builder.appName(\"optimization\").getOrCreate()\n",
    "spark"
   ]
  },
  {
   "cell_type": "code",
   "execution_count": 2,
   "id": "bd637f3f-db59-4e0c-8d8f-f381e1a30e74",
   "metadata": {},
   "outputs": [
    {
     "name": "stdout",
     "output_type": "stream",
     "text": [
      "+------------+-------+---------+-----------+--------------------+----------------------+--------------------+----------+----------+\n",
      "|flightNumber|airline|   origin|destination|           dayOfWeek|scheduledDepartureTime|scheduledArrivalTime| validFrom|   validTo|\n",
      "+------------+-------+---------+-----------+--------------------+----------------------+--------------------+----------+----------+\n",
      "|         425|  GoAir|    Delhi|  Hyderabad|Sunday,Monday,Tue...|   2025-04-23 05:45:00|                NULL|28-10-2018|30-03-2019|\n",
      "|         423|  GoAir|    Delhi|  Hyderabad|            Saturday|   2025-04-23 07:30:00|                NULL|28-10-2018|28-10-2018|\n",
      "|         423|  GoAir|    Delhi|  Hyderabad|              Friday|   2025-04-23 07:30:00|                NULL|03-11-2018|01-12-2018|\n",
      "|         423|  GoAir|    Delhi|  Hyderabad|              Friday|   2025-04-23 07:30:00|                NULL|02-02-2019|30-03-2019|\n",
      "|         423|  GoAir|    Delhi|  Hyderabad|Sunday,Monday,Tue...|   2025-04-23 07:30:00|                NULL|29-10-2018|30-11-2018|\n",
      "|         423|  GoAir|    Delhi|  Hyderabad|Sunday,Monday,Tue...|   2025-04-23 07:30:00|                NULL|01-02-2019|29-03-2019|\n",
      "|         423|  GoAir|    Delhi|  Hyderabad|Sunday,Monday,Tue...|   2025-04-23 07:30:00|                NULL|02-12-2018|31-01-2019|\n",
      "|         422|  GoAir|    Delhi|  Hyderabad|Sunday,Monday,Tue...|   2025-04-23 20:55:00|                NULL|28-10-2018|30-03-2019|\n",
      "|         559|  GoAir|  Lucknow|  Hyderabad|Sunday,Tuesday,We...|   2025-04-23 15:45:00| 2025-04-23 17:45:00|28-10-2018|30-03-2019|\n",
      "|         580|  GoAir|    Kochi|  Hyderabad|Sunday,Monday,Tue...|   2025-04-23 04:45:00| 2025-04-23 06:15:00|28-10-2018|30-03-2019|\n",
      "|         587|  GoAir|    Kochi|  Hyderabad|Sunday,Tuesday,We...|   2025-04-23 17:20:00| 2025-04-23 19:20:00|28-10-2018|30-03-2019|\n",
      "|         587|  GoAir|    Kochi|  Hyderabad|              Monday|   2025-04-23 17:50:00| 2025-04-23 19:20:00|28-10-2018|30-03-2019|\n",
      "|         553|  GoAir|Ahmedabad|  Hyderabad|Sunday,Monday,Tue...|   2025-04-23 11:05:00| 2025-04-23 12:45:00|29-10-2018|30-03-2019|\n",
      "|         552|  GoAir|Ahmedabad|  Hyderabad|Sunday,Monday,Tue...|   2025-04-23 20:35:00| 2025-04-23 22:20:00|28-10-2018|30-03-2019|\n",
      "|         553|  GoAir|Ahmedabad|  Hyderabad|Sunday,Monday,Tue...|   2025-04-23 11:00:00| 2025-04-23 12:45:00|01-04-2019|26-10-2019|\n",
      "|         552|  GoAir|Ahmedabad|  Hyderabad|Sunday,Monday,Tue...|   2025-04-23 20:40:00| 2025-04-23 22:20:00|31-03-2019|26-10-2019|\n",
      "|         701|  GoAir|   Jaipur|  Hyderabad|            Saturday|   2025-04-23 08:55:00| 2025-04-23 10:55:00|28-10-2018|24-03-2019|\n",
      "|         431|  GoAir|   Jaipur|  Hyderabad|Sunday,Monday,Tue...|   2025-04-23 12:45:00| 2025-04-23 15:05:00|28-10-2018|30-03-2019|\n",
      "|         385|  GoAir|   Jaipur|  Hyderabad|Sunday,Monday,Tue...|   2025-04-23 17:55:00|                NULL|28-10-2018|30-03-2019|\n",
      "|         894|  GoAir|Bengaluru|  Hyderabad|            Saturday|   2025-04-23 11:30:00| 2025-04-23 12:40:00|28-10-2018|24-03-2019|\n",
      "+------------+-------+---------+-----------+--------------------+----------------------+--------------------+----------+----------+\n",
      "only showing top 20 rows\n",
      "\n"
     ]
    }
   ],
   "source": [
    "df = spark.read.csv(\"Flight_Schedule.csv\", inferSchema = True, header=True)\n",
    "\n",
    "df.show()"
   ]
  },
  {
   "cell_type": "code",
   "execution_count": 6,
   "id": "e84a8c0b-8e79-48f1-a76e-486f63c35f29",
   "metadata": {},
   "outputs": [
    {
     "name": "stdout",
     "output_type": "stream",
     "text": [
      "+------------+-------------+---------+-----------+-------------+----------------------+--------------------+-----------+-------------+-----------+--------------+------------+\n",
      "|flightNumber|      airline|   origin|destination|validFromDate|scheduledDepartureTime|           dayOfWeek|validToDate|validFromYear|validToYear|validFromMonth|validToMonth|\n",
      "+------------+-------------+---------+-----------+-------------+----------------------+--------------------+-----------+-------------+-----------+--------------+------------+\n",
      "|         120|        GoAir|Bengaluru|      Delhi|            2|   2025-04-23 11:35:00|              Monday|         22|         2019|       2019|             4|          10|\n",
      "|         633|        GoAir|Ahmedabad|       Pune|           28|   2025-04-23 21:10:00|Sunday,Monday,Tue...|         30|         2018|       2019|            10|           3|\n",
      "|         514|    Air India|     Pune|  Hyderabad|           28|   2025-04-23 15:05:00|Sunday,Monday,Tue...|         29|         2018|       2018|            10|          11|\n",
      "|         505|    Air India|Bengaluru|      Delhi|           28|   2025-04-23 10:00:00|Sunday,Monday,Tue...|         30|         2018|       2019|            10|           3|\n",
      "|         512|    Air India|    Delhi|      Kochi|           28|   2025-04-23 14:10:00|Sunday,Monday,Tue...|         30|         2018|       2019|            10|           3|\n",
      "|         564|    Air India|Bengaluru|    Chennai|           30|   2025-04-23 11:40:00|              Monday|         26|         2018|       2019|            10|           3|\n",
      "|        3714|    Air India|   Imphal|    Kolkata|           31|   2025-04-23 16:45:00|      Tuesday,Friday|         30|         2018|       2019|            10|           3|\n",
      "|        1324|AirAsia India|Bengaluru|        Goa|            1|   2025-04-23 06:05:00|Sunday,Monday,Tue...|         26|         2019|       2019|             4|          10|\n",
      "|         452|  Jet Airways|Hyderabad|     Mumbai|           28|   2025-04-23 18:00:00|Sunday,Monday,Tue...|         30|         2018|       2019|            10|           3|\n",
      "|         330|  Jet Airways|Ahmedabad|     Mumbai|           28|   2025-04-23 21:30:00|Sunday,Monday,Tue...|         30|         2018|       2019|            10|           3|\n",
      "|         414|  Jet Airways|   Mumbai|    Chennai|           28|   2025-04-23 08:40:00|Sunday,Monday,Tue...|         30|         2018|       2019|            10|           3|\n",
      "|         767|   TestIndigo|    Delhi|  Hyderabad|           28|   2025-04-23 22:35:00|Sunday,Monday,Tue...|         29|         2018|       2019|            10|           3|\n",
      "|         471|   TestIndigo|   Jaipur|  Hyderabad|           16|   2025-04-23 16:40:00|Sunday,Monday,Tue...|         30|         2019|       2019|             2|           3|\n",
      "|        2132|   TestIndigo|Bengaluru|      Delhi|           31|   2025-04-23 06:00:00|Sunday,Monday,Tue...|         25|         2019|       2019|             3|          10|\n",
      "|         356|   TestIndigo|Bengaluru|     Nagpur|           16|   2025-04-23 14:15:00|Sunday,Tuesday,We...|         30|         2019|       2019|             2|           3|\n",
      "|         959|   TestIndigo|    Delhi|    Lucknow|           28|   2025-04-23 16:40:00|Sunday,Monday,Tue...|         30|         2018|       2019|            10|           3|\n",
      "|        6446|   TestIndigo|   Mumbai|    Lucknow|           28|   2025-04-23 18:50:00|Sunday,Monday,Tue...|          1|         2018|       2018|            10|          12|\n",
      "|         223|   TestIndigo|   Mumbai|      Kochi|           28|   2025-04-23 13:35:00|Sunday,Tuesday,We...|         30|         2018|       2019|            10|           3|\n",
      "|        6523|   TestIndigo|  Kolkata|     Imphal|           16|   2025-04-23 09:05:00|Sunday,Monday,Tue...|         30|         2019|       2019|             2|           3|\n",
      "|         995|   TestIndigo|Hyderabad|  Ahmedabad|           28|   2025-04-23 05:20:00|            Saturday|         28|         2018|       2018|            10|          10|\n",
      "+------------+-------------+---------+-----------+-------------+----------------------+--------------------+-----------+-------------+-----------+--------------+------------+\n",
      "only showing top 20 rows\n",
      "\n"
     ]
    }
   ],
   "source": [
    "from pyspark.sql.functions import dayofmonth, year, month, to_date, col\n",
    "\n",
    "splitData = df.withColumn(\"validFromDate\", to_date(col(\"validFrom\"), \"dd-MM-yyyy\")) \\\n",
    "            .withColumn(\"validFromYear\", year(col(\"validFromDate\"))) \\\n",
    "            .withColumn(\"validFromMonth\", month(col(\"validFromDate\"))) \\\n",
    "            .withColumn(\"validFromDate\", dayofmonth(col(\"validFromDate\"))) \\\n",
    "            .withColumn(\"validToDate\", to_date(col(\"validTo\"), \"dd-MM-yyyy\")) \\\n",
    "            .withColumn(\"validToYear\", year(col(\"validToDate\"))) \\\n",
    "            .withColumn(\"validToMonth\", month(col(\"validToDate\"))) \\\n",
    "            .withColumn(\"validToDate\", dayofmonth(col(\"validToDate\")))\n",
    "splitData.select(\"flightNumber\",\"airline\",\"origin\",\"destination\",\"validFromDate\", \"scheduledDepartureTime\",\"dayOfWeek\",\"validToDate\", \"validFromYear\",\"validToYear\",\"validFromMonth\",\"validToMonth\") \\\n",
    "             .distinct().show()\n"
   ]
  },
  {
   "cell_type": "code",
   "execution_count": 7,
   "id": "42707032-7df9-4351-8247-1111b1441efe",
   "metadata": {},
   "outputs": [
    {
     "name": "stdout",
     "output_type": "stream",
     "text": [
      "+------------+-------+---------------------------------------+--------------------------------------------------------+\n",
      "|flightNumber|airline|routeInformation                       |dayOfWeek                                               |\n",
      "+------------+-------+---------------------------------------+--------------------------------------------------------+\n",
      "|425         |GoAir  |{Delhi, Hyderabad, 2025-04-23 05:45:00}|Sunday,Monday,Tuesday,Wednesday,Thursday,Friday,Saturday|\n",
      "|423         |GoAir  |{Delhi, Hyderabad, 2025-04-23 07:30:00}|Saturday                                                |\n",
      "|423         |GoAir  |{Delhi, Hyderabad, 2025-04-23 07:30:00}|Friday                                                  |\n",
      "|423         |GoAir  |{Delhi, Hyderabad, 2025-04-23 07:30:00}|Friday                                                  |\n",
      "|423         |GoAir  |{Delhi, Hyderabad, 2025-04-23 07:30:00}|Sunday,Monday,Tuesday,Wednesday,Thursday,Saturday       |\n",
      "+------------+-------+---------------------------------------+--------------------------------------------------------+\n",
      "only showing top 5 rows\n",
      "\n"
     ]
    }
   ],
   "source": [
    "from pyspark.sql.functions import struct\n",
    "\n",
    "splitData.createOrReplaceTempView(\"flights\")\n",
    "dfStruct = df.select(\"flightNumber\", \"airline\", struct(\"origin\", \"destination\",\"scheduledDepartureTime\").alias(\"routeInformation\"), \"dayOfWeek\").show(5, truncate=False)\n"
   ]
  },
  {
   "cell_type": "code",
   "execution_count": 8,
   "id": "3dfe777e-7fd4-4fe1-a015-148b8f6ad211",
   "metadata": {},
   "outputs": [
    {
     "name": "stdout",
     "output_type": "stream",
     "text": [
      "+------------+-------+------+-----------+----------------------------------------------------------------+\n",
      "|flightNumber|airline|origin|destination|days_array                                                      |\n",
      "+------------+-------+------+-----------+----------------------------------------------------------------+\n",
      "|425         |GoAir  |Delhi |Hyderabad  |[Sunday, Monday, Tuesday, Wednesday, Thursday, Friday, Saturday]|\n",
      "|423         |GoAir  |Delhi |Hyderabad  |[Sunday, Monday, Tuesday, Wednesday, Thursday, Saturday]        |\n",
      "|423         |GoAir  |Delhi |Hyderabad  |[Sunday, Monday, Tuesday, Wednesday, Thursday, Saturday]        |\n",
      "|423         |GoAir  |Delhi |Hyderabad  |[Sunday, Monday, Tuesday, Wednesday, Thursday, Friday, Saturday]|\n",
      "|422         |GoAir  |Delhi |Hyderabad  |[Sunday, Monday, Tuesday, Wednesday, Thursday, Friday, Saturday]|\n",
      "+------------+-------+------+-----------+----------------------------------------------------------------+\n",
      "only showing top 5 rows\n",
      "\n"
     ]
    }
   ],
   "source": [
    "from pyspark.sql.functions import split, array_contains\n",
    "\n",
    "df_with_array = df.select(\n",
    "    \"flightNumber\",\n",
    "    \"airline\",\n",
    "    \"origin\",\n",
    "    \"destination\",\n",
    "    split(\"dayOfWeek\", \",\").alias(\"days_array\")\n",
    ")\n",
    "df_sunday_flights = df_with_array.filter(array_contains(\"days_array\", \"Sunday\")).show(5, truncate=False)\n"
   ]
  },
  {
   "cell_type": "code",
   "execution_count": null,
   "id": "8eb986ef-042a-4a1d-bd4e-19b237982a3a",
   "metadata": {},
   "outputs": [],
   "source": []
  }
 ],
 "metadata": {
  "kernelspec": {
   "display_name": "Python 3 (ipykernel)",
   "language": "python",
   "name": "python3"
  },
  "language_info": {
   "codemirror_mode": {
    "name": "ipython",
    "version": 3
   },
   "file_extension": ".py",
   "mimetype": "text/x-python",
   "name": "python",
   "nbconvert_exporter": "python",
   "pygments_lexer": "ipython3",
   "version": "3.9.2"
  }
 },
 "nbformat": 4,
 "nbformat_minor": 5
}
