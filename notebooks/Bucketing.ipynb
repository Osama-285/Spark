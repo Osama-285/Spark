{
 "cells": [
  {
   "cell_type": "code",
   "execution_count": 1,
   "id": "0aa71714-c157-4f37-a1ff-021668bd5032",
   "metadata": {},
   "outputs": [
    {
     "data": {
      "text/html": [
       "\n",
       "            <div>\n",
       "                <p><b>SparkSession - in-memory</b></p>\n",
       "                \n",
       "        <div>\n",
       "            <p><b>SparkContext</b></p>\n",
       "\n",
       "            <p><a href=\"http://25980bb9571e:4040\">Spark UI</a></p>\n",
       "\n",
       "            <dl>\n",
       "              <dt>Version</dt>\n",
       "                <dd><code>v3.5.3</code></dd>\n",
       "              <dt>Master</dt>\n",
       "                <dd><code>local[*]</code></dd>\n",
       "              <dt>AppName</dt>\n",
       "                <dd><code>Bucketing</code></dd>\n",
       "            </dl>\n",
       "        </div>\n",
       "        \n",
       "            </div>\n",
       "        "
      ],
      "text/plain": [
       "<pyspark.sql.session.SparkSession at 0x7f556011ca90>"
      ]
     },
     "execution_count": 1,
     "metadata": {},
     "output_type": "execute_result"
    }
   ],
   "source": [
    "from pyspark.sql import SparkSession\n",
    "\n",
    "spark = SparkSession.builder.appName(\"Bucketing\").getOrCreate()\n",
    "\n",
    "spark"
   ]
  },
  {
   "cell_type": "code",
   "execution_count": 35,
   "id": "d96070c6-6020-46c2-a147-b520b271a830",
   "metadata": {},
   "outputs": [
    {
     "name": "stdout",
     "output_type": "stream",
     "text": [
      "+---------------+-----------+-------------+-----------+----------------+--------+------+------+-------------------+--------------+--------------+---------------+--------------------+-------+--------+------+------+-----+--------+--------------------+--------------+-------------+----------+------------+----+-------------+-------+\n",
      "|       Category|       City|      Country|Customer.ID|   Customer.Name|Discount|Market|记录数|         Order.Date|      Order.ID|Order.Priority|     Product.ID|        Product.Name| Profit|Quantity|Region|Row.ID|Sales| Segment|           Ship.Date|     Ship.Mode|Shipping.Cost|     State|Sub.Category|Year|      Market2|weeknum|\n",
      "+---------------+-----------+-------------+-----------+----------------+--------+------+------+-------------------+--------------+--------------+---------------+--------------------+-------+--------+------+------+-----+--------+--------------------+--------------+-------------+----------+------------+----+-------------+-------+\n",
      "|Office Supplies|Los Angeles|United States|  LS-172304|Lycoris Saunders|     0.0|    US|     1|2011-01-07 00:00:00|CA-2011-130813|          High|OFF-PA-10002005|           Xerox 225| 9.3312|       3|  West| 36624|   19|Consumer|2011-01-09 00:00:...|  Second Class|         4.37|California|       Paper|2011|North America|      2|\n",
      "|Office Supplies|Los Angeles|United States|  MV-174854|   Mark Van Huff|     0.0|    US|     1|2011-01-21 00:00:00|CA-2011-148614|        Medium|OFF-PA-10002893|\"Wirebound Servic...| 9.2928|       2|  West| 37033|   19|Consumer|2011-01-26 00:00:...|Standard Class|         0.94|California|       Paper|2011|North America|      4|\n",
      "|Office Supplies|Los Angeles|United States|  CS-121304|    Chad Sievert|     0.0|    US|     1|2011-08-05 00:00:00|CA-2011-118962|        Medium|OFF-PA-10000659|Adams Phone Messa...| 9.8418|       3|  West| 31468|   21|Consumer|2011-08-09 00:00:...|Standard Class|         1.81|California|       Paper|2011|North America|     32|\n",
      "|Office Supplies|Los Angeles|United States|  CS-121304|    Chad Sievert|     0.0|    US|     1|2011-08-05 00:00:00|CA-2011-118962|        Medium|OFF-PA-10001144|          Xerox 1913|53.2608|       2|  West| 31469|  111|Consumer|2011-08-09 00:00:...|Standard Class|         4.59|California|       Paper|2011|North America|     32|\n",
      "|Office Supplies|Los Angeles|United States|  AP-109154|  Arthur Prichep|     0.0|    US|     1|2011-09-29 00:00:00|CA-2011-146969|          High|OFF-PA-10002105|           Xerox 223| 3.1104|       1|  West| 32440|    6|Consumer|2011-10-03 00:00:...|Standard Class|         1.32|California|       Paper|2011|North America|     40|\n",
      "+---------------+-----------+-------------+-----------+----------------+--------+------+------+-------------------+--------------+--------------+---------------+--------------------+-------+--------+------+------+-----+--------+--------------------+--------------+-------------+----------+------------+----+-------------+-------+\n",
      "only showing top 5 rows\n",
      "\n",
      "root\n",
      " |-- Category: string (nullable = true)\n",
      " |-- City: string (nullable = true)\n",
      " |-- Country: string (nullable = true)\n",
      " |-- Customer.ID: string (nullable = true)\n",
      " |-- Customer.Name: string (nullable = true)\n",
      " |-- Discount: double (nullable = true)\n",
      " |-- Market: string (nullable = true)\n",
      " |-- 记录数: integer (nullable = true)\n",
      " |-- Order.Date: timestamp (nullable = true)\n",
      " |-- Order.ID: string (nullable = true)\n",
      " |-- Order.Priority: string (nullable = true)\n",
      " |-- Product.ID: string (nullable = true)\n",
      " |-- Product.Name: string (nullable = true)\n",
      " |-- Profit: string (nullable = true)\n",
      " |-- Quantity: string (nullable = true)\n",
      " |-- Region: string (nullable = true)\n",
      " |-- Row.ID: string (nullable = true)\n",
      " |-- Sales: string (nullable = true)\n",
      " |-- Segment: string (nullable = true)\n",
      " |-- Ship.Date: string (nullable = true)\n",
      " |-- Ship.Mode: string (nullable = true)\n",
      " |-- Shipping.Cost: string (nullable = true)\n",
      " |-- State: string (nullable = true)\n",
      " |-- Sub.Category: string (nullable = true)\n",
      " |-- Year: string (nullable = true)\n",
      " |-- Market2: string (nullable = true)\n",
      " |-- weeknum: string (nullable = true)\n",
      "\n"
     ]
    }
   ],
   "source": [
    "dftrue = spark.read.csv(\"superstore.csv\", header = True, inferSchema = True)\n",
    "dftrue.show(5)\n",
    "dftrue.printSchema()"
   ]
  },
  {
   "cell_type": "code",
   "execution_count": 4,
   "id": "2b2fe425-6bb4-43f0-b2b3-3a624b72acc5",
   "metadata": {},
   "outputs": [
    {
     "name": "stdout",
     "output_type": "stream",
     "text": [
      "root\n",
      " |-- Category: string (nullable = true)\n",
      " |-- City: string (nullable = true)\n",
      " |-- Country: string (nullable = true)\n",
      " |-- Customer.ID: string (nullable = true)\n",
      " |-- Customer.Name: string (nullable = true)\n",
      " |-- Discount: double (nullable = true)\n",
      " |-- Market: string (nullable = true)\n",
      " |-- 记录数: integer (nullable = true)\n",
      " |-- Order.Date: timestamp (nullable = true)\n",
      " |-- Order.ID: string (nullable = true)\n",
      " |-- Order.Priority: string (nullable = true)\n",
      " |-- Product.ID: string (nullable = true)\n",
      " |-- Product.Name: string (nullable = true)\n",
      " |-- Profit: string (nullable = true)\n",
      " |-- Quantity: string (nullable = true)\n",
      " |-- Region: string (nullable = true)\n",
      " |-- Row.ID: string (nullable = true)\n",
      " |-- Sales: string (nullable = true)\n",
      " |-- Segment: string (nullable = true)\n",
      " |-- Ship.Date: string (nullable = true)\n",
      " |-- Ship.Mode: string (nullable = true)\n",
      " |-- Shipping.Cost: string (nullable = true)\n",
      " |-- State: string (nullable = true)\n",
      " |-- Sub.Category: string (nullable = true)\n",
      " |-- Year: string (nullable = true)\n",
      " |-- Market2: string (nullable = true)\n",
      " |-- weeknum: string (nullable = true)\n",
      "\n"
     ]
    }
   ],
   "source": [
    "df.printSchema()"
   ]
  },
  {
   "cell_type": "code",
   "execution_count": 12,
   "id": "f38e8ff4-b1b7-4b05-b2dd-88f8c6238e35",
   "metadata": {},
   "outputs": [
    {
     "name": "stdout",
     "output_type": "stream",
     "text": [
      "root\n",
      " |-- Category: string (nullable = true)\n",
      " |-- City: string (nullable = true)\n",
      " |-- Country: string (nullable = true)\n",
      " |-- Customer.ID: string (nullable = true)\n",
      " |-- Customer.Name: string (nullable = true)\n",
      " |-- Discount: double (nullable = true)\n",
      " |-- Market: string (nullable = true)\n",
      " |-- 记录数: integer (nullable = true)\n",
      " |-- Order.Date: timestamp (nullable = true)\n",
      " |-- Order.ID: string (nullable = true)\n",
      " |-- Order.Priority: string (nullable = true)\n",
      " |-- Product.ID: string (nullable = true)\n",
      " |-- Product.Name: string (nullable = true)\n",
      " |-- Profit: string (nullable = true)\n",
      " |-- Quantity: string (nullable = true)\n",
      " |-- Region: string (nullable = true)\n",
      " |-- Row.ID: string (nullable = true)\n",
      " |-- Sales: string (nullable = true)\n",
      " |-- Segment: string (nullable = true)\n",
      " |-- Ship.Date: string (nullable = true)\n",
      " |-- Ship.Mode: string (nullable = true)\n",
      " |-- Shipping.Cost: string (nullable = true)\n",
      " |-- State: string (nullable = true)\n",
      " |-- Sub.Category: string (nullable = true)\n",
      " |-- Year: string (nullable = true)\n",
      " |-- Market2: string (nullable = true)\n",
      " |-- weeknum: string (nullable = true)\n",
      " |-- Customer_ID: integer (nullable = true)\n",
      " |-- Order_ID: integer (nullable = true)\n",
      " |-- Product_ID: integer (nullable = true)\n",
      " |-- Row_ID: integer (nullable = true)\n",
      "\n"
     ]
    }
   ],
   "source": [
    "from pyspark.sql.functions import col, regexp_replace\n",
    "# id_columns = [col_name for col_name in df.columns if col_name.endswith(\"ID\")]\n",
    "\n",
    "# for old_name in id_columns:\n",
    "#     new_name = old_name.replace(\".\", \"_\")\n",
    "#     df = df.withColumn(new_name, col(old_name).cast(\"integer\"))\n",
    "#     df = df.drop(old_name)\n",
    "\n",
    "# df.printSchema()\n",
    "# df.show(5, truncate=False)\n",
    "\n",
    "id_columns = [col_name for col_name in df.columns if col_name.endswith(\"ID\")]\n",
    "\n",
    "# Step 3: Rename columns (replace \".\" with \"_\") and cast to integer\n",
    "for old_name in id_columns:\n",
    "    new_name = old_name.replace(\".\", \"_\")  # Replace \".\" with \"_\"\n",
    "    \n",
    "    # Use backticks to escape column names with dots\n",
    "    df = df.withColumn(new_name, regexp_replace(col(f\"`{old_name}`\"), \"[^0-9]\", \"\").cast(\"integer\"))\n",
    "    # Alternative: If IDs are already numeric strings (e.g., \"123\"), use:\n",
    "    # df = df.withColumn(new_name, col(f\"`{old_name}`\").cast(\"integer\"))\n",
    "    \n",
    "    df = df.drop(f\"`{old_name}`\")  # Drop the original column with escaped name\n",
    "\n",
    "# Step 4: Verify the new schema and data\n",
    "df.printSchema()\n",
    "# df.show(5, truncate=False)"
   ]
  },
  {
   "cell_type": "code",
   "execution_count": 13,
   "id": "c7ec1395-b5e2-473f-84b8-e6ec645bb2de",
   "metadata": {},
   "outputs": [
    {
     "name": "stdout",
     "output_type": "stream",
     "text": [
      "root\n",
      " |-- Category: string (nullable = true)\n",
      " |-- City: string (nullable = true)\n",
      " |-- Country: string (nullable = true)\n",
      " |-- Customer.ID: string (nullable = true)\n",
      " |-- Customer.Name: string (nullable = true)\n",
      " |-- Discount: double (nullable = true)\n",
      " |-- Market: string (nullable = true)\n",
      " |-- 记录数: integer (nullable = true)\n",
      " |-- Order.Date: timestamp (nullable = true)\n",
      " |-- Order.ID: string (nullable = true)\n",
      " |-- Order.Priority: string (nullable = true)\n",
      " |-- Product.ID: string (nullable = true)\n",
      " |-- Product.Name: string (nullable = true)\n",
      " |-- Profit: string (nullable = true)\n",
      " |-- Quantity: string (nullable = true)\n",
      " |-- Region: string (nullable = true)\n",
      " |-- Row.ID: string (nullable = true)\n",
      " |-- Sales: string (nullable = true)\n",
      " |-- Segment: string (nullable = true)\n",
      " |-- Ship.Date: string (nullable = true)\n",
      " |-- Ship.Mode: string (nullable = true)\n",
      " |-- Shipping.Cost: string (nullable = true)\n",
      " |-- State: string (nullable = true)\n",
      " |-- Sub.Category: string (nullable = true)\n",
      " |-- Year: string (nullable = true)\n",
      " |-- Market2: string (nullable = true)\n",
      " |-- weeknum: string (nullable = true)\n",
      " |-- Customer_ID: integer (nullable = true)\n",
      " |-- Order_ID: integer (nullable = true)\n",
      " |-- Product_ID: integer (nullable = true)\n",
      " |-- Row_ID: integer (nullable = true)\n",
      "\n"
     ]
    }
   ],
   "source": [
    "id_columns = [col_name for col_name in df.columns if col_name.endswith(\"ID\") and \".\" in col_name]\n",
    "\n",
    "# Step 3: Rename columns (replace \".\" with \"_\"), cast to integer, and drop original columns\n",
    "for old_name in id_columns:\n",
    "    # new_name = old_name.replace(\".\", \"_\")  # Replace \".\" with \"_\"\n",
    "    \n",
    "    # # Create new column with cleaned and casted values\n",
    "    # df = df.withColumn(new_name, regexp_replace(col(f\"`{old_name}`\"), \"[^0-9]\", \"\").cast(\"integer\"))\n",
    "    \n",
    "    # Drop the original column\n",
    "    df = df.drop(f\"`{old_name}`\")\n",
    "\n",
    "df.printSchema()"
   ]
  },
  {
   "cell_type": "code",
   "execution_count": 16,
   "id": "4afe67a9-e4fa-417c-877c-f1de5353e7a8",
   "metadata": {},
   "outputs": [
    {
     "name": "stdout",
     "output_type": "stream",
     "text": [
      "+-----------+----------+----------+------+\n",
      "|Customer_ID|  Order_ID|Product_ID|Row_ID|\n",
      "+-----------+----------+----------+------+\n",
      "|     100754|2013144015|  10002870| 39985|\n",
      "|     127904|2012149972|  10002763| 34083|\n",
      "|     111254|2013123050|  10003455| 39525|\n",
      "|     100904|2011156160|  10003876| 40954|\n",
      "|     106154|2014157987|  10004582| 33251|\n",
      "+-----------+----------+----------+------+\n",
      "only showing top 5 rows\n",
      "\n"
     ]
    }
   ],
   "source": [
    "df.select(\"Customer_ID\",\"Order_ID\",\"Product_ID\", \"Row_ID\").distinct().show(5)"
   ]
  },
  {
   "cell_type": "code",
   "execution_count": 17,
   "id": "6e3d60af-f18e-4ace-afa9-df4fe7116183",
   "metadata": {},
   "outputs": [
    {
     "data": {
      "text/plain": [
       "DataFrame[Category: string, City: string, Country: string, Customer.ID: string, Customer.Name: string, Discount: double, Market: string, 记录数: int, Order.Date: timestamp, Order.Priority: string, Product.ID: string, Product.Name: string, Profit: string, Quantity: string, Region: string, Row.ID: string, Sales: string, Segment: string, Ship.Date: string, Ship.Mode: string, Shipping.Cost: string, State: string, Sub.Category: string, Year: string, Market2: string, weeknum: string, Customer_ID: int, Order_ID: int, Product_ID: int, Row_ID: int]"
      ]
     },
     "execution_count": 17,
     "metadata": {},
     "output_type": "execute_result"
    }
   ],
   "source": [
    "df.drop(\"Order.ID\")"
   ]
  },
  {
   "cell_type": "code",
   "execution_count": 18,
   "id": "f4192980-ef6f-46b9-9985-0367716993f2",
   "metadata": {},
   "outputs": [
    {
     "name": "stdout",
     "output_type": "stream",
     "text": [
      "root\n",
      " |-- Category: string (nullable = true)\n",
      " |-- City: string (nullable = true)\n",
      " |-- Country: string (nullable = true)\n",
      " |-- Customer.ID: string (nullable = true)\n",
      " |-- Customer.Name: string (nullable = true)\n",
      " |-- Discount: double (nullable = true)\n",
      " |-- Market: string (nullable = true)\n",
      " |-- 记录数: integer (nullable = true)\n",
      " |-- Order.Date: timestamp (nullable = true)\n",
      " |-- Order.ID: string (nullable = true)\n",
      " |-- Order.Priority: string (nullable = true)\n",
      " |-- Product.ID: string (nullable = true)\n",
      " |-- Product.Name: string (nullable = true)\n",
      " |-- Profit: string (nullable = true)\n",
      " |-- Quantity: string (nullable = true)\n",
      " |-- Region: string (nullable = true)\n",
      " |-- Row.ID: string (nullable = true)\n",
      " |-- Sales: string (nullable = true)\n",
      " |-- Segment: string (nullable = true)\n",
      " |-- Ship.Date: string (nullable = true)\n",
      " |-- Ship.Mode: string (nullable = true)\n",
      " |-- Shipping.Cost: string (nullable = true)\n",
      " |-- State: string (nullable = true)\n",
      " |-- Sub.Category: string (nullable = true)\n",
      " |-- Year: string (nullable = true)\n",
      " |-- Market2: string (nullable = true)\n",
      " |-- weeknum: string (nullable = true)\n",
      " |-- Customer_ID: integer (nullable = true)\n",
      " |-- Order_ID: integer (nullable = true)\n",
      " |-- Product_ID: integer (nullable = true)\n",
      " |-- Row_ID: integer (nullable = true)\n",
      "\n"
     ]
    }
   ],
   "source": [
    "df.printSchema()"
   ]
  },
  {
   "cell_type": "code",
   "execution_count": 19,
   "id": "f934fcb1-62df-4623-ae6a-eeb75408285f",
   "metadata": {},
   "outputs": [
    {
     "name": "stdout",
     "output_type": "stream",
     "text": [
      "+---------------+-----------+-------------+-----------+------------------+--------+------+------+-------------------+--------------+--------------+---------------+--------------------+-------+--------+------+-----+--------+--------------------+--------------+-------------+----------+------------+----+-------------+-------+-----------+----------+----------+------+\n",
      "|       Category|       City|      Country|Customer.ID|     Customer.Name|Discount|Market|记录数|         Order.Date|      Order.ID|Order.Priority|     Product.ID|        Product.Name| Profit|Quantity|Region|Sales| Segment|           Ship.Date|     Ship.Mode|Shipping.Cost|     State|Sub.Category|Year|      Market2|weeknum|Customer_ID|  Order_ID|Product_ID|Row_ID|\n",
      "+---------------+-----------+-------------+-----------+------------------+--------+------+------+-------------------+--------------+--------------+---------------+--------------------+-------+--------+------+-----+--------+--------------------+--------------+-------------+----------+------------+----+-------------+-------+-----------+----------+----------+------+\n",
      "|Office Supplies|Los Angeles|United States|  LS-172304|  Lycoris Saunders|     0.0|    US|     1|2011-01-07 00:00:00|CA-2011-130813|          High|OFF-PA-10002005|           Xerox 225| 9.3312|       3|  West|   19|Consumer|2011-01-09 00:00:...|  Second Class|         4.37|California|       Paper|2011|North America|      2|     172304|2011130813|  10002005| 36624|\n",
      "|Office Supplies|Los Angeles|United States|  MV-174854|     Mark Van Huff|     0.0|    US|     1|2011-01-21 00:00:00|CA-2011-148614|        Medium|OFF-PA-10002893|\"Wirebound Servic...| 9.2928|       2|  West|   19|Consumer|2011-01-26 00:00:...|Standard Class|         0.94|California|       Paper|2011|North America|      4|     174854|2011148614|  10002893| 37033|\n",
      "|Office Supplies|Los Angeles|United States|  CS-121304|      Chad Sievert|     0.0|    US|     1|2011-08-05 00:00:00|CA-2011-118962|        Medium|OFF-PA-10000659|Adams Phone Messa...| 9.8418|       3|  West|   21|Consumer|2011-08-09 00:00:...|Standard Class|         1.81|California|       Paper|2011|North America|     32|     121304|2011118962|  10000659| 31468|\n",
      "|Office Supplies|Los Angeles|United States|  CS-121304|      Chad Sievert|     0.0|    US|     1|2011-08-05 00:00:00|CA-2011-118962|        Medium|OFF-PA-10001144|          Xerox 1913|53.2608|       2|  West|  111|Consumer|2011-08-09 00:00:...|Standard Class|         4.59|California|       Paper|2011|North America|     32|     121304|2011118962|  10001144| 31469|\n",
      "|Office Supplies|Los Angeles|United States|  AP-109154|    Arthur Prichep|     0.0|    US|     1|2011-09-29 00:00:00|CA-2011-146969|          High|OFF-PA-10002105|           Xerox 223| 3.1104|       1|  West|    6|Consumer|2011-10-03 00:00:...|Standard Class|         1.32|California|       Paper|2011|North America|     40|     109154|2011146969|  10002105| 32440|\n",
      "|Office Supplies|Los Angeles|United States|  JF-154904|      Jeremy Farry|     0.0|    US|     1|2011-10-19 00:00:00|CA-2011-117317|      Critical|OFF-PA-10004519|Spiral Phone Mess...| 6.5856|       3|  West|   13|Consumer|2011-10-19 00:00:...|      Same Day|         2.39|California|       Paper|2011|North America|     43|     154904|2011117317|  10004519| 32890|\n",
      "|Office Supplies|Los Angeles|United States|  WB-218504|     William Brown|     0.0|    US|     1|2011-11-04 00:00:00|CA-2011-125829|        Medium|OFF-PA-10000223|          Xerox 2000| 9.3312|       3|  West|   19|Consumer|2011-11-11 00:00:...|Standard Class|         1.15|California|       Paper|2011|North America|     45|     218504|2011125829|  10000223| 35608|\n",
      "|Office Supplies|Los Angeles|United States|  JA-159704|      Joseph Airdo|     0.0|    US|     1|2011-11-12 00:00:00|CA-2011-151295|          High|OFF-PA-10001947|          Xerox 1974| 5.8604|       2|  West|   12|Consumer|2011-11-16 00:00:...|Standard Class|         0.92|California|       Paper|2011|North America|     46|     159704|2011151295|  10001947| 33709|\n",
      "|Office Supplies|Los Angeles|United States|  SP-209204|      Susan Pistek|     0.0|    US|     1|2011-11-22 00:00:00|CA-2011-135090|          High|OFF-PA-10002245|          Xerox 1895| 24.219|       9|  West|   54|Consumer|2011-11-26 00:00:...|Standard Class|         6.98|California|       Paper|2011|North America|     48|     209204|2011135090|  10002245| 35267|\n",
      "|Office Supplies|Los Angeles|United States|  RL-196154|         Rob Lucas|     0.0|    US|     1|2011-12-05 00:00:00|CA-2011-133830|        Medium|OFF-PA-10001363|          Xerox 1933|23.0864|       4|  West|   49|Consumer|2011-12-10 00:00:...|Standard Class|         1.99|California|       Paper|2011|North America|     50|     196154|2011133830|  10001363| 38866|\n",
      "|Office Supplies|Los Angeles|United States|  KD-163454|  Katherine Ducich|     0.0|    US|     1|2011-12-13 00:00:00|CA-2011-113579|          High|OFF-PA-10001457|White GlueTop Scr...|41.5104|       6|  West|   90|Consumer|2011-12-15 00:00:...|  Second Class|         8.53|California|       Paper|2011|North America|     51|     163454|2011113579|  10001457| 33788|\n",
      "|Office Supplies|Los Angeles|United States|  JM-161954|Justin MacKendrick|     0.0|    US|     1|2012-02-15 00:00:00|CA-2012-116092|        Medium|OFF-PA-10004285|          Xerox 1959| 6.4128|       2|  West|   13|Consumer|2012-02-18 00:00:...|  Second Class|            1|California|       Paper|2012|North America|      7|     161954|2012116092|  10004285| 33544|\n",
      "|Office Supplies|Los Angeles|United States|  JM-161954|Justin MacKendrick|     0.0|    US|     1|2012-02-15 00:00:00|CA-2012-116092|        Medium|OFF-PA-10000477|            Xerox 22| 9.3312|       3|  West|   19|Consumer|2012-02-18 00:00:...|  Second Class|         0.06|California|       Paper|2012|North America|      7|     161954|2012116092|  10000477| 33548|\n",
      "|Office Supplies|Los Angeles|United States|  RD-195854|          Rob Dowd|     0.0|    US|     1|2012-02-16 00:00:00|CA-2012-121776|          High|OFF-PA-10001970|          Xerox 1881|17.3148|       3|  West|   37|Consumer|2012-02-21 00:00:...|Standard Class|         4.04|California|       Paper|2012|North America|      7|     195854|2012121776|  10001970| 39431|\n",
      "|Office Supplies|Los Angeles|United States|  AB-101654|       Alan Barnes|     0.0|    US|     1|2012-03-28 00:00:00|CA-2012-131534|        Medium|OFF-PA-10000743|          Xerox 1977| 16.032|       5|  West|   33|Consumer|2012-04-02 00:00:...|Standard Class|         2.25|California|       Paper|2012|North America|     13|     101654|2012131534|  10000743| 31990|\n",
      "|Office Supplies|Los Angeles|United States|  AR-105404|       Andy Reiter|     0.0|    US|     1|2012-04-11 00:00:00|US-2012-136987|        Medium|OFF-PA-10003127|             Staples|24.2696|       2|  West|   53|Consumer|2012-04-14 00:00:...|  Second Class|         1.59|California|       Paper|2012|North America|     15|     105404|2012136987|  10003127| 38758|\n",
      "|Office Supplies|Los Angeles|United States|  LH-171554|  Logan Haushalter|     0.0|    US|     1|2012-06-19 00:00:00|CA-2012-121965|        Medium|OFF-PA-10004355|           Xerox 231| 3.1104|       1|  West|    6|Consumer|2012-06-23 00:00:...|Standard Class|         0.52|California|       Paper|2012|North America|     25|     171554|2012121965|  10004355| 35746|\n",
      "|Office Supplies|Los Angeles|United States|  AR-105104|    Andrew Roberts|     0.0|    US|     1|2012-08-31 00:00:00|CA-2012-112319|          High|OFF-PA-10003441|           Xerox 226|27.9936|       9|  West|   58|Consumer|2012-09-05 00:00:...|Standard Class|         7.98|California|       Paper|2012|North America|     35|     105104|2012112319|  10003441| 32057|\n",
      "|Office Supplies|Los Angeles|United States|  NG-184304|     Nathan Gelder|     0.0|    US|     1|2012-11-22 00:00:00|CA-2012-137708|          High|OFF-PA-10000176|          Xerox 1887|18.2112|       2|  West|   38|Consumer|2012-11-25 00:00:...|  Second Class|          3.9|California|       Paper|2012|North America|     47|     184304|2012137708|  10000176| 36102|\n",
      "|Office Supplies|Los Angeles|United States|  NG-184304|     Nathan Gelder|     0.0|    US|     1|2012-11-22 00:00:00|CA-2012-137708|          High|OFF-PA-10000327|          Xerox 1971|  19.26|      10|  West|   43|Consumer|2012-11-25 00:00:...|  Second Class|         6.15|California|       Paper|2012|North America|     47|     184304|2012137708|  10000327| 36103|\n",
      "+---------------+-----------+-------------+-----------+------------------+--------+------+------+-------------------+--------------+--------------+---------------+--------------------+-------+--------+------+-----+--------+--------------------+--------------+-------------+----------+------------+----+-------------+-------+-----------+----------+----------+------+\n",
      "only showing top 20 rows\n",
      "\n"
     ]
    }
   ],
   "source": [
    "df1 = df.drop(\"Row.ID\")\n",
    "df1.show()"
   ]
  },
  {
   "cell_type": "markdown",
   "id": "f842fd9d-3bd4-4bd8-9809-75476c4d5466",
   "metadata": {},
   "source": [
    "df1.printSchema()"
   ]
  },
  {
   "cell_type": "code",
   "execution_count": 20,
   "id": "d4c85c70-df66-44bc-895b-e2ee75677120",
   "metadata": {},
   "outputs": [
    {
     "name": "stdout",
     "output_type": "stream",
     "text": [
      "root\n",
      " |-- Category: string (nullable = true)\n",
      " |-- City: string (nullable = true)\n",
      " |-- Country: string (nullable = true)\n",
      " |-- Customer.ID: string (nullable = true)\n",
      " |-- Customer.Name: string (nullable = true)\n",
      " |-- Discount: double (nullable = true)\n",
      " |-- Market: string (nullable = true)\n",
      " |-- 记录数: integer (nullable = true)\n",
      " |-- Order.Date: timestamp (nullable = true)\n",
      " |-- Order.ID: string (nullable = true)\n",
      " |-- Order.Priority: string (nullable = true)\n",
      " |-- Product.ID: string (nullable = true)\n",
      " |-- Product.Name: string (nullable = true)\n",
      " |-- Profit: string (nullable = true)\n",
      " |-- Quantity: string (nullable = true)\n",
      " |-- Region: string (nullable = true)\n",
      " |-- Sales: string (nullable = true)\n",
      " |-- Segment: string (nullable = true)\n",
      " |-- Ship.Date: string (nullable = true)\n",
      " |-- Ship.Mode: string (nullable = true)\n",
      " |-- Shipping.Cost: string (nullable = true)\n",
      " |-- State: string (nullable = true)\n",
      " |-- Sub.Category: string (nullable = true)\n",
      " |-- Year: string (nullable = true)\n",
      " |-- Market2: string (nullable = true)\n",
      " |-- weeknum: string (nullable = true)\n",
      " |-- Customer_ID: integer (nullable = true)\n",
      " |-- Order_ID: integer (nullable = true)\n",
      " |-- Product_ID: integer (nullable = true)\n",
      " |-- Row_ID: integer (nullable = true)\n",
      "\n"
     ]
    }
   ],
   "source": [
    "df1.printSchema()"
   ]
  },
  {
   "cell_type": "code",
   "execution_count": 28,
   "id": "bb4c8e39-d875-4bcc-9602-22147f70e080",
   "metadata": {},
   "outputs": [
    {
     "name": "stdout",
     "output_type": "stream",
     "text": [
      "root\n",
      " |-- Category: string (nullable = true)\n",
      " |-- City: string (nullable = true)\n",
      " |-- Country: string (nullable = true)\n",
      " |-- Customer.ID: string (nullable = true)\n",
      " |-- Customer.Name: string (nullable = true)\n",
      " |-- Discount: double (nullable = true)\n",
      " |-- Market: string (nullable = true)\n",
      " |-- 记录数: integer (nullable = true)\n",
      " |-- Order.Date: timestamp (nullable = true)\n",
      " |-- Order.ID: string (nullable = true)\n",
      " |-- Order.Priority: string (nullable = true)\n",
      " |-- Product.ID: string (nullable = true)\n",
      " |-- Product.Name: string (nullable = true)\n",
      " |-- Profit: string (nullable = true)\n",
      " |-- Quantity: string (nullable = true)\n",
      " |-- Region: string (nullable = true)\n",
      " |-- Sales: string (nullable = true)\n",
      " |-- Segment: string (nullable = true)\n",
      " |-- Ship.Date: string (nullable = true)\n",
      " |-- Ship.Mode: string (nullable = true)\n",
      " |-- Shipping.Cost: string (nullable = true)\n",
      " |-- State: string (nullable = true)\n",
      " |-- Sub.Category: string (nullable = true)\n",
      " |-- Year: string (nullable = true)\n",
      " |-- Market2: string (nullable = true)\n",
      " |-- weeknum: string (nullable = true)\n",
      " |-- Customer_ID: integer (nullable = true)\n",
      " |-- Order_ID: integer (nullable = true)\n",
      " |-- Product_ID: integer (nullable = true)\n",
      " |-- Row_ID: integer (nullable = true)\n",
      "\n"
     ]
    }
   ],
   "source": [
    "id_columns = [col_name for col_name in df.columns if col_name.endswith(\"ID\") and \".\" in col_name]\n",
    "\n",
    "# Step 3: Rename columns (replace \".\" with \"_\"), cast to integer, and drop original columns\n",
    "for old_name in id_columns:\n",
    "    # new_name = old_name.replace(\".\", \"_\")  # Replace \".\" with \"_\"\n",
    "    \n",
    "    # # Create new column with cleaned and casted values\n",
    "    # df = df.withColumn(new_name, regexp_replace(col(f\"`{old_name}`\"), \"[^0-9]\", \"\").cast(\"integer\"))\n",
    "    \n",
    "    # Drop the original column\n",
    "    \n",
    "    df3 = df2.drop(f\"`{old_name}`\")\n",
    "\n",
    "df3.printSchema()"
   ]
  },
  {
   "cell_type": "code",
   "execution_count": 30,
   "id": "7d29a18b-00b4-4a6b-8574-a85324873248",
   "metadata": {},
   "outputs": [
    {
     "name": "stdout",
     "output_type": "stream",
     "text": [
      "Initial columns: ['Category', 'City', 'Country', 'Customer.ID', 'Customer.Name', 'Discount', 'Market', '记录数', 'Order.Date', 'Order.ID', 'Order.Priority', 'Product.ID', 'Product.Name', 'Profit', 'Quantity', 'Region', 'Row.ID', 'Sales', 'Segment', 'Ship.Date', 'Ship.Mode', 'Shipping.Cost', 'State', 'Sub.Category', 'Year', 'Market2', 'weeknum', 'Customer_ID', 'Order_ID', 'Product_ID', 'Row_ID']\n",
      "Detected ID columns with dots: ['Customer.ID', 'Order.ID', 'Product.ID', 'Row.ID']\n",
      "Processing: Customer.ID -> Customer_ID\n",
      "Dropped: Customer.ID\n",
      "Processing: Order.ID -> Order_ID\n",
      "Dropped: Order.ID\n",
      "Processing: Product.ID -> Product_ID\n",
      "Dropped: Product.ID\n",
      "Processing: Row.ID -> Row_ID\n",
      "Dropped: Row.ID\n",
      "Final columns: ['Category', 'City', 'Country', 'Customer.ID', 'Customer.Name', 'Discount', 'Market', '记录数', 'Order.Date', 'Order.ID', 'Order.Priority', 'Product.ID', 'Product.Name', 'Profit', 'Quantity', 'Region', 'Row.ID', 'Sales', 'Segment', 'Ship.Date', 'Ship.Mode', 'Shipping.Cost', 'State', 'Sub.Category', 'Year', 'Market2', 'weeknum', 'Customer_ID', 'Order_ID', 'Product_ID', 'Row_ID']\n",
      "root\n",
      " |-- Category: string (nullable = true)\n",
      " |-- City: string (nullable = true)\n",
      " |-- Country: string (nullable = true)\n",
      " |-- Customer.ID: string (nullable = true)\n",
      " |-- Customer.Name: string (nullable = true)\n",
      " |-- Discount: double (nullable = true)\n",
      " |-- Market: string (nullable = true)\n",
      " |-- 记录数: integer (nullable = true)\n",
      " |-- Order.Date: timestamp (nullable = true)\n",
      " |-- Order.ID: string (nullable = true)\n",
      " |-- Order.Priority: string (nullable = true)\n",
      " |-- Product.ID: string (nullable = true)\n",
      " |-- Product.Name: string (nullable = true)\n",
      " |-- Profit: string (nullable = true)\n",
      " |-- Quantity: string (nullable = true)\n",
      " |-- Region: string (nullable = true)\n",
      " |-- Row.ID: string (nullable = true)\n",
      " |-- Sales: string (nullable = true)\n",
      " |-- Segment: string (nullable = true)\n",
      " |-- Ship.Date: string (nullable = true)\n",
      " |-- Ship.Mode: string (nullable = true)\n",
      " |-- Shipping.Cost: string (nullable = true)\n",
      " |-- State: string (nullable = true)\n",
      " |-- Sub.Category: string (nullable = true)\n",
      " |-- Year: string (nullable = true)\n",
      " |-- Market2: string (nullable = true)\n",
      " |-- weeknum: string (nullable = true)\n",
      " |-- Customer_ID: integer (nullable = true)\n",
      " |-- Order_ID: integer (nullable = true)\n",
      " |-- Product_ID: integer (nullable = true)\n",
      " |-- Row_ID: integer (nullable = true)\n",
      "\n",
      "+---------------+-----------+-------------+-----------+----------------+--------+------+------+-------------------+--------------+--------------+---------------+--------------------------------------------------------------------------+-------+--------+------+------+-----+--------+-----------------------+--------------+-------------+----------+------------+----+-------------+-------+-----------+----------+----------+------+\n",
      "|Category       |City       |Country      |Customer.ID|Customer.Name   |Discount|Market|记录数|Order.Date         |Order.ID      |Order.Priority|Product.ID     |Product.Name                                                              |Profit |Quantity|Region|Row.ID|Sales|Segment |Ship.Date              |Ship.Mode     |Shipping.Cost|State     |Sub.Category|Year|Market2      |weeknum|Customer_ID|Order_ID  |Product_ID|Row_ID|\n",
      "+---------------+-----------+-------------+-----------+----------------+--------+------+------+-------------------+--------------+--------------+---------------+--------------------------------------------------------------------------+-------+--------+------+------+-----+--------+-----------------------+--------------+-------------+----------+------------+----+-------------+-------+-----------+----------+----------+------+\n",
      "|Office Supplies|Los Angeles|United States|LS-172304  |Lycoris Saunders|0.0     |US    |1     |2011-01-07 00:00:00|CA-2011-130813|High          |OFF-PA-10002005|Xerox 225                                                                 |9.3312 |3       |West  |36624 |19   |Consumer|2011-01-09 00:00:00.000|Second Class  |4.37         |California|Paper       |2011|North America|2      |172304     |2011130813|10002005  |36624 |\n",
      "|Office Supplies|Los Angeles|United States|MV-174854  |Mark Van Huff   |0.0     |US    |1     |2011-01-21 00:00:00|CA-2011-148614|Medium        |OFF-PA-10002893|\"Wirebound Service Call Books, 5 1/2\"\" x 4\"\"\"                             |9.2928 |2       |West  |37033 |19   |Consumer|2011-01-26 00:00:00.000|Standard Class|0.94         |California|Paper       |2011|North America|4      |174854     |2011148614|10002893  |37033 |\n",
      "|Office Supplies|Los Angeles|United States|CS-121304  |Chad Sievert    |0.0     |US    |1     |2011-08-05 00:00:00|CA-2011-118962|Medium        |OFF-PA-10000659|Adams Phone Message Book, Professional, 400 Message Capacity, 5 3/6” x 11”|9.8418 |3       |West  |31468 |21   |Consumer|2011-08-09 00:00:00.000|Standard Class|1.81         |California|Paper       |2011|North America|32     |121304     |2011118962|10000659  |31468 |\n",
      "|Office Supplies|Los Angeles|United States|CS-121304  |Chad Sievert    |0.0     |US    |1     |2011-08-05 00:00:00|CA-2011-118962|Medium        |OFF-PA-10001144|Xerox 1913                                                                |53.2608|2       |West  |31469 |111  |Consumer|2011-08-09 00:00:00.000|Standard Class|4.59         |California|Paper       |2011|North America|32     |121304     |2011118962|10001144  |31469 |\n",
      "|Office Supplies|Los Angeles|United States|AP-109154  |Arthur Prichep  |0.0     |US    |1     |2011-09-29 00:00:00|CA-2011-146969|High          |OFF-PA-10002105|Xerox 223                                                                 |3.1104 |1       |West  |32440 |6    |Consumer|2011-10-03 00:00:00.000|Standard Class|1.32         |California|Paper       |2011|North America|40     |109154     |2011146969|10002105  |32440 |\n",
      "+---------------+-----------+-------------+-----------+----------------+--------+------+------+-------------------+--------------+--------------+---------------+--------------------------------------------------------------------------+-------+--------+------+------+-----+--------+-----------------------+--------------+-------------+----------+------------+----+-------------+-------+-----------+----------+----------+------+\n",
      "only showing top 5 rows\n",
      "\n"
     ]
    }
   ],
   "source": [
    "# Debug - Print initial columns\n",
    "print(\"Initial columns:\", df.columns)\n",
    "\n",
    "# Dynamically detect columns ending with \"ID\" and containing a dot\n",
    "id_columns = [col_name for col_name in df.columns if col_name.endswith(\"ID\") and \".\" in col_name]\n",
    "print(\"Detected ID columns with dots:\", id_columns)\n",
    "\n",
    "# Rename columns (replace \".\" with \"_\"), cast to integer, and drop original columns\n",
    "for old_name in id_columns:\n",
    "    new_name = old_name.replace(\".\", \"_\")\n",
    "    print(f\"Processing: {old_name} -> {new_name}\")\n",
    "    df= df.withColumn(new_name, regexp_replace(col(f\"`{old_name}`\"), \"[^0-9]\", \"\").cast(\"integer\"))\n",
    "    df4= df.drop(f\"`{old_name}`\")\n",
    "    print(f\"Dropped: {old_name}\")\n",
    "\n",
    "# Debug - Print final columns\n",
    "print(\"Final columns:\", df.columns)\n",
    "\n",
    "# Verify the new schema and data\n",
    "df4.printSchema()\n",
    "df4.show(5, truncate=False)"
   ]
  },
  {
   "cell_type": "code",
   "execution_count": 31,
   "id": "10dc5429-4ee8-4097-a71e-88051e400e00",
   "metadata": {},
   "outputs": [
    {
     "name": "stdout",
     "output_type": "stream",
     "text": [
      "root\n",
      " |-- Category: string (nullable = true)\n",
      " |-- City: string (nullable = true)\n",
      " |-- Country: string (nullable = true)\n",
      " |-- Customer.ID: string (nullable = true)\n",
      " |-- Customer.Name: string (nullable = true)\n",
      " |-- Discount: double (nullable = true)\n",
      " |-- Market: string (nullable = true)\n",
      " |-- 记录数: integer (nullable = true)\n",
      " |-- Order.Date: timestamp (nullable = true)\n",
      " |-- Order.ID: string (nullable = true)\n",
      " |-- Order.Priority: string (nullable = true)\n",
      " |-- Product.ID: string (nullable = true)\n",
      " |-- Product.Name: string (nullable = true)\n",
      " |-- Profit: string (nullable = true)\n",
      " |-- Quantity: string (nullable = true)\n",
      " |-- Region: string (nullable = true)\n",
      " |-- Row.ID: string (nullable = true)\n",
      " |-- Sales: string (nullable = true)\n",
      " |-- Segment: string (nullable = true)\n",
      " |-- Ship.Date: string (nullable = true)\n",
      " |-- Ship.Mode: string (nullable = true)\n",
      " |-- Shipping.Cost: string (nullable = true)\n",
      " |-- State: string (nullable = true)\n",
      " |-- Sub.Category: string (nullable = true)\n",
      " |-- Year: string (nullable = true)\n",
      " |-- Market2: string (nullable = true)\n",
      " |-- weeknum: string (nullable = true)\n",
      " |-- Customer_ID: integer (nullable = true)\n",
      " |-- Order_ID: integer (nullable = true)\n",
      " |-- Product_ID: integer (nullable = true)\n",
      " |-- Row_ID: integer (nullable = true)\n",
      "\n"
     ]
    }
   ],
   "source": [
    "df.printSchema()"
   ]
  },
  {
   "cell_type": "code",
   "execution_count": 45,
   "id": "4d9a75a7-cb67-4551-bcde-faee30e80d6e",
   "metadata": {},
   "outputs": [
    {
     "name": "stdout",
     "output_type": "stream",
     "text": [
      "<class 'list'>\n",
      "['Customer.ID', 'Order.ID']\n"
     ]
    }
   ],
   "source": [
    "id_columns = [col_name for col_name in dfff12.columns if col_name.endswith(\"ID\") and \".\" in col_name]\n",
    "print(type(id_columns))\n",
    "print(id_columns)"
   ]
  },
  {
   "cell_type": "code",
   "execution_count": 46,
   "id": "822f5b8a-a5e9-4c83-bcd4-560cf7c5adcf",
   "metadata": {},
   "outputs": [
    {
     "name": "stdout",
     "output_type": "stream",
     "text": [
      "Customer.ID\n",
      "Order.ID\n",
      "root\n",
      " |-- Category: string (nullable = true)\n",
      " |-- City: string (nullable = true)\n",
      " |-- Country: string (nullable = true)\n",
      " |-- Customer.ID: string (nullable = true)\n",
      " |-- Customer.Name: string (nullable = true)\n",
      " |-- Discount: double (nullable = true)\n",
      " |-- Market: string (nullable = true)\n",
      " |-- 记录数: integer (nullable = true)\n",
      " |-- Order.Date: timestamp (nullable = true)\n",
      " |-- Order.Priority: string (nullable = true)\n",
      " |-- Product.Name: string (nullable = true)\n",
      " |-- Profit: string (nullable = true)\n",
      " |-- Quantity: string (nullable = true)\n",
      " |-- Region: string (nullable = true)\n",
      " |-- Sales: string (nullable = true)\n",
      " |-- Segment: string (nullable = true)\n",
      " |-- Ship.Date: string (nullable = true)\n",
      " |-- Ship.Mode: string (nullable = true)\n",
      " |-- Shipping.Cost: string (nullable = true)\n",
      " |-- State: string (nullable = true)\n",
      " |-- Sub.Category: string (nullable = true)\n",
      " |-- Year: string (nullable = true)\n",
      " |-- Market2: string (nullable = true)\n",
      " |-- weeknum: string (nullable = true)\n",
      "\n",
      "root\n",
      " |-- Category: string (nullable = true)\n",
      " |-- City: string (nullable = true)\n",
      " |-- Country: string (nullable = true)\n",
      " |-- Customer.ID: string (nullable = true)\n",
      " |-- Customer.Name: string (nullable = true)\n",
      " |-- Discount: double (nullable = true)\n",
      " |-- Market: string (nullable = true)\n",
      " |-- 记录数: integer (nullable = true)\n",
      " |-- Order.Date: timestamp (nullable = true)\n",
      " |-- Order.ID: string (nullable = true)\n",
      " |-- Order.Priority: string (nullable = true)\n",
      " |-- Product.Name: string (nullable = true)\n",
      " |-- Profit: string (nullable = true)\n",
      " |-- Quantity: string (nullable = true)\n",
      " |-- Region: string (nullable = true)\n",
      " |-- Sales: string (nullable = true)\n",
      " |-- Segment: string (nullable = true)\n",
      " |-- Ship.Date: string (nullable = true)\n",
      " |-- Ship.Mode: string (nullable = true)\n",
      " |-- Shipping.Cost: string (nullable = true)\n",
      " |-- State: string (nullable = true)\n",
      " |-- Sub.Category: string (nullable = true)\n",
      " |-- Year: string (nullable = true)\n",
      " |-- Market2: string (nullable = true)\n",
      " |-- weeknum: string (nullable = true)\n",
      "\n"
     ]
    }
   ],
   "source": [
    "for new_col in id_columns:\n",
    "    dfff12 = dftrue.drop(f\"{new_col}\")\n",
    "    print(f\"{new_col}\")\n",
    "\n",
    "dfff12.printSchema()\n",
    "dftrue.printSchema()"
   ]
  },
  {
   "cell_type": "code",
   "execution_count": 48,
   "id": "2ee7cd76-3a14-4264-b59f-fb165957aab6",
   "metadata": {},
   "outputs": [
    {
     "name": "stdout",
     "output_type": "stream",
     "text": [
      "root\n",
      " |-- Category: string (nullable = true)\n",
      " |-- City: string (nullable = true)\n",
      " |-- Country: string (nullable = true)\n",
      " |-- Customer.Name: string (nullable = true)\n",
      " |-- Discount: double (nullable = true)\n",
      " |-- Market: string (nullable = true)\n",
      " |-- 记录数: integer (nullable = true)\n",
      " |-- Order.Date: timestamp (nullable = true)\n",
      " |-- Order.Priority: string (nullable = true)\n",
      " |-- Product.ID: string (nullable = true)\n",
      " |-- Product.Name: string (nullable = true)\n",
      " |-- Profit: string (nullable = true)\n",
      " |-- Quantity: string (nullable = true)\n",
      " |-- Region: string (nullable = true)\n",
      " |-- Sales: string (nullable = true)\n",
      " |-- Segment: string (nullable = true)\n",
      " |-- Ship.Date: string (nullable = true)\n",
      " |-- Ship.Mode: string (nullable = true)\n",
      " |-- Shipping.Cost: string (nullable = true)\n",
      " |-- State: string (nullable = true)\n",
      " |-- Sub.Category: string (nullable = true)\n",
      " |-- Year: string (nullable = true)\n",
      " |-- Market2: string (nullable = true)\n",
      " |-- weeknum: string (nullable = true)\n",
      "\n"
     ]
    }
   ],
   "source": [
    "dfff1 = dfff1.drop(*id_columns)\n",
    "\n",
    "dfff1.printSchema()"
   ]
  },
  {
   "cell_type": "code",
   "execution_count": 49,
   "id": "09290863-b76c-4813-8e21-c2a62a833e41",
   "metadata": {},
   "outputs": [
    {
     "name": "stdout",
     "output_type": "stream",
     "text": [
      "root\n",
      " |-- Category: string (nullable = true)\n",
      " |-- City: string (nullable = true)\n",
      " |-- Country: string (nullable = true)\n",
      " |-- Customer.Name: string (nullable = true)\n",
      " |-- Discount: double (nullable = true)\n",
      " |-- Market: string (nullable = true)\n",
      " |-- 记录数: integer (nullable = true)\n",
      " |-- Order.Date: timestamp (nullable = true)\n",
      " |-- Order.Priority: string (nullable = true)\n",
      " |-- Product_ID: string (nullable = true)\n",
      " |-- Product.Name: string (nullable = true)\n",
      " |-- Profit: string (nullable = true)\n",
      " |-- Quantity: string (nullable = true)\n",
      " |-- Region: string (nullable = true)\n",
      " |-- Sales: string (nullable = true)\n",
      " |-- Segment: string (nullable = true)\n",
      " |-- Ship.Date: string (nullable = true)\n",
      " |-- Ship.Mode: string (nullable = true)\n",
      " |-- Shipping.Cost: string (nullable = true)\n",
      " |-- State: string (nullable = true)\n",
      " |-- Sub.Category: string (nullable = true)\n",
      " |-- Year: string (nullable = true)\n",
      " |-- Market2: string (nullable = true)\n",
      " |-- weeknum: string (nullable = true)\n",
      "\n"
     ]
    }
   ],
   "source": [
    "dfff1 = dfff1.withColumnRenamed(\"Product.ID\", \"Product_ID\")\n",
    "dfff1.printSchema()"
   ]
  },
  {
   "cell_type": "code",
   "execution_count": 50,
   "id": "355180a8-d550-4ff3-8fc7-a3b29d343115",
   "metadata": {},
   "outputs": [
    {
     "name": "stdout",
     "output_type": "stream",
     "text": [
      "root\n",
      " |-- Category: string (nullable = true)\n",
      " |-- City: string (nullable = true)\n",
      " |-- Country: string (nullable = true)\n",
      " |-- Customer.ID: string (nullable = true)\n",
      " |-- Customer.Name: string (nullable = true)\n",
      " |-- Discount: double (nullable = true)\n",
      " |-- Market: string (nullable = true)\n",
      " |-- 记录数: integer (nullable = true)\n",
      " |-- Order.Date: timestamp (nullable = true)\n",
      " |-- Order.ID: string (nullable = true)\n",
      " |-- Order.Priority: string (nullable = true)\n",
      " |-- Product.ID: string (nullable = true)\n",
      " |-- Product.Name: string (nullable = true)\n",
      " |-- Profit: string (nullable = true)\n",
      " |-- Quantity: string (nullable = true)\n",
      " |-- Region: string (nullable = true)\n",
      " |-- Row.ID: string (nullable = true)\n",
      " |-- Sales: string (nullable = true)\n",
      " |-- Segment: string (nullable = true)\n",
      " |-- Ship.Date: string (nullable = true)\n",
      " |-- Ship.Mode: string (nullable = true)\n",
      " |-- Shipping.Cost: string (nullable = true)\n",
      " |-- State: string (nullable = true)\n",
      " |-- Sub.Category: string (nullable = true)\n",
      " |-- Year: string (nullable = true)\n",
      " |-- Market2: string (nullable = true)\n",
      " |-- weeknum: string (nullable = true)\n",
      " |-- Customer_ID: integer (nullable = true)\n",
      " |-- Order_ID: integer (nullable = true)\n",
      " |-- Product_ID: integer (nullable = true)\n",
      " |-- Row_ID: integer (nullable = true)\n",
      "\n"
     ]
    }
   ],
   "source": [
    "df.printSchema()"
   ]
  },
  {
   "cell_type": "code",
   "execution_count": 53,
   "id": "da6fba23-7cdf-4816-a637-a7a23233a413",
   "metadata": {},
   "outputs": [
    {
     "name": "stdout",
     "output_type": "stream",
     "text": [
      "['Customer.ID', 'Order.ID', 'Product.ID', 'Row.ID']\n"
     ]
    }
   ],
   "source": [
    "dot_column = [new1column for new1column in df.columns if new1column.endswith(\"ID\") and \".\" in new1column]\n",
    "print(dot_column)\n",
    "\n",
    "# id_columns = [col_name for col_name in dfff12.columns if col_name.endswith(\"ID\") and \".\" in col_name]\n"
   ]
  },
  {
   "cell_type": "code",
   "execution_count": 54,
   "id": "e889e3b5-f206-4805-8b68-fed6a801d1b8",
   "metadata": {},
   "outputs": [
    {
     "name": "stdout",
     "output_type": "stream",
     "text": [
      "Category\n",
      "City\n",
      "Country\n",
      "Customer.ID\n",
      "Customer.Name\n",
      "Discount\n",
      "Market\n",
      "记录数\n",
      "Order.Date\n",
      "Order.ID\n",
      "Order.Priority\n",
      "Product.ID\n",
      "Product.Name\n",
      "Profit\n",
      "Quantity\n",
      "Region\n",
      "Row.ID\n",
      "Sales\n",
      "Segment\n",
      "Ship.Date\n",
      "Ship.Mode\n",
      "Shipping.Cost\n",
      "State\n",
      "Sub.Category\n",
      "Year\n",
      "Market2\n",
      "weeknum\n",
      "Customer_ID\n",
      "Order_ID\n",
      "Product_ID\n",
      "Row_ID\n"
     ]
    }
   ],
   "source": [
    "for new1 in df.columns:\n",
    "    print(new1)"
   ]
  },
  {
   "cell_type": "code",
   "execution_count": 57,
   "id": "bd1ed882-120b-4a2f-ac3e-90e6e73bdefb",
   "metadata": {},
   "outputs": [],
   "source": [
    "for new2 in df.columns:\n",
    "    df = new2.replace(\".\", \"_\")"
   ]
  },
  {
   "cell_type": "code",
   "execution_count": 58,
   "id": "30ce7a3f-1471-428c-b9ba-c0bd9f3d2341",
   "metadata": {},
   "outputs": [
    {
     "ename": "AttributeError",
     "evalue": "'str' object has no attribute 'printSchema'",
     "output_type": "error",
     "traceback": [
      "\u001b[0;31m---------------------------------------------------------------------------\u001b[0m",
      "\u001b[0;31mAttributeError\u001b[0m                            Traceback (most recent call last)",
      "Cell \u001b[0;32mIn[58], line 1\u001b[0m\n\u001b[0;32m----> 1\u001b[0m \u001b[43mdf\u001b[49m\u001b[38;5;241;43m.\u001b[39;49m\u001b[43mprintSchema\u001b[49m()\n",
      "\u001b[0;31mAttributeError\u001b[0m: 'str' object has no attribute 'printSchema'"
     ]
    }
   ],
   "source": [
    "df.printSchema()"
   ]
  },
  {
   "cell_type": "code",
   "execution_count": 59,
   "id": "a2dcace8-a9d0-43cd-ae51-c52751b6b2e7",
   "metadata": {},
   "outputs": [
    {
     "name": "stdout",
     "output_type": "stream",
     "text": [
      "Row_ID\n"
     ]
    }
   ],
   "source": [
    "print(df)"
   ]
  },
  {
   "cell_type": "code",
   "execution_count": 2,
   "id": "cdaab9a9-88e4-4c3a-b6a8-2a9df55de1c4",
   "metadata": {},
   "outputs": [],
   "source": [
    "from pyspark.sql import SparkSession\n",
    "from pyspark.sql.functions import col\n",
    "\n",
    "spark = SparkSession.builder.appName(\"Optimization\").getOrCreate()\n",
    "\n",
    "df = spark.read.csv(\"SuperStoreOrders.csv\", header = True, inferSchema=True)\n",
    "\n",
    "filtered_df = df.filter(df.year == 2014)\n",
    "filtered_df = filtered_df.filter(col(\"sales\") > 500)\n",
    "\n",
    "# Create a small lookup table (region to manager)\n",
    "lookup_data = [\n",
    "    (\"North\", \"Alice\"),\n",
    "    (\"South\", \"Bob\"),\n",
    "    (\"Central\", \"Charlie\"),\n",
    "    (\"West\", \"David\"),\n",
    "    (\"Africa\", \"Eve\"),\n",
    "    (\"Oceania\", \"Frank\"),\n",
    "    (\"Southeast Asia\", \"Grace\"),\n",
    "    (\"North Asia\", \"Hannah\"),\n",
    "    (\"Central Asia\", \"Ian\"),\n",
    "    (\"EMEA\", \"Jack\")\n",
    "]\n",
    "lookup_df = spark.createDataFrame(lookup_data, [\"region\", \"manager\"])\n",
    "\n",
    "# Join with lookup table\n",
    "joined_df = filtered_df.join(lookup_df, \"region\")\n",
    "\n",
    "# Group by region and category, calculate total sales and profit\n",
    "result_df = joined_df.groupBy(\"region\", \"category\").agg(\n",
    "    {\"sales\": \"sum\", \"profit\": \"sum\"}\n",
    ")"
   ]
  },
  {
   "cell_type": "code",
   "execution_count": 3,
   "id": "c33f5af3-74aa-41b3-bdea-c7aea5ab70b9",
   "metadata": {},
   "outputs": [],
   "source": [
    "spark.stop()"
   ]
  },
  {
   "cell_type": "code",
   "execution_count": 5,
   "id": "f014b148-b4d0-4cc6-8598-1b096c3a7d3b",
   "metadata": {},
   "outputs": [
    {
     "data": {
      "text/plain": [
       "DataFrame[order_id: string, order_date: string, ship_date: string, ship_mode: string, customer_name: string, segment: string, state: string, country: string, market: string, region: string, product_id: string, category: string, sub_category: string, product_name: string, sales: string, quantity: string, discount: string, profit: double, shipping_cost: double, order_priority: string, year: string]"
      ]
     },
     "execution_count": 5,
     "metadata": {},
     "output_type": "execute_result"
    }
   ],
   "source": [
    "from pyspark.sql import SparkSession\n",
    "from pyspark.sql.functions import col, broadcast\n",
    "from pyspark.storagelevel import StorageLevel\n",
    "\n",
    "# Initialize Spark session with tuned configurations\n",
    "spark = SparkSession.builder.appName(\"OptimizedSuperStore\").getOrCreate()\n",
    "    # .config(\"spark.sql.shuffle.partitions\", \"50\") \\\n",
    "    # .config(\"spark.executor.memory\", \"4g\") \\\n",
    "    # .config(\"spark.executor.cores\", \"2\") \\\n",
    "  \n",
    "\n",
    "# Load dataset\n",
    "df = spark.read.csv(\"SuperStoreOrders.csv\", header=True, inferSchema=True)\n",
    "\n",
    "# Combine filters and cache filtered DataFrame\n",
    "filtered_df = df.filter((col(\"year\") == 2014) & (col(\"sales\") > 500)).cache()\n",
    "\n",
    "# Repartition to balance data before join\n",
    "filtered_df = filtered_df.repartition(50, \"region\")\n",
    "\n",
    "# Create a small lookup table (region to manager)\n",
    "lookup_data = [\n",
    "    (\"North\", \"Alice\"),\n",
    "    (\"South\", \"Bob\"),\n",
    "    (\"Central\", \"Charlie\"),\n",
    "    (\"West\", \"David\"),\n",
    "    (\"Africa\", \"Eve\"),\n",
    "    (\"Oceania\", \"Frank\"),\n",
    "    (\"Southeast Asia\", \"Grace\"),\n",
    "    (\"North Asia\", \"Hannah\"),\n",
    "    (\"Central Asia\", \"Ian\"),\n",
    "    (\"EMEA\", \"Jack\")\n",
    "]\n",
    "lookup_df = spark.createDataFrame(lookup_data, [\"region\", \"manager\"])\n",
    "\n",
    "# Broadcast join with lookup table\n",
    "joined_df = filtered_df.join(broadcast(lookup_df), \"region\")\n",
    "\n",
    "# Group by region and category with bucketing to avoid shuffle\n",
    "joined_df.write.bucketBy(50, \"region\").saveAsTable(\"bucketed_sales\")\n",
    "bucketed_df = spark.table(\"bucketed_sales\")\n",
    "result_df = bucketed_df.groupBy(\"region\", \"category\").agg(\n",
    "    {\"sales\": \"sum\", \"profit\": \"sum\"}\n",
    ")\n",
    "\n",
    "# Write results to CSV\n",
    "# result_df.coalesce(1).write.csv(\"output_optimized.csv\")\n",
    "\n",
    "# Unpersist cached data\n",
    "filtered_df.unpersist()"
   ]
  },
  {
   "cell_type": "code",
   "execution_count": 1,
   "id": "3edf07b9-ee3a-4e46-8735-459ca3481782",
   "metadata": {},
   "outputs": [
    {
     "data": {
      "text/html": [
       "\n",
       "            <div>\n",
       "                <p><b>SparkSession - in-memory</b></p>\n",
       "                \n",
       "        <div>\n",
       "            <p><b>SparkContext</b></p>\n",
       "\n",
       "            <p><a href=\"http://25980bb9571e:4040\">Spark UI</a></p>\n",
       "\n",
       "            <dl>\n",
       "              <dt>Version</dt>\n",
       "                <dd><code>v3.5.3</code></dd>\n",
       "              <dt>Master</dt>\n",
       "                <dd><code>local[*]</code></dd>\n",
       "              <dt>AppName</dt>\n",
       "                <dd><code>dfPractice</code></dd>\n",
       "            </dl>\n",
       "        </div>\n",
       "        \n",
       "            </div>\n",
       "        "
      ],
      "text/plain": [
       "<pyspark.sql.session.SparkSession at 0x7f57f3ed9340>"
      ]
     },
     "execution_count": 1,
     "metadata": {},
     "output_type": "execute_result"
    }
   ],
   "source": [
    "from pyspark.sql import SparkSession\n",
    "\n",
    "spark = SparkSession.builder.appName(\"dfPractice\").getOrCreate()\n",
    "\n",
    "spark"
   ]
  },
  {
   "cell_type": "code",
   "execution_count": 2,
   "id": "947fe7bc-6d4a-4004-b143-2d3f2d75ccca",
   "metadata": {},
   "outputs": [
    {
     "name": "stdout",
     "output_type": "stream",
     "text": [
      "root\n",
      " |-- Category: string (nullable = true)\n",
      " |-- City: string (nullable = true)\n",
      " |-- Country: string (nullable = true)\n",
      " |-- Customer.ID: string (nullable = true)\n",
      " |-- Customer.Name: string (nullable = true)\n",
      " |-- Discount: double (nullable = true)\n",
      " |-- Market: string (nullable = true)\n",
      " |-- 记录数: integer (nullable = true)\n",
      " |-- Order.Date: timestamp (nullable = true)\n",
      " |-- Order.ID: string (nullable = true)\n",
      " |-- Order.Priority: string (nullable = true)\n",
      " |-- Product.ID: string (nullable = true)\n",
      " |-- Product.Name: string (nullable = true)\n",
      " |-- Profit: string (nullable = true)\n",
      " |-- Quantity: string (nullable = true)\n",
      " |-- Region: string (nullable = true)\n",
      " |-- Row.ID: string (nullable = true)\n",
      " |-- Sales: string (nullable = true)\n",
      " |-- Segment: string (nullable = true)\n",
      " |-- Ship.Date: string (nullable = true)\n",
      " |-- Ship.Mode: string (nullable = true)\n",
      " |-- Shipping.Cost: string (nullable = true)\n",
      " |-- State: string (nullable = true)\n",
      " |-- Sub.Category: string (nullable = true)\n",
      " |-- Year: string (nullable = true)\n",
      " |-- Market2: string (nullable = true)\n",
      " |-- weeknum: string (nullable = true)\n",
      "\n"
     ]
    }
   ],
   "source": [
    "df = spark.read.csv(\"superstore.csv\", inferSchema=True, header=True)\n",
    "df.printSchema()"
   ]
  },
  {
   "cell_type": "code",
   "execution_count": 3,
   "id": "a5bb4900-a325-4ab7-9cf3-4844cdf847fd",
   "metadata": {},
   "outputs": [
    {
     "name": "stdout",
     "output_type": "stream",
     "text": [
      "['Customer.ID', 'Order.ID', 'Product.ID', 'Row.ID'] <class 'list'>\n"
     ]
    }
   ],
   "source": [
    "id_columns=[colName for colName in df.columns if colName.endswith(\"ID\") and \".\" in colName]\n",
    "print(id_columns, type(id_columns))\n"
   ]
  },
  {
   "cell_type": "code",
   "execution_count": 12,
   "id": "feb54af3-6d50-4944-baea-376d8727a635",
   "metadata": {},
   "outputs": [
    {
     "name": "stdout",
     "output_type": "stream",
     "text": [
      "NEW Customer_ID Customer.ID\n",
      "NEWWW Customer_ID Customer.ID\n",
      "NEW Order_ID Order.ID\n",
      "NEWWW Order_ID Order.ID\n",
      "NEW Product_ID Product.ID\n",
      "NEWWW Product_ID Product.ID\n",
      "NEW Row_ID Row.ID\n",
      "NEWWW Row_ID Row.ID\n"
     ]
    }
   ],
   "source": [
    "from pyspark.sql.functions import col\n",
    "# for old_name in id_columns:\n",
    "#     # new_name = old_name.replace(\".\", \"_\")  # Replace \".\" with \"_\"\n",
    "    \n",
    "#     # # Create new column with cleaned and casted values\n",
    "#     # df = df.withColumn(new_name, regexp_replace(col(f\"`{old_name}`\"), \"[^0-9]\", \"\").cast(\"integer\"))\n",
    "    \n",
    "#     # Drop the original column\n",
    "    \n",
    "#     df3 = df2.drop(f\"`{old_name}`\")\n",
    "\n",
    "for oldColumn in id_columns:\n",
    "    new_name = oldColumn.replace(\".\", \"_\")\n",
    "    print(\"NEW\", new_name, oldColumn)\n",
    "    df = df.withColumn(new_name, col(f\"`{oldColumn}`\").cast(\"integer\"))\n",
    "    print(\"NEWWW\", new_name, oldColumn)\n",
    "    df = df.drop(oldColumn)"
   ]
  },
  {
   "cell_type": "code",
   "execution_count": 13,
   "id": "b48a631d-19c5-4187-8801-c015bceba48b",
   "metadata": {},
   "outputs": [
    {
     "name": "stdout",
     "output_type": "stream",
     "text": [
      "root\n",
      " |-- Category: string (nullable = true)\n",
      " |-- City: string (nullable = true)\n",
      " |-- Customer.Name: string (nullable = true)\n",
      " |-- Discount: double (nullable = true)\n",
      " |-- Market: string (nullable = true)\n",
      " |-- 记录数: integer (nullable = true)\n",
      " |-- Order.Date: timestamp (nullable = true)\n",
      " |-- Order.Priority: string (nullable = true)\n",
      " |-- Product.Name: string (nullable = true)\n",
      " |-- Profit: string (nullable = true)\n",
      " |-- Quantity: string (nullable = true)\n",
      " |-- Region: string (nullable = true)\n",
      " |-- Sales: string (nullable = true)\n",
      " |-- Segment: string (nullable = true)\n",
      " |-- Ship.Date: string (nullable = true)\n",
      " |-- Ship.Mode: string (nullable = true)\n",
      " |-- Shipping.Cost: string (nullable = true)\n",
      " |-- State: string (nullable = true)\n",
      " |-- Sub.Category: string (nullable = true)\n",
      " |-- Year: string (nullable = true)\n",
      " |-- Market2: string (nullable = true)\n",
      " |-- weeknum: string (nullable = true)\n",
      " |-- Customer_ID: integer (nullable = true)\n",
      " |-- Order_ID: integer (nullable = true)\n",
      " |-- Product_ID: integer (nullable = true)\n",
      " |-- Row_ID: integer (nullable = true)\n",
      "\n"
     ]
    }
   ],
   "source": [
    "df.printSchema()"
   ]
  },
  {
   "cell_type": "code",
   "execution_count": 8,
   "id": "cb8320c7-3112-460f-97b8-9549c7ff030c",
   "metadata": {},
   "outputs": [
    {
     "ename": "AnalysisException",
     "evalue": "[UNRESOLVED_COLUMN.WITH_SUGGESTION] A column or function parameter with name `Country` cannot be resolved. Did you mean one of the following? [`Category`, `City`, `Customer`.`ID`, `Customer`.`Name`, `Discount`, `Market`, `记录数`, `Order`.`Date`, `Order`.`ID`, `Order`.`Priority`, `Product`.`ID`, `Product`.`Name`, `Profit`, `Quantity`, `Region`, `Row`.`ID`, `Sales`, `Segment`, `Ship`.`Date`, `Ship`.`Mode`, `Shipping`.`Cost`, `State`, `Sub`.`Category`, `Year`, `Market2`, `weeknum`].",
     "output_type": "error",
     "traceback": [
      "\u001b[0;31m---------------------------------------------------------------------------\u001b[0m",
      "\u001b[0;31mAnalysisException\u001b[0m                         Traceback (most recent call last)",
      "Cell \u001b[0;32mIn[8], line 1\u001b[0m\n\u001b[0;32m----> 1\u001b[0m a\u001b[38;5;241m=\u001b[39m\u001b[43mdf\u001b[49m\u001b[43m[\u001b[49m\u001b[38;5;124;43m\"\u001b[39;49m\u001b[38;5;124;43mCountry\u001b[39;49m\u001b[38;5;124;43m\"\u001b[39;49m\u001b[43m]\u001b[49m\n\u001b[1;32m      2\u001b[0m df\u001b[38;5;241m=\u001b[39m df\u001b[38;5;241m.\u001b[39mdrop(a)\n\u001b[1;32m      3\u001b[0m \u001b[38;5;28mprint\u001b[39m(df)\n",
      "File \u001b[0;32m/opt/spark/python/pyspark/sql/dataframe.py:3080\u001b[0m, in \u001b[0;36mDataFrame.__getitem__\u001b[0;34m(self, item)\u001b[0m\n\u001b[1;32m   3008\u001b[0m \u001b[38;5;250m\u001b[39m\u001b[38;5;124;03m\"\"\"Returns the column as a :class:`Column`.\u001b[39;00m\n\u001b[1;32m   3009\u001b[0m \n\u001b[1;32m   3010\u001b[0m \u001b[38;5;124;03m.. versionadded:: 1.3.0\u001b[39;00m\n\u001b[0;32m   (...)\u001b[0m\n\u001b[1;32m   3077\u001b[0m \u001b[38;5;124;03m+---+----+\u001b[39;00m\n\u001b[1;32m   3078\u001b[0m \u001b[38;5;124;03m\"\"\"\u001b[39;00m\n\u001b[1;32m   3079\u001b[0m \u001b[38;5;28;01mif\u001b[39;00m \u001b[38;5;28misinstance\u001b[39m(item, \u001b[38;5;28mstr\u001b[39m):\n\u001b[0;32m-> 3080\u001b[0m     jc \u001b[38;5;241m=\u001b[39m \u001b[38;5;28;43mself\u001b[39;49m\u001b[38;5;241;43m.\u001b[39;49m\u001b[43m_jdf\u001b[49m\u001b[38;5;241;43m.\u001b[39;49m\u001b[43mapply\u001b[49m\u001b[43m(\u001b[49m\u001b[43mitem\u001b[49m\u001b[43m)\u001b[49m\n\u001b[1;32m   3081\u001b[0m     \u001b[38;5;28;01mreturn\u001b[39;00m Column(jc)\n\u001b[1;32m   3082\u001b[0m \u001b[38;5;28;01melif\u001b[39;00m \u001b[38;5;28misinstance\u001b[39m(item, Column):\n",
      "File \u001b[0;32m/usr/local/lib/python3.9/dist-packages/py4j/java_gateway.py:1322\u001b[0m, in \u001b[0;36mJavaMember.__call__\u001b[0;34m(self, *args)\u001b[0m\n\u001b[1;32m   1316\u001b[0m command \u001b[38;5;241m=\u001b[39m proto\u001b[38;5;241m.\u001b[39mCALL_COMMAND_NAME \u001b[38;5;241m+\u001b[39m\\\n\u001b[1;32m   1317\u001b[0m     \u001b[38;5;28mself\u001b[39m\u001b[38;5;241m.\u001b[39mcommand_header \u001b[38;5;241m+\u001b[39m\\\n\u001b[1;32m   1318\u001b[0m     args_command \u001b[38;5;241m+\u001b[39m\\\n\u001b[1;32m   1319\u001b[0m     proto\u001b[38;5;241m.\u001b[39mEND_COMMAND_PART\n\u001b[1;32m   1321\u001b[0m answer \u001b[38;5;241m=\u001b[39m \u001b[38;5;28mself\u001b[39m\u001b[38;5;241m.\u001b[39mgateway_client\u001b[38;5;241m.\u001b[39msend_command(command)\n\u001b[0;32m-> 1322\u001b[0m return_value \u001b[38;5;241m=\u001b[39m \u001b[43mget_return_value\u001b[49m\u001b[43m(\u001b[49m\n\u001b[1;32m   1323\u001b[0m \u001b[43m    \u001b[49m\u001b[43manswer\u001b[49m\u001b[43m,\u001b[49m\u001b[43m \u001b[49m\u001b[38;5;28;43mself\u001b[39;49m\u001b[38;5;241;43m.\u001b[39;49m\u001b[43mgateway_client\u001b[49m\u001b[43m,\u001b[49m\u001b[43m \u001b[49m\u001b[38;5;28;43mself\u001b[39;49m\u001b[38;5;241;43m.\u001b[39;49m\u001b[43mtarget_id\u001b[49m\u001b[43m,\u001b[49m\u001b[43m \u001b[49m\u001b[38;5;28;43mself\u001b[39;49m\u001b[38;5;241;43m.\u001b[39;49m\u001b[43mname\u001b[49m\u001b[43m)\u001b[49m\n\u001b[1;32m   1325\u001b[0m \u001b[38;5;28;01mfor\u001b[39;00m temp_arg \u001b[38;5;129;01min\u001b[39;00m temp_args:\n\u001b[1;32m   1326\u001b[0m     \u001b[38;5;28;01mif\u001b[39;00m \u001b[38;5;28mhasattr\u001b[39m(temp_arg, \u001b[38;5;124m\"\u001b[39m\u001b[38;5;124m_detach\u001b[39m\u001b[38;5;124m\"\u001b[39m):\n",
      "File \u001b[0;32m/opt/spark/python/pyspark/errors/exceptions/captured.py:185\u001b[0m, in \u001b[0;36mcapture_sql_exception.<locals>.deco\u001b[0;34m(*a, **kw)\u001b[0m\n\u001b[1;32m    181\u001b[0m converted \u001b[38;5;241m=\u001b[39m convert_exception(e\u001b[38;5;241m.\u001b[39mjava_exception)\n\u001b[1;32m    182\u001b[0m \u001b[38;5;28;01mif\u001b[39;00m \u001b[38;5;129;01mnot\u001b[39;00m \u001b[38;5;28misinstance\u001b[39m(converted, UnknownException):\n\u001b[1;32m    183\u001b[0m     \u001b[38;5;66;03m# Hide where the exception came from that shows a non-Pythonic\u001b[39;00m\n\u001b[1;32m    184\u001b[0m     \u001b[38;5;66;03m# JVM exception message.\u001b[39;00m\n\u001b[0;32m--> 185\u001b[0m     \u001b[38;5;28;01mraise\u001b[39;00m converted \u001b[38;5;28;01mfrom\u001b[39;00m\u001b[38;5;250m \u001b[39m\u001b[38;5;28;01mNone\u001b[39;00m\n\u001b[1;32m    186\u001b[0m \u001b[38;5;28;01melse\u001b[39;00m:\n\u001b[1;32m    187\u001b[0m     \u001b[38;5;28;01mraise\u001b[39;00m\n",
      "\u001b[0;31mAnalysisException\u001b[0m: [UNRESOLVED_COLUMN.WITH_SUGGESTION] A column or function parameter with name `Country` cannot be resolved. Did you mean one of the following? [`Category`, `City`, `Customer`.`ID`, `Customer`.`Name`, `Discount`, `Market`, `记录数`, `Order`.`Date`, `Order`.`ID`, `Order`.`Priority`, `Product`.`ID`, `Product`.`Name`, `Profit`, `Quantity`, `Region`, `Row`.`ID`, `Sales`, `Segment`, `Ship`.`Date`, `Ship`.`Mode`, `Shipping`.`Cost`, `State`, `Sub`.`Category`, `Year`, `Market2`, `weeknum`]."
     ]
    }
   ],
   "source": [
    "a=df[\"Country\"]\n",
    "df= df.drop(a)\n",
    "print(df)"
   ]
  },
  {
   "cell_type": "code",
   "execution_count": null,
   "id": "b163fbd2-5ace-4cfd-995a-b965027af0c6",
   "metadata": {},
   "outputs": [],
   "source": []
  }
 ],
 "metadata": {
  "kernelspec": {
   "display_name": "Python 3 (ipykernel)",
   "language": "python",
   "name": "python3"
  },
  "language_info": {
   "codemirror_mode": {
    "name": "ipython",
    "version": 3
   },
   "file_extension": ".py",
   "mimetype": "text/x-python",
   "name": "python",
   "nbconvert_exporter": "python",
   "pygments_lexer": "ipython3",
   "version": "3.9.2"
  }
 },
 "nbformat": 4,
 "nbformat_minor": 5
}
