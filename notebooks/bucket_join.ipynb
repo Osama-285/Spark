{
 "cells": [
  {
   "cell_type": "code",
   "execution_count": 1,
   "id": "16c4a508-1b05-4f5f-b926-a77c3d45f16e",
   "metadata": {},
   "outputs": [
    {
     "data": {
      "text/html": [
       "\n",
       "            <div>\n",
       "                <p><b>SparkSession - in-memory</b></p>\n",
       "                \n",
       "        <div>\n",
       "            <p><b>SparkContext</b></p>\n",
       "\n",
       "            <p><a href=\"http://f5838d8c3611:4040\">Spark UI</a></p>\n",
       "\n",
       "            <dl>\n",
       "              <dt>Version</dt>\n",
       "                <dd><code>v3.5.3</code></dd>\n",
       "              <dt>Master</dt>\n",
       "                <dd><code>local[*]</code></dd>\n",
       "              <dt>AppName</dt>\n",
       "                <dd><code>Bucket Join</code></dd>\n",
       "            </dl>\n",
       "        </div>\n",
       "        \n",
       "            </div>\n",
       "        "
      ],
      "text/plain": [
       "<pyspark.sql.session.SparkSession at 0x7ffacfaa3190>"
      ]
     },
     "execution_count": 1,
     "metadata": {},
     "output_type": "execute_result"
    }
   ],
   "source": [
    "from pyspark.sql import SparkSession\n",
    "\n",
    "spark = SparkSession.builder.appName(\"Bucket Join\").master(\"local[*]\").getOrCreate();\n",
    "spark"
   ]
  },
  {
   "cell_type": "code",
   "execution_count": 2,
   "id": "913aeb95-79e6-46ee-ba59-462fefe53674",
   "metadata": {},
   "outputs": [],
   "source": [
    "df1 = spark.read.csv(\"/opt/data/ac_subscriber.csv\", header=True, inferSchema=True)\n",
    "# df2 = spark.read.csv(\"/opt/data/ac_acct.csv\", header=True, inferSchema=True)\n",
    "\n",
    "# joined = df1.join(df2, on=[\"subscriber_id\", \"acct_id\"], how=\"left\")\n",
    "# joined.explain(True)\n",
    "\n"
   ]
  },
  {
   "cell_type": "code",
   "execution_count": 3,
   "id": "ac7bdd57-7e01-4005-8fb9-6515a0cec625",
   "metadata": {},
   "outputs": [
    {
     "name": "stdout",
     "output_type": "stream",
     "text": [
      "== Parsed Logical Plan ==\n",
      "'Join UsingJoin(Inner, [subscriber_id, acct_id])\n",
      ":- Relation [company_id#17,subscriber_id#18L,acct_id#19L,acct_type#20,profile_acct#21,guarantor_id#22,profile_id#23,activation_date#24,first_inv_date#25,account_desc#26,pin#27,secret_question#28,active_services#29,num_active_srv#30,num_tempdeact_srv#31,num_deact_srv#32,created_by_session#33L,modify_by_session#34,logically_deleted#35,row_status#36,row_created_time#37,row_modify_time#38] csv\n",
      "+- ResolvedHint (strategy=broadcast)\n",
      "   +- Relation [company_id#78,subscriber_id#79L,acct_id#80L,acct_type#81,profile_acct#82,guarantor_id#83,profile_id#84,activation_date#85,first_inv_date#86,account_desc#87,pin#88,secret_question#89,active_services#90,num_active_srv#91,num_tempdeact_srv#92,num_deact_srv#93,created_by_session#94L,modify_by_session#95,logically_deleted#96,row_status#97,row_created_time#98,row_modify_time#99] csv\n",
      "\n",
      "== Analyzed Logical Plan ==\n",
      "subscriber_id: bigint, acct_id: bigint, company_id: int, acct_type: string, profile_acct: string, guarantor_id: string, profile_id: string, activation_date: string, first_inv_date: string, account_desc: string, pin: string, secret_question: string, active_services: string, num_active_srv: int, num_tempdeact_srv: int, num_deact_srv: int, created_by_session: bigint, modify_by_session: string, logically_deleted: string, row_status: string, row_created_time: string, row_modify_time: string, company_id: int, acct_type: string, ... 18 more fields\n",
      "Project [subscriber_id#18L, acct_id#19L, company_id#17, acct_type#20, profile_acct#21, guarantor_id#22, profile_id#23, activation_date#24, first_inv_date#25, account_desc#26, pin#27, secret_question#28, active_services#29, num_active_srv#30, num_tempdeact_srv#31, num_deact_srv#32, created_by_session#33L, modify_by_session#34, logically_deleted#35, row_status#36, row_created_time#37, row_modify_time#38, company_id#78, acct_type#81, ... 18 more fields]\n",
      "+- Join Inner, ((subscriber_id#18L = subscriber_id#79L) AND (acct_id#19L = acct_id#80L))\n",
      "   :- Relation [company_id#17,subscriber_id#18L,acct_id#19L,acct_type#20,profile_acct#21,guarantor_id#22,profile_id#23,activation_date#24,first_inv_date#25,account_desc#26,pin#27,secret_question#28,active_services#29,num_active_srv#30,num_tempdeact_srv#31,num_deact_srv#32,created_by_session#33L,modify_by_session#34,logically_deleted#35,row_status#36,row_created_time#37,row_modify_time#38] csv\n",
      "   +- ResolvedHint (strategy=broadcast)\n",
      "      +- Relation [company_id#78,subscriber_id#79L,acct_id#80L,acct_type#81,profile_acct#82,guarantor_id#83,profile_id#84,activation_date#85,first_inv_date#86,account_desc#87,pin#88,secret_question#89,active_services#90,num_active_srv#91,num_tempdeact_srv#92,num_deact_srv#93,created_by_session#94L,modify_by_session#95,logically_deleted#96,row_status#97,row_created_time#98,row_modify_time#99] csv\n",
      "\n",
      "== Optimized Logical Plan ==\n",
      "Project [subscriber_id#18L, acct_id#19L, company_id#17, acct_type#20, profile_acct#21, guarantor_id#22, profile_id#23, activation_date#24, first_inv_date#25, account_desc#26, pin#27, secret_question#28, active_services#29, num_active_srv#30, num_tempdeact_srv#31, num_deact_srv#32, created_by_session#33L, modify_by_session#34, logically_deleted#35, row_status#36, row_created_time#37, row_modify_time#38, company_id#78, acct_type#81, ... 18 more fields]\n",
      "+- Join Inner, ((subscriber_id#18L = subscriber_id#79L) AND (acct_id#19L = acct_id#80L)), rightHint=(strategy=broadcast)\n",
      "   :- Filter (isnotnull(subscriber_id#18L) AND isnotnull(acct_id#19L))\n",
      "   :  +- Relation [company_id#17,subscriber_id#18L,acct_id#19L,acct_type#20,profile_acct#21,guarantor_id#22,profile_id#23,activation_date#24,first_inv_date#25,account_desc#26,pin#27,secret_question#28,active_services#29,num_active_srv#30,num_tempdeact_srv#31,num_deact_srv#32,created_by_session#33L,modify_by_session#34,logically_deleted#35,row_status#36,row_created_time#37,row_modify_time#38] csv\n",
      "   +- Filter (isnotnull(subscriber_id#79L) AND isnotnull(acct_id#80L))\n",
      "      +- Relation [company_id#78,subscriber_id#79L,acct_id#80L,acct_type#81,profile_acct#82,guarantor_id#83,profile_id#84,activation_date#85,first_inv_date#86,account_desc#87,pin#88,secret_question#89,active_services#90,num_active_srv#91,num_tempdeact_srv#92,num_deact_srv#93,created_by_session#94L,modify_by_session#95,logically_deleted#96,row_status#97,row_created_time#98,row_modify_time#99] csv\n",
      "\n",
      "== Physical Plan ==\n",
      "AdaptiveSparkPlan isFinalPlan=false\n",
      "+- Project [subscriber_id#18L, acct_id#19L, company_id#17, acct_type#20, profile_acct#21, guarantor_id#22, profile_id#23, activation_date#24, first_inv_date#25, account_desc#26, pin#27, secret_question#28, active_services#29, num_active_srv#30, num_tempdeact_srv#31, num_deact_srv#32, created_by_session#33L, modify_by_session#34, logically_deleted#35, row_status#36, row_created_time#37, row_modify_time#38, company_id#78, acct_type#81, ... 18 more fields]\n",
      "   +- BroadcastHashJoin [subscriber_id#18L, acct_id#19L], [subscriber_id#79L, acct_id#80L], Inner, BuildRight, false\n",
      "      :- Filter (isnotnull(subscriber_id#18L) AND isnotnull(acct_id#19L))\n",
      "      :  +- FileScan csv [company_id#17,subscriber_id#18L,acct_id#19L,acct_type#20,profile_acct#21,guarantor_id#22,profile_id#23,activation_date#24,first_inv_date#25,account_desc#26,pin#27,secret_question#28,active_services#29,num_active_srv#30,num_tempdeact_srv#31,num_deact_srv#32,created_by_session#33L,modify_by_session#34,logically_deleted#35,row_status#36,row_created_time#37,row_modify_time#38] Batched: false, DataFilters: [isnotnull(subscriber_id#18L), isnotnull(acct_id#19L)], Format: CSV, Location: InMemoryFileIndex(1 paths)[file:/opt/data/ac_subscriber.csv], PartitionFilters: [], PushedFilters: [IsNotNull(subscriber_id), IsNotNull(acct_id)], ReadSchema: struct<company_id:int,subscriber_id:bigint,acct_id:bigint,acct_type:string,profile_acct:string,gu...\n",
      "      +- BroadcastExchange HashedRelationBroadcastMode(List(input[1, bigint, false], input[2, bigint, false]),false), [plan_id=64]\n",
      "         +- Filter (isnotnull(subscriber_id#79L) AND isnotnull(acct_id#80L))\n",
      "            +- FileScan csv [company_id#78,subscriber_id#79L,acct_id#80L,acct_type#81,profile_acct#82,guarantor_id#83,profile_id#84,activation_date#85,first_inv_date#86,account_desc#87,pin#88,secret_question#89,active_services#90,num_active_srv#91,num_tempdeact_srv#92,num_deact_srv#93,created_by_session#94L,modify_by_session#95,logically_deleted#96,row_status#97,row_created_time#98,row_modify_time#99] Batched: false, DataFilters: [isnotnull(subscriber_id#79L), isnotnull(acct_id#80L)], Format: CSV, Location: InMemoryFileIndex(1 paths)[file:/opt/data/ac_acct.csv], PartitionFilters: [], PushedFilters: [IsNotNull(subscriber_id), IsNotNull(acct_id)], ReadSchema: struct<company_id:int,subscriber_id:bigint,acct_id:bigint,acct_type:string,profile_acct:string,gu...\n",
      "\n"
     ]
    }
   ],
   "source": [
    "from pyspark.sql.functions import broadcast\n",
    "\n",
    "joined_broadcast = df1.join(broadcast(df2), on=[\"subscriber_id\", \"acct_id\"], how=\"inner\")\n",
    "joined_broadcast.explain(True)\n"
   ]
  },
  {
   "cell_type": "code",
   "execution_count": 4,
   "id": "ab3aed6a-ae27-4e9a-a112-afcf8b47f3a7",
   "metadata": {},
   "outputs": [
    {
     "name": "stdout",
     "output_type": "stream",
     "text": [
      "== Parsed Logical Plan ==\n",
      "'Join UsingJoin(LeftOuter, [subscriber_id, acct_id])\n",
      ":- Relation [company_id#17,subscriber_id#18L,acct_id#19L,acct_type#20,profile_acct#21,guarantor_id#22,profile_id#23,activation_date#24,first_inv_date#25,account_desc#26,pin#27,secret_question#28,active_services#29,num_active_srv#30,num_tempdeact_srv#31,num_deact_srv#32,created_by_session#33L,modify_by_session#34,logically_deleted#35,row_status#36,row_created_time#37,row_modify_time#38] csv\n",
      "+- Relation [company_id#78,subscriber_id#79L,acct_id#80L,acct_type#81,profile_acct#82,guarantor_id#83,profile_id#84,activation_date#85,first_inv_date#86,account_desc#87,pin#88,secret_question#89,active_services#90,num_active_srv#91,num_tempdeact_srv#92,num_deact_srv#93,created_by_session#94L,modify_by_session#95,logically_deleted#96,row_status#97,row_created_time#98,row_modify_time#99] csv\n",
      "\n",
      "== Analyzed Logical Plan ==\n",
      "subscriber_id: bigint, acct_id: bigint, company_id: int, acct_type: string, profile_acct: string, guarantor_id: string, profile_id: string, activation_date: string, first_inv_date: string, account_desc: string, pin: string, secret_question: string, active_services: string, num_active_srv: int, num_tempdeact_srv: int, num_deact_srv: int, created_by_session: bigint, modify_by_session: string, logically_deleted: string, row_status: string, row_created_time: string, row_modify_time: string, company_id: int, acct_type: string, ... 18 more fields\n",
      "Project [subscriber_id#18L, acct_id#19L, company_id#17, acct_type#20, profile_acct#21, guarantor_id#22, profile_id#23, activation_date#24, first_inv_date#25, account_desc#26, pin#27, secret_question#28, active_services#29, num_active_srv#30, num_tempdeact_srv#31, num_deact_srv#32, created_by_session#33L, modify_by_session#34, logically_deleted#35, row_status#36, row_created_time#37, row_modify_time#38, company_id#78, acct_type#81, ... 18 more fields]\n",
      "+- Join LeftOuter, ((subscriber_id#18L = subscriber_id#79L) AND (acct_id#19L = acct_id#80L))\n",
      "   :- Relation [company_id#17,subscriber_id#18L,acct_id#19L,acct_type#20,profile_acct#21,guarantor_id#22,profile_id#23,activation_date#24,first_inv_date#25,account_desc#26,pin#27,secret_question#28,active_services#29,num_active_srv#30,num_tempdeact_srv#31,num_deact_srv#32,created_by_session#33L,modify_by_session#34,logically_deleted#35,row_status#36,row_created_time#37,row_modify_time#38] csv\n",
      "   +- Relation [company_id#78,subscriber_id#79L,acct_id#80L,acct_type#81,profile_acct#82,guarantor_id#83,profile_id#84,activation_date#85,first_inv_date#86,account_desc#87,pin#88,secret_question#89,active_services#90,num_active_srv#91,num_tempdeact_srv#92,num_deact_srv#93,created_by_session#94L,modify_by_session#95,logically_deleted#96,row_status#97,row_created_time#98,row_modify_time#99] csv\n",
      "\n",
      "== Optimized Logical Plan ==\n",
      "Project [subscriber_id#18L, acct_id#19L, company_id#17, acct_type#20, profile_acct#21, guarantor_id#22, profile_id#23, activation_date#24, first_inv_date#25, account_desc#26, pin#27, secret_question#28, active_services#29, num_active_srv#30, num_tempdeact_srv#31, num_deact_srv#32, created_by_session#33L, modify_by_session#34, logically_deleted#35, row_status#36, row_created_time#37, row_modify_time#38, company_id#78, acct_type#81, ... 18 more fields]\n",
      "+- Join LeftOuter, ((subscriber_id#18L = subscriber_id#79L) AND (acct_id#19L = acct_id#80L))\n",
      "   :- Relation [company_id#17,subscriber_id#18L,acct_id#19L,acct_type#20,profile_acct#21,guarantor_id#22,profile_id#23,activation_date#24,first_inv_date#25,account_desc#26,pin#27,secret_question#28,active_services#29,num_active_srv#30,num_tempdeact_srv#31,num_deact_srv#32,created_by_session#33L,modify_by_session#34,logically_deleted#35,row_status#36,row_created_time#37,row_modify_time#38] csv\n",
      "   +- Filter (isnotnull(subscriber_id#79L) AND isnotnull(acct_id#80L))\n",
      "      +- Relation [company_id#78,subscriber_id#79L,acct_id#80L,acct_type#81,profile_acct#82,guarantor_id#83,profile_id#84,activation_date#85,first_inv_date#86,account_desc#87,pin#88,secret_question#89,active_services#90,num_active_srv#91,num_tempdeact_srv#92,num_deact_srv#93,created_by_session#94L,modify_by_session#95,logically_deleted#96,row_status#97,row_created_time#98,row_modify_time#99] csv\n",
      "\n",
      "== Physical Plan ==\n",
      "AdaptiveSparkPlan isFinalPlan=false\n",
      "+- Project [subscriber_id#18L, acct_id#19L, company_id#17, acct_type#20, profile_acct#21, guarantor_id#22, profile_id#23, activation_date#24, first_inv_date#25, account_desc#26, pin#27, secret_question#28, active_services#29, num_active_srv#30, num_tempdeact_srv#31, num_deact_srv#32, created_by_session#33L, modify_by_session#34, logically_deleted#35, row_status#36, row_created_time#37, row_modify_time#38, company_id#78, acct_type#81, ... 18 more fields]\n",
      "   +- BroadcastHashJoin [subscriber_id#18L, acct_id#19L], [subscriber_id#79L, acct_id#80L], LeftOuter, BuildRight, false\n",
      "      :- FileScan csv [company_id#17,subscriber_id#18L,acct_id#19L,acct_type#20,profile_acct#21,guarantor_id#22,profile_id#23,activation_date#24,first_inv_date#25,account_desc#26,pin#27,secret_question#28,active_services#29,num_active_srv#30,num_tempdeact_srv#31,num_deact_srv#32,created_by_session#33L,modify_by_session#34,logically_deleted#35,row_status#36,row_created_time#37,row_modify_time#38] Batched: false, DataFilters: [], Format: CSV, Location: InMemoryFileIndex(1 paths)[file:/opt/data/ac_subscriber.csv], PartitionFilters: [], PushedFilters: [], ReadSchema: struct<company_id:int,subscriber_id:bigint,acct_id:bigint,acct_type:string,profile_acct:string,gu...\n",
      "      +- BroadcastExchange HashedRelationBroadcastMode(List(input[1, bigint, false], input[2, bigint, false]),false), [plan_id=89]\n",
      "         +- Filter (isnotnull(subscriber_id#79L) AND isnotnull(acct_id#80L))\n",
      "            +- FileScan csv [company_id#78,subscriber_id#79L,acct_id#80L,acct_type#81,profile_acct#82,guarantor_id#83,profile_id#84,activation_date#85,first_inv_date#86,account_desc#87,pin#88,secret_question#89,active_services#90,num_active_srv#91,num_tempdeact_srv#92,num_deact_srv#93,created_by_session#94L,modify_by_session#95,logically_deleted#96,row_status#97,row_created_time#98,row_modify_time#99] Batched: false, DataFilters: [isnotnull(subscriber_id#79L), isnotnull(acct_id#80L)], Format: CSV, Location: InMemoryFileIndex(1 paths)[file:/opt/data/ac_acct.csv], PartitionFilters: [], PushedFilters: [IsNotNull(subscriber_id), IsNotNull(acct_id)], ReadSchema: struct<company_id:int,subscriber_id:bigint,acct_id:bigint,acct_type:string,profile_acct:string,gu...\n",
      "\n"
     ]
    }
   ],
   "source": [
    "joined = df1.join(df2, on=[\"subscriber_id\", \"acct_id\"], how=\"left\")\n",
    "joined.explain(True)"
   ]
  },
  {
   "cell_type": "code",
   "execution_count": 5,
   "id": "ff9cce7f-e8ec-45d5-a0ca-f9c93d679ddf",
   "metadata": {},
   "outputs": [
    {
     "name": "stdout",
     "output_type": "stream",
     "text": [
      "{'column': 'company_id', 'unique_values': 2, 'max_count': 125476, 'avg_count': 62791.0, 'skew_ratio': 2.0}\n",
      "{'column': 'subscriber_id', 'unique_values': 101403, 'max_count': 290, 'avg_count': 1.2384446219539855, 'skew_ratio': 234.16}\n",
      "{'column': 'acct_id', 'unique_values': 125582, 'max_count': 1, 'avg_count': 1.0, 'skew_ratio': 1.0}\n",
      "{'column': 'acct_type', 'unique_values': 2, 'max_count': 106912, 'avg_count': 62791.0, 'skew_ratio': 1.7}\n",
      "{'column': 'profile_acct', 'unique_values': 2, 'max_count': 101048, 'avg_count': 62791.0, 'skew_ratio': 1.61}\n",
      "{'column': 'guarantor_id', 'unique_values': 100768, 'max_count': 763, 'avg_count': 1.2462488091457606, 'skew_ratio': 612.24}\n",
      "{'column': 'profile_id', 'unique_values': 101049, 'max_count': 763, 'avg_count': 1.242783204188067, 'skew_ratio': 613.94}\n",
      "{'column': 'activation_date', 'unique_values': 6270, 'max_count': 275, 'avg_count': 20.02902711323764, 'skew_ratio': 13.73}\n",
      "{'column': 'first_inv_date', 'unique_values': 3175, 'max_count': 3388, 'avg_count': 39.55338582677165, 'skew_ratio': 85.66}\n",
      "{'column': 'account_desc', 'unique_values': 112713, 'max_count': 281, 'avg_count': 1.114174939891583, 'skew_ratio': 252.2}\n",
      "{'column': 'pin', 'unique_values': 4223, 'max_count': 118311, 'avg_count': 29.737627279185414, 'skew_ratio': 3978.49}\n",
      "{'column': 'secret_question', 'unique_values': 3, 'max_count': 90159, 'avg_count': 41860.666666666664, 'skew_ratio': 2.15}\n",
      "{'column': 'active_services', 'unique_values': 2, 'max_count': 67322, 'avg_count': 62791.0, 'skew_ratio': 1.07}\n",
      "{'column': 'num_active_srv', 'unique_values': 106, 'max_count': 67723, 'avg_count': 1184.7358490566037, 'skew_ratio': 57.16}\n",
      "{'column': 'num_tempdeact_srv', 'unique_values': 8, 'max_count': 125179, 'avg_count': 15697.75, 'skew_ratio': 7.97}\n",
      "{'column': 'num_deact_srv', 'unique_values': 100, 'max_count': 93927, 'avg_count': 1255.82, 'skew_ratio': 74.79}\n",
      "{'column': 'created_by_session', 'unique_values': 104629, 'max_count': 290, 'avg_count': 1.2002599661661681, 'skew_ratio': 241.61}\n",
      "{'column': 'modify_by_session', 'unique_values': 1, 'max_count': 125582, 'avg_count': 125582.0, 'skew_ratio': 1.0}\n",
      "{'column': 'logically_deleted', 'unique_values': 2, 'max_count': 125110, 'avg_count': 62791.0, 'skew_ratio': 1.99}\n",
      "{'column': 'row_status', 'unique_values': 4, 'max_count': 124818, 'avg_count': 31395.5, 'skew_ratio': 3.98}\n",
      "{'column': 'row_created_time', 'unique_values': 1, 'max_count': 125582, 'avg_count': 125582.0, 'skew_ratio': 1.0}\n",
      "{'column': 'row_modify_time', 'unique_values': 1, 'max_count': 125582, 'avg_count': 125582.0, 'skew_ratio': 1.0}\n"
     ]
    }
   ],
   "source": [
    "from pyspark.sql import functions as F\n",
    "\n",
    "def skew_ratio(df, col):\n",
    "    counts = df.groupBy(col).count()\n",
    "    stats = counts.agg(\n",
    "        F.max(\"count\").alias(\"max_count\"),\n",
    "        F.avg(\"count\").alias(\"avg_count\"),\n",
    "        F.count(\"count\").alias(\"unique_values\")\n",
    "    ).collect()[0]\n",
    "    \n",
    "    skew = stats[\"max_count\"] / stats[\"avg_count\"] if stats[\"avg_count\"] > 0 else 0\n",
    "    return {\n",
    "        \"column\": col,\n",
    "        \"unique_values\": stats[\"unique_values\"],\n",
    "        \"max_count\": stats[\"max_count\"],\n",
    "        \"avg_count\": stats[\"avg_count\"],\n",
    "        \"skew_ratio\": round(skew, 2)\n",
    "    }\n",
    "\n",
    "# Run for every column\n",
    "results = []\n",
    "for col in df1.columns:\n",
    "    results.append(skew_ratio(df1, col))\n",
    "\n",
    "# Show results\n",
    "for r in results:\n",
    "    print(r)"
   ]
  },
  {
   "cell_type": "code",
   "execution_count": 4,
   "id": "f251fd96-c1f2-4a90-b217-fb06d40ee6a5",
   "metadata": {},
   "outputs": [
    {
     "name": "stdout",
     "output_type": "stream",
     "text": [
      "+----+---+\n",
      "| pin|cnt|\n",
      "+----+---+\n",
      "|5925|  2|\n",
      "|1436|  2|\n",
      "| 467|  1|\n",
      "|9586|  1|\n",
      "|9009|  1|\n",
      "|2069|  1|\n",
      "|2088|  4|\n",
      "|7252|  1|\n",
      "| 829|  2|\n",
      "|7743|  2|\n",
      "|2464|  2|\n",
      "|3517|  2|\n",
      "|5067|  1|\n",
      "|3858|  2|\n",
      "|2110|  3|\n",
      "|7655|  2|\n",
      "|9975|  1|\n",
      "|8306|  1|\n",
      "|1746|  2|\n",
      "| 919|  1|\n",
      "+----+---+\n",
      "only showing top 20 rows\n",
      "\n"
     ]
    }
   ],
   "source": [
    "from pyspark.sql import functions as F\n",
    "\n",
    "grouped = df1.groupBy(\"pin\").agg(F.count(\"*\").alias(\"cnt\"))\n",
    "grouped.show()"
   ]
  },
  {
   "cell_type": "code",
   "execution_count": null,
   "id": "1fcba5ff-3931-425e-a431-90454fa4c142",
   "metadata": {},
   "outputs": [],
   "source": []
  }
 ],
 "metadata": {
  "kernelspec": {
   "display_name": "Python 3 (ipykernel)",
   "language": "python",
   "name": "python3"
  },
  "language_info": {
   "codemirror_mode": {
    "name": "ipython",
    "version": 3
   },
   "file_extension": ".py",
   "mimetype": "text/x-python",
   "name": "python",
   "nbconvert_exporter": "python",
   "pygments_lexer": "ipython3",
   "version": "3.9.2"
  }
 },
 "nbformat": 4,
 "nbformat_minor": 5
}
