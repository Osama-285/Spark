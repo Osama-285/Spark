{
 "cells": [
  {
   "cell_type": "code",
   "execution_count": 1,
   "id": "41457af3-580e-4a2f-93bd-db2801e222b5",
   "metadata": {},
   "outputs": [
    {
     "data": {
      "text/html": [
       "\n",
       "            <div>\n",
       "                <p><b>SparkSession - in-memory</b></p>\n",
       "                \n",
       "        <div>\n",
       "            <p><b>SparkContext</b></p>\n",
       "\n",
       "            <p><a href=\"http://25980bb9571e:4040\">Spark UI</a></p>\n",
       "\n",
       "            <dl>\n",
       "              <dt>Version</dt>\n",
       "                <dd><code>v3.5.3</code></dd>\n",
       "              <dt>Master</dt>\n",
       "                <dd><code>local[*]</code></dd>\n",
       "              <dt>AppName</dt>\n",
       "                <dd><code>Data Quality</code></dd>\n",
       "            </dl>\n",
       "        </div>\n",
       "        \n",
       "            </div>\n",
       "        "
      ],
      "text/plain": [
       "<pyspark.sql.session.SparkSession at 0x75be46775b20>"
      ]
     },
     "execution_count": 1,
     "metadata": {},
     "output_type": "execute_result"
    }
   ],
   "source": [
    "from pyspark.sql import SparkSession\n",
    "\n",
    "spark = SparkSession.builder.appName(\"Data Quality\").getOrCreate()\n",
    "spark\n"
   ]
  },
  {
   "cell_type": "code",
   "execution_count": 5,
   "id": "bd40ef85-0ad5-42d9-8da0-5bf18007e37c",
   "metadata": {},
   "outputs": [],
   "source": [
    "from pyspark.sql import SparkSession\n",
    "from pyspark.sql.functions import col\n",
    "import random\n",
    "\n",
    "# Start Spark session\n",
    "spark = SparkSession.builder.appName(\"FakeTrainingData\").getOrCreate()\n",
    "\n",
    "# Generate fake data\n",
    "data = [\n",
    "    (44, 9, 21.0),\n",
    "    (10, 5, 53.0),\n",
    "    (37, 6, 80.0),\n",
    "    (19, 10, 11.0),\n",
    "    (46, 13, 215.0)\n",
    "]\n",
    "\n",
    "# Add more rows to reach 543 samples\n",
    "for _ in range(543 - len(data)):\n",
    "    totalAdClicks = random.randint(1, 60)\n",
    "    totalBuyClicks = random.randint(1, 15)\n",
    "    totalRevenue = round(random.uniform(5, 250), 1)\n",
    "    data.append((totalAdClicks, totalBuyClicks, totalRevenue))\n",
    "\n",
    "# Define schema\n",
    "columns = [\"SumAddClicks\", \"SumBuyClicks\", \"Revenue\"]\n",
    "\n",
    "\n"
   ]
  },
  {
   "cell_type": "code",
   "execution_count": 6,
   "id": "58fd1538-d214-45a4-82aa-b581b58e79cf",
   "metadata": {},
   "outputs": [
    {
     "name": "stdout",
     "output_type": "stream",
     "text": [
      "+------------+------------+-------+\n",
      "|SumAddClicks|SumBuyClicks|Revenue|\n",
      "+------------+------------+-------+\n",
      "|          44|           9|   21.0|\n",
      "|          10|           5|   53.0|\n",
      "|          37|           6|   80.0|\n",
      "|          19|          10|   11.0|\n",
      "|          46|          13|  215.0|\n",
      "+------------+------------+-------+\n",
      "only showing top 5 rows\n",
      "\n",
      "(543, 3)\n"
     ]
    }
   ],
   "source": [
    "trainingDF = spark.createDataFrame(data, columns)\n",
    "\n",
    "# Show first 5 rows\n",
    "trainingDF.show(5)\n",
    "\n",
    "# Show dimensions (rows, columns)\n",
    "rows = trainingDF.count()\n",
    "cols = len(trainingDF.columns)\n",
    "print((rows, cols))"
   ]
  },
  {
   "cell_type": "code",
   "execution_count": 7,
   "id": "bf0c8f1a-58f6-4abe-b138-d6dffe990cc1",
   "metadata": {},
   "outputs": [
    {
     "ename": "AttributeError",
     "evalue": "'int' object has no attribute 'shape'",
     "output_type": "error",
     "traceback": [
      "\u001b[0;31m---------------------------------------------------------------------------\u001b[0m",
      "\u001b[0;31mAttributeError\u001b[0m                            Traceback (most recent call last)",
      "Cell \u001b[0;32mIn[7], line 1\u001b[0m\n\u001b[0;32m----> 1\u001b[0m \u001b[43mrows\u001b[49m\u001b[38;5;241;43m.\u001b[39;49m\u001b[43mshape\u001b[49m()\n",
      "\u001b[0;31mAttributeError\u001b[0m: 'int' object has no attribute 'shape'"
     ]
    }
   ],
   "source": [
    "rows.shape()"
   ]
  },
  {
   "cell_type": "code",
   "execution_count": null,
   "id": "b68dda5f-9e3f-4edd-846d-653429095c87",
   "metadata": {},
   "outputs": [],
   "source": []
  }
 ],
 "metadata": {
  "kernelspec": {
   "display_name": "Python 3 (ipykernel)",
   "language": "python",
   "name": "python3"
  },
  "language_info": {
   "codemirror_mode": {
    "name": "ipython",
    "version": 3
   },
   "file_extension": ".py",
   "mimetype": "text/x-python",
   "name": "python",
   "nbconvert_exporter": "python",
   "pygments_lexer": "ipython3",
   "version": "3.9.2"
  }
 },
 "nbformat": 4,
 "nbformat_minor": 5
}
