{
 "cells": [
  {
   "cell_type": "code",
   "execution_count": 1,
   "id": "3086e740-9107-4ec8-8a82-40a406704521",
   "metadata": {},
   "outputs": [
    {
     "data": {
      "text/html": [
       "\n",
       "            <div>\n",
       "                <p><b>SparkSession - in-memory</b></p>\n",
       "                \n",
       "        <div>\n",
       "            <p><b>SparkContext</b></p>\n",
       "\n",
       "            <p><a href=\"http://f5838d8c3611:4040\">Spark UI</a></p>\n",
       "\n",
       "            <dl>\n",
       "              <dt>Version</dt>\n",
       "                <dd><code>v3.5.3</code></dd>\n",
       "              <dt>Master</dt>\n",
       "                <dd><code>local[*]</code></dd>\n",
       "              <dt>AppName</dt>\n",
       "                <dd><code>CSV Reads Optimization</code></dd>\n",
       "            </dl>\n",
       "        </div>\n",
       "        \n",
       "            </div>\n",
       "        "
      ],
      "text/plain": [
       "<pyspark.sql.session.SparkSession at 0x7f99f5044df0>"
      ]
     },
     "execution_count": 1,
     "metadata": {},
     "output_type": "execute_result"
    }
   ],
   "source": [
    "from pyspark.sql import SparkSession\n",
    "\n",
    "spark = SparkSession.builder.appName(\"CSV Reads Optimization\").master(\"local[*]\").getOrCreate()\n",
    "\n",
    "spark"
   ]
  },
  {
   "cell_type": "code",
   "execution_count": 2,
   "id": "0cd584dd-b162-4a30-b31d-822dc2785f68",
   "metadata": {},
   "outputs": [],
   "source": [
    "\n",
    "\n",
    "# In Spark, execution is broken into **Jobs, Stages, and Tasks**:\n",
    "\n",
    "# * **Job**:\n",
    "#   A job is triggered by an **action** (like `count()`, `show()`, `collect()`, `write()`).\n",
    "#   Example: calling `df.count()` triggers one job.\n",
    "\n",
    "# * **Stage**:\n",
    "#   Each job is divided into stages, which are separated by **shuffle boundaries**.\n",
    "#   If an operation requires data to be moved across partitions (e.g., `groupBy`, `join`), a new stage is created.\n",
    "#   Example: `df.groupBy(\"city\").count()` creates multiple stages because Spark must shuffle rows by `city`.\n",
    "\n",
    "# * **Task**:\n",
    "#   A task is the **smallest unit of execution**, and there is one task per partition of the data in a stage.\n",
    "#   Tasks are what actually run on executors in parallel.\n",
    "#   Example: if a stage operates on a file split into 8 partitions, Spark creates 8 tasks.\n",
    "\n",
    "\n",
    "# **One job → multiple stages (if shuffles are needed) → multiple tasks (one per partition per stage).**\n",
    "\n",
    "# “If I read a CSV with 7 partitions and run `df.count()`, Spark will create **1 job**, with **1 stage** (because no shuffle is needed), and **7 tasks** (one per partition).\n",
    "\n",
    "# If I do a `groupBy` on that DataFrame, Spark will create **1 job**, split into **2 stages** — one stage to read and map data, and another stage after shuffle to aggregate. Each stage again breaks into tasks, based on the number of partitions.”\n",
    "\n",
    "# ---\n",
    "\n",
    "# ## ✅ Key Takeaway (good one-liner for interviews)\n",
    "\n",
    "# * **Job = action**\n",
    "# * **Stage = set of transformations without shuffle**\n",
    "# * **Task = work done on a single partition**\n",
    "\n",
    "# This Action create 7 tasks, 2 jobs and 2 stages\n",
    "\n",
    "df = spark.read.csv(\"/opt/data/ncr_ride_bookings.csv\", header=True, inferSchema=True)"
   ]
  },
  {
   "cell_type": "code",
   "execution_count": 3,
   "id": "7ea90927-d032-4f94-ad83-586962c3bf97",
   "metadata": {},
   "outputs": [
    {
     "name": "stdout",
     "output_type": "stream",
     "text": [
      "+----------+-------------------+----------------+--------------------+----------------+-------------+-------------------+-----------------+--------+--------+---------------------------+---------------------------------+-------------------------+--------------------------+----------------+-----------------------+-------------+-------------+--------------+---------------+--------------+\n",
      "|      Date|               Time|      Booking ID|      Booking Status|     Customer ID| Vehicle Type|    Pickup Location|    Drop Location|Avg VTAT|Avg CTAT|Cancelled Rides by Customer|Reason for cancelling by Customer|Cancelled Rides by Driver|Driver Cancellation Reason|Incomplete Rides|Incomplete Rides Reason|Booking Value|Ride Distance|Driver Ratings|Customer Rating|Payment Method|\n",
      "+----------+-------------------+----------------+--------------------+----------------+-------------+-------------------+-----------------+--------+--------+---------------------------+---------------------------------+-------------------------+--------------------------+----------------+-----------------------+-------------+-------------+--------------+---------------+--------------+\n",
      "|2024-03-23|2025-09-13 12:29:38|\"\"\"CNR5884300\"\"\"|     No Driver Found|\"\"\"CID1982111\"\"\"|        eBike|        Palam Vihar|          Jhilmil|    null|    null|                       null|                             null|                     null|                      null|            null|                   null|         null|         null|          null|           null|          null|\n",
      "|2024-11-29|2025-09-13 18:01:39|\"\"\"CNR1326809\"\"\"|          Incomplete|\"\"\"CID4604802\"\"\"|     Go Sedan|      Shastri Nagar|Gurgaon Sector 56|     4.9|    14.0|                       null|                             null|                     null|                      null|               1|      Vehicle Breakdown|          237|         5.73|          null|           null|           UPI|\n",
      "|2024-08-23|2025-09-13 08:56:10|\"\"\"CNR8494506\"\"\"|           Completed|\"\"\"CID9202816\"\"\"|         Auto|            Khandsa|    Malviya Nagar|    13.4|    25.8|                       null|                             null|                     null|                      null|            null|                   null|          627|        13.58|           4.9|            4.9|    Debit Card|\n",
      "|2024-10-21|2025-09-13 17:17:25|\"\"\"CNR8906825\"\"\"|           Completed|\"\"\"CID2610914\"\"\"|Premier Sedan|Central Secretariat|         Inderlok|    13.1|    28.5|                       null|                             null|                     null|                      null|            null|                   null|          416|        34.02|           4.6|            5.0|           UPI|\n",
      "|2024-09-16|2025-09-13 22:08:00|\"\"\"CNR1950162\"\"\"|           Completed|\"\"\"CID9933542\"\"\"|         Bike|   Ghitorni Village|      Khan Market|     5.3|    19.6|                       null|                             null|                     null|                      null|            null|                   null|          737|        48.21|           4.1|            4.3|           UPI|\n",
      "|2024-02-06|2025-09-13 09:44:56|\"\"\"CNR4096693\"\"\"|           Completed|\"\"\"CID4670564\"\"\"|         Auto|              AIIMS|      Narsinghpur|     5.1|    18.1|                       null|                             null|                     null|                      null|            null|                   null|          316|         4.85|           4.1|            4.6|           UPI|\n",
      "|2024-06-17|2025-09-13 15:45:58|\"\"\"CNR2002539\"\"\"|           Completed|\"\"\"CID6800553\"\"\"|      Go Mini|           Vaishali|     Punjabi Bagh|     7.1|    20.4|                       null|                             null|                     null|                      null|            null|                   null|          640|        41.24|           4.0|            4.1|           UPI|\n",
      "|2024-03-19|2025-09-13 17:37:37|\"\"\"CNR6568000\"\"\"|           Completed|\"\"\"CID8610436\"\"\"|         Auto|        Mayur Vihar|        Cyber Hub|    12.1|    16.5|                       null|                             null|                     null|                      null|            null|                   null|          136|         6.56|           4.4|            4.2|           UPI|\n",
      "|2024-09-14|2025-09-13 12:49:09|\"\"\"CNR4510807\"\"\"|     No Driver Found|\"\"\"CID7873618\"\"\"|     Go Sedan|    Noida Sector 62|  Noida Sector 18|    null|    null|                       null|                             null|                     null|                      null|            null|                   null|         null|         null|          null|           null|          null|\n",
      "|2024-12-16|2025-09-13 19:06:48|\"\"\"CNR7721892\"\"\"|          Incomplete|\"\"\"CID5214275\"\"\"|         Auto|             Rohini|     Adarsh Nagar|     6.1|    26.0|                       null|                             null|                     null|                      null|               1|            Other Issue|          135|        10.36|          null|           null|          Cash|\n",
      "|2024-06-14|2025-09-13 16:24:12|\"\"\"CNR9070334\"\"\"|           Completed|\"\"\"CID6680340\"\"\"|         Auto|       Udyog Bhawan| Dwarka Sector 21|     7.7|    18.9|                       null|                             null|                     null|                      null|            null|                   null|          181|        19.84|           4.2|            4.9|          Cash|\n",
      "|2024-09-18|2025-09-13 08:09:38|\"\"\"CNR9551927\"\"\"|     No Driver Found|\"\"\"CID7568143\"\"\"|         Auto|       Vidhan Sabha|            AIIMS|    null|    null|                       null|                             null|                     null|                      null|            null|                   null|         null|         null|          null|           null|          null|\n",
      "|2024-06-25|2025-09-13 22:44:15|\"\"\"CNR4386945\"\"\"| Cancelled by Driver|\"\"\"CID5543520\"\"\"|        eBike|        Patel Chowk|Kherki Daula Toll|     4.6|    null|                       null|                             null|                        1|      Personal & Car re...|            null|                   null|         null|         null|          null|           null|          null|\n",
      "|2024-09-11|2025-09-13 19:29:39|\"\"\"CNR2987763\"\"\"|           Completed|\"\"\"CID2669710\"\"\"|      Go Mini|      Malviya Nagar| Ghitorni Village|    12.2|    28.2|                       null|                             null|                     null|                      null|            null|                   null|          394|        21.44|           4.1|            4.7|           UPI|\n",
      "|2024-10-18|2025-09-13 18:28:53|\"\"\"CNR8962232\"\"\"|           Completed|\"\"\"CID1789354\"\"\"|      Go Mini|            Madipur|        GTB Nagar|    14.0|    30.9|                       null|                             null|                     null|                      null|            null|                   null|          836|        39.55|           4.7|            4.4|           UPI|\n",
      "|2024-06-07|2025-09-13 15:05:35|\"\"\"CNR2390352\"\"\"|           Completed|\"\"\"CID5432215\"\"\"|         Auto|        Jama Masjid|      Khan Market|     8.5|    36.9|                       null|                             null|                     null|                      null|            null|                   null|          410|        34.76|           4.0|            4.9|   Uber Wallet|\n",
      "|2024-07-01|2025-09-13 10:51:16|\"\"\"CNR3221338\"\"\"|           Completed|\"\"\"CID2581698\"\"\"|Premier Sedan|        IGI Airport|          Madipur|     5.6|    27.5|                       null|                             null|                     null|                      null|            null|                   null|          401|        21.97|           4.9|            4.3|           UPI|\n",
      "|2024-12-15|2025-09-13 15:08:25|\"\"\"CNR6739317\"\"\"| Cancelled by Driver|\"\"\"CID8682675\"\"\"|     Go Sedan|         Vinobapuri|        GTB Nagar|     6.0|    null|                       null|                             null|                        1|      Customer related ...|            null|                   null|         null|         null|          null|           null|          null|\n",
      "|2024-11-24|2025-09-13 09:07:10|\"\"\"CNR6126048\"\"\"|Cancelled by Cust...|\"\"\"CID1060329\"\"\"|        eBike|      Kashmere Gate|      Anand Vihar|    12.4|    null|                          1|             Driver is not mov...|                     null|                      null|            null|                   null|         null|         null|          null|           null|          null|\n",
      "|2024-05-24|2025-09-13 19:53:57|\"\"\"CNR9465840\"\"\"| Cancelled by Driver|\"\"\"CID9046501\"\"\"|        eBike|          Pitampura|      Rajiv Nagar|    10.3|    null|                       null|                             null|                        1|      Customer related ...|            null|                   null|         null|         null|          null|           null|          null|\n",
      "+----------+-------------------+----------------+--------------------+----------------+-------------+-------------------+-----------------+--------+--------+---------------------------+---------------------------------+-------------------------+--------------------------+----------------+-----------------------+-------------+-------------+--------------+---------------+--------------+\n",
      "only showing top 20 rows\n",
      "\n"
     ]
    }
   ],
   "source": [
    "df.show()"
   ]
  },
  {
   "cell_type": "code",
   "execution_count": 3,
   "id": "47b49328-7276-43cc-9fb0-5b03558182a3",
   "metadata": {},
   "outputs": [
    {
     "name": "stdout",
     "output_type": "stream",
     "text": [
      "root\n",
      " |-- Date: date (nullable = true)\n",
      " |-- Time: timestamp (nullable = true)\n",
      " |-- Booking ID: string (nullable = true)\n",
      " |-- Booking Status: string (nullable = true)\n",
      " |-- Customer ID: string (nullable = true)\n",
      " |-- Vehicle Type: string (nullable = true)\n",
      " |-- Pickup Location: string (nullable = true)\n",
      " |-- Drop Location: string (nullable = true)\n",
      " |-- Avg VTAT: string (nullable = true)\n",
      " |-- Avg CTAT: string (nullable = true)\n",
      " |-- Cancelled Rides by Customer: string (nullable = true)\n",
      " |-- Reason for cancelling by Customer: string (nullable = true)\n",
      " |-- Cancelled Rides by Driver: string (nullable = true)\n",
      " |-- Driver Cancellation Reason: string (nullable = true)\n",
      " |-- Incomplete Rides: string (nullable = true)\n",
      " |-- Incomplete Rides Reason: string (nullable = true)\n",
      " |-- Booking Value: string (nullable = true)\n",
      " |-- Ride Distance: string (nullable = true)\n",
      " |-- Driver Ratings: string (nullable = true)\n",
      " |-- Customer Rating: string (nullable = true)\n",
      " |-- Payment Method: string (nullable = true)\n",
      "\n"
     ]
    }
   ],
   "source": [
    "df.printSchema()"
   ]
  },
  {
   "cell_type": "code",
   "execution_count": 5,
   "id": "9db2582b-ffaa-42bd-a645-65b1ee12c1bc",
   "metadata": {},
   "outputs": [
    {
     "data": {
      "text/plain": [
       "True"
      ]
     },
     "execution_count": 5,
     "metadata": {},
     "output_type": "execute_result"
    }
   ],
   "source": [
    "# Check DF Type\n",
    "from pyspark.sql import DataFrame\n",
    "\n",
    "# Assume df is your object\n",
    "isinstance(df, DataFrame) "
   ]
  },
  {
   "cell_type": "code",
   "execution_count": 6,
   "id": "294e1e76-83d6-41d6-ae96-e88572494781",
   "metadata": {},
   "outputs": [
    {
     "name": "stdout",
     "output_type": "stream",
     "text": [
      "+----+----+----------+--------------+-----------+------------+---------------+-------------+--------+--------+---------------------------+---------------------------------+-------------------------+--------------------------+----------------+-----------------------+-------------+-------------+--------------+---------------+--------------+\n",
      "|Date|Time|Booking ID|Booking Status|Customer ID|Vehicle Type|Pickup Location|Drop Location|Avg VTAT|Avg CTAT|Cancelled Rides by Customer|Reason for cancelling by Customer|Cancelled Rides by Driver|Driver Cancellation Reason|Incomplete Rides|Incomplete Rides Reason|Booking Value|Ride Distance|Driver Ratings|Customer Rating|Payment Method|\n",
      "+----+----+----------+--------------+-----------+------------+---------------+-------------+--------+--------+---------------------------+---------------------------------+-------------------------+--------------------------+----------------+-----------------------+-------------+-------------+--------------+---------------+--------------+\n",
      "| 0.0| 0.0|       0.0|           0.0|        0.0|         0.0|            0.0|          0.0|     0.0|     0.0|                        0.0|                              0.0|                      0.0|                       0.0|             0.0|                    0.0|          0.0|          0.0|           0.0|            0.0|           0.0|\n",
      "+----+----+----------+--------------+-----------+------------+---------------+-------------+--------+--------+---------------------------+---------------------------------+-------------------------+--------------------------+----------------+-----------------------+-------------+-------------+--------------+---------------+--------------+\n",
      "\n"
     ]
    }
   ],
   "source": [
    "from pyspark.sql.functions import col, count, when\n",
    "\n",
    "total_count = df.count()\n",
    "null_stats = df.select([\n",
    "    (count(when(col(c).isNull(), c)) / total_count).alias(c) for c in df.columns\n",
    "])\n",
    "\n",
    "null_stats.show()\n"
   ]
  },
  {
   "cell_type": "code",
   "execution_count": 7,
   "id": "5d885175-5e4e-447b-ba95-80b261014722",
   "metadata": {},
   "outputs": [
    {
     "data": {
      "text/plain": [
       "[Row(Date=datetime.date(2024, 3, 23), Time=datetime.datetime(2025, 9, 13, 12, 29, 38), Booking ID='\"\"\"CNR5884300\"\"\"', Booking Status='No Driver Found', Customer ID='\"\"\"CID1982111\"\"\"', Vehicle Type='eBike', Pickup Location='Palam Vihar', Drop Location='Jhilmil', Avg VTAT='null', Avg CTAT='null', Cancelled Rides by Customer='null', Reason for cancelling by Customer='null', Cancelled Rides by Driver='null', Driver Cancellation Reason='null', Incomplete Rides='null', Incomplete Rides Reason='null', Booking Value='null', Ride Distance='null', Driver Ratings='null', Customer Rating='null', Payment Method='null'),\n",
       " Row(Date=datetime.date(2024, 11, 29), Time=datetime.datetime(2025, 9, 13, 18, 1, 39), Booking ID='\"\"\"CNR1326809\"\"\"', Booking Status='Incomplete', Customer ID='\"\"\"CID4604802\"\"\"', Vehicle Type='Go Sedan', Pickup Location='Shastri Nagar', Drop Location='Gurgaon Sector 56', Avg VTAT='4.9', Avg CTAT='14.0', Cancelled Rides by Customer='null', Reason for cancelling by Customer='null', Cancelled Rides by Driver='null', Driver Cancellation Reason='null', Incomplete Rides='1', Incomplete Rides Reason='Vehicle Breakdown', Booking Value='237', Ride Distance='5.73', Driver Ratings='null', Customer Rating='null', Payment Method='UPI'),\n",
       " Row(Date=datetime.date(2024, 8, 23), Time=datetime.datetime(2025, 9, 13, 8, 56, 10), Booking ID='\"\"\"CNR8494506\"\"\"', Booking Status='Completed', Customer ID='\"\"\"CID9202816\"\"\"', Vehicle Type='Auto', Pickup Location='Khandsa', Drop Location='Malviya Nagar', Avg VTAT='13.4', Avg CTAT='25.8', Cancelled Rides by Customer='null', Reason for cancelling by Customer='null', Cancelled Rides by Driver='null', Driver Cancellation Reason='null', Incomplete Rides='null', Incomplete Rides Reason='null', Booking Value='627', Ride Distance='13.58', Driver Ratings='4.9', Customer Rating='4.9', Payment Method='Debit Card'),\n",
       " Row(Date=datetime.date(2024, 10, 21), Time=datetime.datetime(2025, 9, 13, 17, 17, 25), Booking ID='\"\"\"CNR8906825\"\"\"', Booking Status='Completed', Customer ID='\"\"\"CID2610914\"\"\"', Vehicle Type='Premier Sedan', Pickup Location='Central Secretariat', Drop Location='Inderlok', Avg VTAT='13.1', Avg CTAT='28.5', Cancelled Rides by Customer='null', Reason for cancelling by Customer='null', Cancelled Rides by Driver='null', Driver Cancellation Reason='null', Incomplete Rides='null', Incomplete Rides Reason='null', Booking Value='416', Ride Distance='34.02', Driver Ratings='4.6', Customer Rating='5.0', Payment Method='UPI'),\n",
       " Row(Date=datetime.date(2024, 9, 16), Time=datetime.datetime(2025, 9, 13, 22, 8), Booking ID='\"\"\"CNR1950162\"\"\"', Booking Status='Completed', Customer ID='\"\"\"CID9933542\"\"\"', Vehicle Type='Bike', Pickup Location='Ghitorni Village', Drop Location='Khan Market', Avg VTAT='5.3', Avg CTAT='19.6', Cancelled Rides by Customer='null', Reason for cancelling by Customer='null', Cancelled Rides by Driver='null', Driver Cancellation Reason='null', Incomplete Rides='null', Incomplete Rides Reason='null', Booking Value='737', Ride Distance='48.21', Driver Ratings='4.1', Customer Rating='4.3', Payment Method='UPI')]"
      ]
     },
     "execution_count": 7,
     "metadata": {},
     "output_type": "execute_result"
    }
   ],
   "source": [
    "df.head(5)"
   ]
  },
  {
   "cell_type": "code",
   "execution_count": 4,
   "id": "6340578e-d99f-4a8a-a813-82446ba272de",
   "metadata": {},
   "outputs": [
    {
     "data": {
      "text/plain": [
       "7"
      ]
     },
     "execution_count": 4,
     "metadata": {},
     "output_type": "execute_result"
    }
   ],
   "source": [
    "df.rdd.getNumPartitions()"
   ]
  },
  {
   "cell_type": "code",
   "execution_count": null,
   "id": "79cf3353-95e4-45f7-aa8b-ddea836ffd5f",
   "metadata": {},
   "outputs": [],
   "source": [
    "df.write.partitionBy(\"Date\", \"Vehicle Type\").parquet(\"/opt/output/partitioned_rides\")\n"
   ]
  },
  {
   "cell_type": "code",
   "execution_count": 4,
   "id": "878015d9-980f-4593-b27f-57ec316eaef1",
   "metadata": {},
   "outputs": [],
   "source": [
    "df.write.bucketBy(16, \"Customer ID\").sortBy(\"Customer ID\").saveAsTable(\"bucketed_rides\")"
   ]
  },
  {
   "cell_type": "code",
   "execution_count": null,
   "id": "f5273e86-e0c0-4370-bd8f-90975f104a56",
   "metadata": {},
   "outputs": [],
   "source": []
  }
 ],
 "metadata": {
  "kernelspec": {
   "display_name": "Python 3 (ipykernel)",
   "language": "python",
   "name": "python3"
  },
  "language_info": {
   "codemirror_mode": {
    "name": "ipython",
    "version": 3
   },
   "file_extension": ".py",
   "mimetype": "text/x-python",
   "name": "python",
   "nbconvert_exporter": "python",
   "pygments_lexer": "ipython3",
   "version": "3.9.2"
  }
 },
 "nbformat": 4,
 "nbformat_minor": 5
}
